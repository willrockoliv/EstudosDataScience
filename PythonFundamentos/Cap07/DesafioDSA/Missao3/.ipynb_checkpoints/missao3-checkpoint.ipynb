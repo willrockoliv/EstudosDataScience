{
 "cells": [
  {
   "cell_type": "markdown",
   "metadata": {},
   "source": [
    "# <font color='blue'>Data Science Academy - Python Fundamentos - Capítulo 7</font>\n",
    "\n",
    "## Download: http://github.com/dsacademybr"
   ]
  },
  {
   "cell_type": "markdown",
   "metadata": {},
   "source": [
    "## Missão: Implementar um algoritmo para mover um robô do canto superior esquerdo para o canto inferior direito de uma grade."
   ]
  },
  {
   "cell_type": "markdown",
   "metadata": {},
   "source": [
    "## Nível de Dificuldade: Médio"
   ]
  },
  {
   "cell_type": "markdown",
   "metadata": {},
   "source": [
    "## Premissas\n",
    "\n",
    "* Existem restrições de como o robô se move?\n",
    "     * O robô só pode se mover para a direita e para baixo\n",
    "* Algumas células são inválidas (fora dos limites)?\n",
    "     * Sim\n",
    "* Podemos supor que as células inicial e final são células válidas?\n",
    "     * Sim\n",
    "* Isso é uma grade retangular? ou seja, a grade não é irregular?\n",
    "     * Sim\n",
    "* Haverá sempre uma maneira válida para o robô chegar ao canto inferior direito?\n",
    "     * Não, retorno None\n",
    "* Podemos assumir que as entradas são válidas?\n",
    "     * Não\n",
    "* Podemos supor que isso se encaixa na memória?\n",
    "     * Sim"
   ]
  },
  {
   "cell_type": "markdown",
   "metadata": {},
   "source": [
    "## Teste Cases\n",
    "\n",
    "<pre>\n",
    "o = célula válida\n",
    "x = célula inválida\n",
    "\n",
    "   0  1  2  3\n",
    "0  o  o  o  o\n",
    "1  o  x  o  o\n",
    "2  o  o  x  o\n",
    "3  x  o  o  o\n",
    "4  o  o  x  o\n",
    "5  o  o  o  x\n",
    "6  o  x  o  x\n",
    "7  o  x  o  o\n",
    "</pre>\n",
    "\n",
    "* Caso geral\n",
    "\n",
    "```\n",
    "Saída esperada = [(0, 0), (1, 0), (2, 0),\n",
    "                  (2, 1), (3, 1), (4, 1),\n",
    "                  (5, 1), (5, 2), (6, 2), \n",
    "                  (7, 2), (7, 3)]\n",
    "```\n",
    "\n",
    "* Nenhum caminho válido, por exemplo, linha 7, col 2 é inválido\n",
    "* Nenhuma entrada\n",
    "* Matriz vazia"
   ]
  },
  {
   "cell_type": "markdown",
   "metadata": {},
   "source": [
    "## Solução"
   ]
  },
  {
   "cell_type": "code",
   "execution_count": 20,
   "metadata": {},
   "outputs": [],
   "source": [
    "class Grid(object):\n",
    "\n",
    "    def find_path(self, matrix):\n",
    "        # Implemente aqui sua solução\n",
    "        \n",
    "        if matrix is None:\n",
    "            return None\n",
    "        \n",
    "        if len(matrix) == 0:\n",
    "            return None\n",
    "        \n",
    "        if len(matrix[len(matrix)-1]) == 0:\n",
    "            return None\n",
    "        \n",
    "        def random_next_step(matrix, previous_step):\n",
    "            import random\n",
    "            test=True\n",
    "            last_y = len(matrix)-1\n",
    "            last_x = len(matrix[last_y])-1\n",
    "            while(test):\n",
    "                if previous_step[0]==last_y:\n",
    "                    y = last_y\n",
    "                else:\n",
    "                    y = random.randrange(previous_step[0], previous_step[0] + 2)\n",
    "\n",
    "                if previous_step[1]==last_x:\n",
    "                    x = last_x\n",
    "                else:\n",
    "                    x = random.randrange(previous_step[1], previous_step[1] + 2)\n",
    "\n",
    "                if not ((y==previous_step[0]) & (x==previous_step[1])): #diferente do passo anterior\n",
    "                        if not ((y==previous_step[0]+1) & (x==previous_step[1]+1)): #diagonal não vale\n",
    "                            test = False\n",
    "            return (y,x)\n",
    "        \n",
    "        def test_end(matrix, step):\n",
    "            last_y = len(matrix)-1\n",
    "            last_x = len(matrix[last_y])-1\n",
    "\n",
    "            if (last_y==step[0]) & (last_x==step[1]):\n",
    "                if matrix[last_y][last_x] == 0:\n",
    "                    return None\n",
    "                else:\n",
    "                    return True\n",
    "            else:\n",
    "                return False\n",
    "            \n",
    "        def break_loop(attempts):\n",
    "            if attempts == 100:\n",
    "                return True\n",
    "            else:\n",
    "                return False\n",
    "            \n",
    "        end = False\n",
    "        attempts = 0\n",
    "        attempts_bkp = 0\n",
    "        step_list = [(0,0)]\n",
    "\n",
    "        while(end==False):\n",
    "            valid_cell = False\n",
    "            while(valid_cell==False):\n",
    "                step = random_next_step(matrix,step_list[len(step_list)-1])\n",
    "\n",
    "                if (matrix[step[0]][step[1]] == 1):\n",
    "                    valid_cell=True\n",
    "\n",
    "                if break_loop(attempts):\n",
    "                    break        \n",
    "                attempts = attempts + 1\n",
    "\n",
    "            step_list.append(step)\n",
    "            \n",
    "            if test_end(matrix,step) is None:\n",
    "                step_list == None\n",
    "                end = True\n",
    "            elif test_end(matrix,step):\n",
    "                end = True\n",
    "\n",
    "            if break_loop(attempts):\n",
    "                step_list = [(0,0)]\n",
    "                attempts = -1\n",
    "            \n",
    "            attempts = attempts + 1\n",
    "            \n",
    "            if break_loop(attempts_bkp):\n",
    "                step_list = None\n",
    "                end = True\n",
    "            \n",
    "            attempts_bkp = attempts_bkp + 1\n",
    "\n",
    "        return step_list"
   ]
  },
  {
   "cell_type": "markdown",
   "metadata": {},
   "source": [
    "## Teste da Solução"
   ]
  },
  {
   "cell_type": "code",
   "execution_count": 22,
   "metadata": {},
   "outputs": [
    {
     "name": "stdout",
     "output_type": "stream",
     "text": [
      "Overwriting missao3.py\n"
     ]
    }
   ],
   "source": [
    "%%writefile missao3.py\n",
    "from nose.tools import assert_equal\n",
    "\n",
    "\n",
    "class TestGridPath(object):\n",
    "\n",
    "    def test_grid_path(self):\n",
    "        grid = Grid()\n",
    "        assert_equal(grid.find_path(None), None)\n",
    "        assert_equal(grid.find_path([[]]), None)\n",
    "        max_rows = 8\n",
    "        max_cols = 4\n",
    "        matrix = [[1] * max_cols for _ in range(max_rows)]\n",
    "        matrix[1][1] = 0\n",
    "        matrix[2][2] = 0\n",
    "        matrix[3][0] = 0\n",
    "        matrix[4][2] = 0\n",
    "        matrix[5][3] = 0\n",
    "        matrix[6][1] = 0\n",
    "        matrix[6][3] = 0\n",
    "        matrix[7][1] = 0\n",
    "        result = grid.find_path(matrix)\n",
    "        expected = [(0, 0), (1, 0), (2, 0),\n",
    "                    (2, 1), (3, 1), (4, 1),\n",
    "                    (5, 1), (5, 2), (6, 2), \n",
    "                    (7, 2), (7, 3)]\n",
    "        assert_equal(result, expected)\n",
    "        matrix[7][2] = 0\n",
    "        result = grid.find_path(matrix)\n",
    "        assert_equal(result, None)\n",
    "        print('Sua solução foi executada com sucesso! Parabéns!')\n",
    "\n",
    "\n",
    "def main():\n",
    "    test = TestGridPath()\n",
    "    test.test_grid_path()\n",
    "\n",
    "\n",
    "if __name__ == '__main__':\n",
    "    main()"
   ]
  },
  {
   "cell_type": "code",
   "execution_count": 23,
   "metadata": {},
   "outputs": [
    {
     "name": "stdout",
     "output_type": "stream",
     "text": [
      "Sua solução foi executada com sucesso! Parabéns!\n"
     ]
    }
   ],
   "source": [
    "%run -i missao3.py"
   ]
  },
  {
   "cell_type": "markdown",
   "metadata": {},
   "source": [
    "## Fim"
   ]
  },
  {
   "cell_type": "markdown",
   "metadata": {},
   "source": [
    "### Obrigado - Data Science Academy - <a href=\"http://facebook.com/dsacademybr\">facebook.com/dsacademybr</a>"
   ]
  }
 ],
 "metadata": {
  "kernelspec": {
   "display_name": "Python 3",
   "language": "python",
   "name": "python3"
  },
  "language_info": {
   "codemirror_mode": {
    "name": "ipython",
    "version": 3
   },
   "file_extension": ".py",
   "mimetype": "text/x-python",
   "name": "python",
   "nbconvert_exporter": "python",
   "pygments_lexer": "ipython3",
   "version": "3.7.3"
  }
 },
 "nbformat": 4,
 "nbformat_minor": 1
}
