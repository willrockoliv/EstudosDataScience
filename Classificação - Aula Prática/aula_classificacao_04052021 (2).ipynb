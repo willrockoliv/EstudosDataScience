{
 "cells": [
  {
   "cell_type": "code",
   "execution_count": 1,
   "metadata": {},
   "outputs": [],
   "source": [
    "import numpy as np # Manipulação de matrizes\n",
    "import pandas as pd # Manipulação de dataframes\n",
    "import matplotlib.pyplot as plt #Construção de gráficos\n",
    "import seaborn as sns #Apoio ao matplotlib para melhora de gráficos\n",
    "\n",
    "\n",
    "from sklearn.metrics import accuracy_score, precision_score, recall_score, f1_score # Métricas para avaliação de algoritmos\n",
    "                                                                          # de classificação\n",
    "\n",
    "from sklearn.preprocessing import StandardScaler # Função de Normalização de Dados\n",
    "\n",
    "from sklearn.model_selection import train_test_split # Método para realização de particionamento da base (holdout)"
   ]
  },
  {
   "cell_type": "code",
   "execution_count": 2,
   "metadata": {},
   "outputs": [],
   "source": [
    "# Carregar conjunto de dados\n",
    "\n",
    "df = pd.read_csv('diabetes.csv')"
   ]
  },
  {
   "cell_type": "code",
   "execution_count": 3,
   "metadata": {},
   "outputs": [
    {
     "data": {
      "text/html": [
       "<div>\n",
       "<style scoped>\n",
       "    .dataframe tbody tr th:only-of-type {\n",
       "        vertical-align: middle;\n",
       "    }\n",
       "\n",
       "    .dataframe tbody tr th {\n",
       "        vertical-align: top;\n",
       "    }\n",
       "\n",
       "    .dataframe thead th {\n",
       "        text-align: right;\n",
       "    }\n",
       "</style>\n",
       "<table border=\"1\" class=\"dataframe\">\n",
       "  <thead>\n",
       "    <tr style=\"text-align: right;\">\n",
       "      <th></th>\n",
       "      <th>Pregnancies</th>\n",
       "      <th>Glucose</th>\n",
       "      <th>BloodPressure</th>\n",
       "      <th>SkinThickness</th>\n",
       "      <th>Insulin</th>\n",
       "      <th>BMI</th>\n",
       "      <th>DiabetesPedigreeFunction</th>\n",
       "      <th>Age</th>\n",
       "      <th>Outcome</th>\n",
       "    </tr>\n",
       "  </thead>\n",
       "  <tbody>\n",
       "    <tr>\n",
       "      <th>0</th>\n",
       "      <td>6</td>\n",
       "      <td>148</td>\n",
       "      <td>72</td>\n",
       "      <td>35</td>\n",
       "      <td>0</td>\n",
       "      <td>33.6</td>\n",
       "      <td>0.627</td>\n",
       "      <td>50</td>\n",
       "      <td>1</td>\n",
       "    </tr>\n",
       "    <tr>\n",
       "      <th>1</th>\n",
       "      <td>1</td>\n",
       "      <td>85</td>\n",
       "      <td>66</td>\n",
       "      <td>29</td>\n",
       "      <td>0</td>\n",
       "      <td>26.6</td>\n",
       "      <td>0.351</td>\n",
       "      <td>31</td>\n",
       "      <td>0</td>\n",
       "    </tr>\n",
       "    <tr>\n",
       "      <th>2</th>\n",
       "      <td>8</td>\n",
       "      <td>183</td>\n",
       "      <td>64</td>\n",
       "      <td>0</td>\n",
       "      <td>0</td>\n",
       "      <td>23.3</td>\n",
       "      <td>0.672</td>\n",
       "      <td>32</td>\n",
       "      <td>1</td>\n",
       "    </tr>\n",
       "    <tr>\n",
       "      <th>3</th>\n",
       "      <td>1</td>\n",
       "      <td>89</td>\n",
       "      <td>66</td>\n",
       "      <td>23</td>\n",
       "      <td>94</td>\n",
       "      <td>28.1</td>\n",
       "      <td>0.167</td>\n",
       "      <td>21</td>\n",
       "      <td>0</td>\n",
       "    </tr>\n",
       "    <tr>\n",
       "      <th>4</th>\n",
       "      <td>0</td>\n",
       "      <td>137</td>\n",
       "      <td>40</td>\n",
       "      <td>35</td>\n",
       "      <td>168</td>\n",
       "      <td>43.1</td>\n",
       "      <td>2.288</td>\n",
       "      <td>33</td>\n",
       "      <td>1</td>\n",
       "    </tr>\n",
       "    <tr>\n",
       "      <th>5</th>\n",
       "      <td>5</td>\n",
       "      <td>116</td>\n",
       "      <td>74</td>\n",
       "      <td>0</td>\n",
       "      <td>0</td>\n",
       "      <td>25.6</td>\n",
       "      <td>0.201</td>\n",
       "      <td>30</td>\n",
       "      <td>0</td>\n",
       "    </tr>\n",
       "    <tr>\n",
       "      <th>6</th>\n",
       "      <td>3</td>\n",
       "      <td>78</td>\n",
       "      <td>50</td>\n",
       "      <td>32</td>\n",
       "      <td>88</td>\n",
       "      <td>31.0</td>\n",
       "      <td>0.248</td>\n",
       "      <td>26</td>\n",
       "      <td>1</td>\n",
       "    </tr>\n",
       "    <tr>\n",
       "      <th>7</th>\n",
       "      <td>10</td>\n",
       "      <td>115</td>\n",
       "      <td>0</td>\n",
       "      <td>0</td>\n",
       "      <td>0</td>\n",
       "      <td>35.3</td>\n",
       "      <td>0.134</td>\n",
       "      <td>29</td>\n",
       "      <td>0</td>\n",
       "    </tr>\n",
       "    <tr>\n",
       "      <th>8</th>\n",
       "      <td>2</td>\n",
       "      <td>197</td>\n",
       "      <td>70</td>\n",
       "      <td>45</td>\n",
       "      <td>543</td>\n",
       "      <td>30.5</td>\n",
       "      <td>0.158</td>\n",
       "      <td>53</td>\n",
       "      <td>1</td>\n",
       "    </tr>\n",
       "    <tr>\n",
       "      <th>9</th>\n",
       "      <td>8</td>\n",
       "      <td>125</td>\n",
       "      <td>96</td>\n",
       "      <td>0</td>\n",
       "      <td>0</td>\n",
       "      <td>0.0</td>\n",
       "      <td>0.232</td>\n",
       "      <td>54</td>\n",
       "      <td>1</td>\n",
       "    </tr>\n",
       "  </tbody>\n",
       "</table>\n",
       "</div>"
      ],
      "text/plain": [
       "   Pregnancies  Glucose  BloodPressure  SkinThickness  Insulin   BMI  \\\n",
       "0            6      148             72             35        0  33.6   \n",
       "1            1       85             66             29        0  26.6   \n",
       "2            8      183             64              0        0  23.3   \n",
       "3            1       89             66             23       94  28.1   \n",
       "4            0      137             40             35      168  43.1   \n",
       "5            5      116             74              0        0  25.6   \n",
       "6            3       78             50             32       88  31.0   \n",
       "7           10      115              0              0        0  35.3   \n",
       "8            2      197             70             45      543  30.5   \n",
       "9            8      125             96              0        0   0.0   \n",
       "\n",
       "   DiabetesPedigreeFunction  Age  Outcome  \n",
       "0                     0.627   50        1  \n",
       "1                     0.351   31        0  \n",
       "2                     0.672   32        1  \n",
       "3                     0.167   21        0  \n",
       "4                     2.288   33        1  \n",
       "5                     0.201   30        0  \n",
       "6                     0.248   26        1  \n",
       "7                     0.134   29        0  \n",
       "8                     0.158   53        1  \n",
       "9                     0.232   54        1  "
      ]
     },
     "execution_count": 3,
     "metadata": {},
     "output_type": "execute_result"
    }
   ],
   "source": [
    "df.head(10)"
   ]
  },
  {
   "cell_type": "code",
   "execution_count": 4,
   "metadata": {},
   "outputs": [
    {
     "data": {
      "text/html": [
       "<div>\n",
       "<style scoped>\n",
       "    .dataframe tbody tr th:only-of-type {\n",
       "        vertical-align: middle;\n",
       "    }\n",
       "\n",
       "    .dataframe tbody tr th {\n",
       "        vertical-align: top;\n",
       "    }\n",
       "\n",
       "    .dataframe thead th {\n",
       "        text-align: right;\n",
       "    }\n",
       "</style>\n",
       "<table border=\"1\" class=\"dataframe\">\n",
       "  <thead>\n",
       "    <tr style=\"text-align: right;\">\n",
       "      <th></th>\n",
       "      <th>Pregnancies</th>\n",
       "      <th>Glucose</th>\n",
       "      <th>BloodPressure</th>\n",
       "      <th>SkinThickness</th>\n",
       "      <th>Insulin</th>\n",
       "      <th>BMI</th>\n",
       "      <th>DiabetesPedigreeFunction</th>\n",
       "      <th>Age</th>\n",
       "      <th>Outcome</th>\n",
       "    </tr>\n",
       "  </thead>\n",
       "  <tbody>\n",
       "    <tr>\n",
       "      <th>763</th>\n",
       "      <td>10</td>\n",
       "      <td>101</td>\n",
       "      <td>76</td>\n",
       "      <td>48</td>\n",
       "      <td>180</td>\n",
       "      <td>32.9</td>\n",
       "      <td>0.171</td>\n",
       "      <td>63</td>\n",
       "      <td>0</td>\n",
       "    </tr>\n",
       "    <tr>\n",
       "      <th>764</th>\n",
       "      <td>2</td>\n",
       "      <td>122</td>\n",
       "      <td>70</td>\n",
       "      <td>27</td>\n",
       "      <td>0</td>\n",
       "      <td>36.8</td>\n",
       "      <td>0.340</td>\n",
       "      <td>27</td>\n",
       "      <td>0</td>\n",
       "    </tr>\n",
       "    <tr>\n",
       "      <th>765</th>\n",
       "      <td>5</td>\n",
       "      <td>121</td>\n",
       "      <td>72</td>\n",
       "      <td>23</td>\n",
       "      <td>112</td>\n",
       "      <td>26.2</td>\n",
       "      <td>0.245</td>\n",
       "      <td>30</td>\n",
       "      <td>0</td>\n",
       "    </tr>\n",
       "    <tr>\n",
       "      <th>766</th>\n",
       "      <td>1</td>\n",
       "      <td>126</td>\n",
       "      <td>60</td>\n",
       "      <td>0</td>\n",
       "      <td>0</td>\n",
       "      <td>30.1</td>\n",
       "      <td>0.349</td>\n",
       "      <td>47</td>\n",
       "      <td>1</td>\n",
       "    </tr>\n",
       "    <tr>\n",
       "      <th>767</th>\n",
       "      <td>1</td>\n",
       "      <td>93</td>\n",
       "      <td>70</td>\n",
       "      <td>31</td>\n",
       "      <td>0</td>\n",
       "      <td>30.4</td>\n",
       "      <td>0.315</td>\n",
       "      <td>23</td>\n",
       "      <td>0</td>\n",
       "    </tr>\n",
       "  </tbody>\n",
       "</table>\n",
       "</div>"
      ],
      "text/plain": [
       "     Pregnancies  Glucose  BloodPressure  SkinThickness  Insulin   BMI  \\\n",
       "763           10      101             76             48      180  32.9   \n",
       "764            2      122             70             27        0  36.8   \n",
       "765            5      121             72             23      112  26.2   \n",
       "766            1      126             60              0        0  30.1   \n",
       "767            1       93             70             31        0  30.4   \n",
       "\n",
       "     DiabetesPedigreeFunction  Age  Outcome  \n",
       "763                     0.171   63        0  \n",
       "764                     0.340   27        0  \n",
       "765                     0.245   30        0  \n",
       "766                     0.349   47        1  \n",
       "767                     0.315   23        0  "
      ]
     },
     "execution_count": 4,
     "metadata": {},
     "output_type": "execute_result"
    }
   ],
   "source": [
    "df.tail()"
   ]
  },
  {
   "cell_type": "code",
   "execution_count": 5,
   "metadata": {},
   "outputs": [],
   "source": [
    "media_insulin = df['Insulin'].mean()"
   ]
  },
  {
   "cell_type": "code",
   "execution_count": 6,
   "metadata": {},
   "outputs": [
    {
     "data": {
      "text/html": [
       "<div>\n",
       "<style scoped>\n",
       "    .dataframe tbody tr th:only-of-type {\n",
       "        vertical-align: middle;\n",
       "    }\n",
       "\n",
       "    .dataframe tbody tr th {\n",
       "        vertical-align: top;\n",
       "    }\n",
       "\n",
       "    .dataframe thead th {\n",
       "        text-align: right;\n",
       "    }\n",
       "</style>\n",
       "<table border=\"1\" class=\"dataframe\">\n",
       "  <thead>\n",
       "    <tr style=\"text-align: right;\">\n",
       "      <th></th>\n",
       "      <th>Pregnancies</th>\n",
       "      <th>Glucose</th>\n",
       "      <th>BloodPressure</th>\n",
       "      <th>SkinThickness</th>\n",
       "      <th>Insulin</th>\n",
       "      <th>BMI</th>\n",
       "      <th>DiabetesPedigreeFunction</th>\n",
       "      <th>Age</th>\n",
       "      <th>Outcome</th>\n",
       "    </tr>\n",
       "  </thead>\n",
       "  <tbody>\n",
       "    <tr>\n",
       "      <th>Pregnancies</th>\n",
       "      <td>1.000000</td>\n",
       "      <td>0.129459</td>\n",
       "      <td>0.141282</td>\n",
       "      <td>-0.081672</td>\n",
       "      <td>-0.073535</td>\n",
       "      <td>0.017683</td>\n",
       "      <td>-0.033523</td>\n",
       "      <td>0.544341</td>\n",
       "      <td>0.221898</td>\n",
       "    </tr>\n",
       "    <tr>\n",
       "      <th>Glucose</th>\n",
       "      <td>0.129459</td>\n",
       "      <td>1.000000</td>\n",
       "      <td>0.152590</td>\n",
       "      <td>0.057328</td>\n",
       "      <td>0.331357</td>\n",
       "      <td>0.221071</td>\n",
       "      <td>0.137337</td>\n",
       "      <td>0.263514</td>\n",
       "      <td>0.466581</td>\n",
       "    </tr>\n",
       "    <tr>\n",
       "      <th>BloodPressure</th>\n",
       "      <td>0.141282</td>\n",
       "      <td>0.152590</td>\n",
       "      <td>1.000000</td>\n",
       "      <td>0.207371</td>\n",
       "      <td>0.088933</td>\n",
       "      <td>0.281805</td>\n",
       "      <td>0.041265</td>\n",
       "      <td>0.239528</td>\n",
       "      <td>0.065068</td>\n",
       "    </tr>\n",
       "    <tr>\n",
       "      <th>SkinThickness</th>\n",
       "      <td>-0.081672</td>\n",
       "      <td>0.057328</td>\n",
       "      <td>0.207371</td>\n",
       "      <td>1.000000</td>\n",
       "      <td>0.436783</td>\n",
       "      <td>0.392573</td>\n",
       "      <td>0.183928</td>\n",
       "      <td>-0.113970</td>\n",
       "      <td>0.074752</td>\n",
       "    </tr>\n",
       "    <tr>\n",
       "      <th>Insulin</th>\n",
       "      <td>-0.073535</td>\n",
       "      <td>0.331357</td>\n",
       "      <td>0.088933</td>\n",
       "      <td>0.436783</td>\n",
       "      <td>1.000000</td>\n",
       "      <td>0.197859</td>\n",
       "      <td>0.185071</td>\n",
       "      <td>-0.042163</td>\n",
       "      <td>0.130548</td>\n",
       "    </tr>\n",
       "    <tr>\n",
       "      <th>BMI</th>\n",
       "      <td>0.017683</td>\n",
       "      <td>0.221071</td>\n",
       "      <td>0.281805</td>\n",
       "      <td>0.392573</td>\n",
       "      <td>0.197859</td>\n",
       "      <td>1.000000</td>\n",
       "      <td>0.140647</td>\n",
       "      <td>0.036242</td>\n",
       "      <td>0.292695</td>\n",
       "    </tr>\n",
       "    <tr>\n",
       "      <th>DiabetesPedigreeFunction</th>\n",
       "      <td>-0.033523</td>\n",
       "      <td>0.137337</td>\n",
       "      <td>0.041265</td>\n",
       "      <td>0.183928</td>\n",
       "      <td>0.185071</td>\n",
       "      <td>0.140647</td>\n",
       "      <td>1.000000</td>\n",
       "      <td>0.033561</td>\n",
       "      <td>0.173844</td>\n",
       "    </tr>\n",
       "    <tr>\n",
       "      <th>Age</th>\n",
       "      <td>0.544341</td>\n",
       "      <td>0.263514</td>\n",
       "      <td>0.239528</td>\n",
       "      <td>-0.113970</td>\n",
       "      <td>-0.042163</td>\n",
       "      <td>0.036242</td>\n",
       "      <td>0.033561</td>\n",
       "      <td>1.000000</td>\n",
       "      <td>0.238356</td>\n",
       "    </tr>\n",
       "    <tr>\n",
       "      <th>Outcome</th>\n",
       "      <td>0.221898</td>\n",
       "      <td>0.466581</td>\n",
       "      <td>0.065068</td>\n",
       "      <td>0.074752</td>\n",
       "      <td>0.130548</td>\n",
       "      <td>0.292695</td>\n",
       "      <td>0.173844</td>\n",
       "      <td>0.238356</td>\n",
       "      <td>1.000000</td>\n",
       "    </tr>\n",
       "  </tbody>\n",
       "</table>\n",
       "</div>"
      ],
      "text/plain": [
       "                          Pregnancies   Glucose  BloodPressure  SkinThickness  \\\n",
       "Pregnancies                  1.000000  0.129459       0.141282      -0.081672   \n",
       "Glucose                      0.129459  1.000000       0.152590       0.057328   \n",
       "BloodPressure                0.141282  0.152590       1.000000       0.207371   \n",
       "SkinThickness               -0.081672  0.057328       0.207371       1.000000   \n",
       "Insulin                     -0.073535  0.331357       0.088933       0.436783   \n",
       "BMI                          0.017683  0.221071       0.281805       0.392573   \n",
       "DiabetesPedigreeFunction    -0.033523  0.137337       0.041265       0.183928   \n",
       "Age                          0.544341  0.263514       0.239528      -0.113970   \n",
       "Outcome                      0.221898  0.466581       0.065068       0.074752   \n",
       "\n",
       "                           Insulin       BMI  DiabetesPedigreeFunction  \\\n",
       "Pregnancies              -0.073535  0.017683                 -0.033523   \n",
       "Glucose                   0.331357  0.221071                  0.137337   \n",
       "BloodPressure             0.088933  0.281805                  0.041265   \n",
       "SkinThickness             0.436783  0.392573                  0.183928   \n",
       "Insulin                   1.000000  0.197859                  0.185071   \n",
       "BMI                       0.197859  1.000000                  0.140647   \n",
       "DiabetesPedigreeFunction  0.185071  0.140647                  1.000000   \n",
       "Age                      -0.042163  0.036242                  0.033561   \n",
       "Outcome                   0.130548  0.292695                  0.173844   \n",
       "\n",
       "                               Age   Outcome  \n",
       "Pregnancies               0.544341  0.221898  \n",
       "Glucose                   0.263514  0.466581  \n",
       "BloodPressure             0.239528  0.065068  \n",
       "SkinThickness            -0.113970  0.074752  \n",
       "Insulin                  -0.042163  0.130548  \n",
       "BMI                       0.036242  0.292695  \n",
       "DiabetesPedigreeFunction  0.033561  0.173844  \n",
       "Age                       1.000000  0.238356  \n",
       "Outcome                   0.238356  1.000000  "
      ]
     },
     "execution_count": 6,
     "metadata": {},
     "output_type": "execute_result"
    }
   ],
   "source": [
    "df.corr()"
   ]
  },
  {
   "cell_type": "code",
   "execution_count": 7,
   "metadata": {},
   "outputs": [
    {
     "name": "stdout",
     "output_type": "stream",
     "text": [
      "Número de Linhas = 768\n",
      "Número de Colunas = 9\n"
     ]
    }
   ],
   "source": [
    "print('Número de Linhas =',df.shape[0])\n",
    "print('Número de Colunas =',df.shape[1])"
   ]
  },
  {
   "cell_type": "code",
   "execution_count": 8,
   "metadata": {},
   "outputs": [
    {
     "data": {
      "application/vnd.jupyter.widget-view+json": {
       "model_id": "8bb7d0b0a0b7436bae8fd453ab30acea",
       "version_major": 2,
       "version_minor": 0
      },
      "text/plain": [
       "HBox(children=(HTML(value='Summarize dataset'), FloatProgress(value=0.0, max=22.0), HTML(value='')))"
      ]
     },
     "metadata": {},
     "output_type": "display_data"
    },
    {
     "name": "stdout",
     "output_type": "stream",
     "text": [
      "\n"
     ]
    },
    {
     "data": {
      "application/vnd.jupyter.widget-view+json": {
       "model_id": "48daaa06c0b247ef9f381fc3dd8d723e",
       "version_major": 2,
       "version_minor": 0
      },
      "text/plain": [
       "HBox(children=(HTML(value='Generate report structure'), FloatProgress(value=0.0, max=1.0), HTML(value='')))"
      ]
     },
     "metadata": {},
     "output_type": "display_data"
    },
    {
     "name": "stdout",
     "output_type": "stream",
     "text": [
      "\n"
     ]
    },
    {
     "data": {
      "application/vnd.jupyter.widget-view+json": {
       "model_id": "",
       "version_major": 2,
       "version_minor": 0
      },
      "text/plain": [
       "HBox(children=(HTML(value='Render widgets'), FloatProgress(value=0.0, max=1.0), HTML(value='')))"
      ]
     },
     "metadata": {},
     "output_type": "display_data"
    },
    {
     "data": {
      "application/vnd.jupyter.widget-view+json": {
       "model_id": "f65db16c2cd54645aaa3ee0ec44c7186",
       "version_major": 2,
       "version_minor": 0
      },
      "text/plain": [
       "VBox(children=(Tab(children=(Tab(children=(GridBox(children=(VBox(children=(GridspecLayout(children=(HTML(valu…"
      ]
     },
     "metadata": {},
     "output_type": "display_data"
    }
   ],
   "source": [
    "#!pip install pandas-profiling\n",
    "\n",
    "from pandas_profiling import ProfileReport, model\n",
    "\n",
    "profile = ProfileReport(df, title='Pandas Profiling Report')\n",
    "profile.to_widgets()"
   ]
  },
  {
   "cell_type": "code",
   "execution_count": 9,
   "metadata": {},
   "outputs": [],
   "source": [
    "# from pandas_profiling import ProfileReport, model\n",
    "\n",
    "# profile_model = ProfileReport(df, title='Pandas Profiling Report')\n",
    "# profile_model.to_widgets()"
   ]
  },
  {
   "cell_type": "code",
   "execution_count": 10,
   "metadata": {},
   "outputs": [
    {
     "data": {
      "text/html": [
       "<div>\n",
       "<style scoped>\n",
       "    .dataframe tbody tr th:only-of-type {\n",
       "        vertical-align: middle;\n",
       "    }\n",
       "\n",
       "    .dataframe tbody tr th {\n",
       "        vertical-align: top;\n",
       "    }\n",
       "\n",
       "    .dataframe thead th {\n",
       "        text-align: right;\n",
       "    }\n",
       "</style>\n",
       "<table border=\"1\" class=\"dataframe\">\n",
       "  <thead>\n",
       "    <tr style=\"text-align: right;\">\n",
       "      <th></th>\n",
       "      <th>Pregnancies</th>\n",
       "      <th>Glucose</th>\n",
       "      <th>BloodPressure</th>\n",
       "      <th>SkinThickness</th>\n",
       "      <th>Insulin</th>\n",
       "      <th>BMI</th>\n",
       "      <th>DiabetesPedigreeFunction</th>\n",
       "      <th>Age</th>\n",
       "      <th>Outcome</th>\n",
       "    </tr>\n",
       "  </thead>\n",
       "  <tbody>\n",
       "    <tr>\n",
       "      <th>0</th>\n",
       "      <td>6</td>\n",
       "      <td>148</td>\n",
       "      <td>72</td>\n",
       "      <td>35</td>\n",
       "      <td>0</td>\n",
       "      <td>33.6</td>\n",
       "      <td>0.627</td>\n",
       "      <td>50</td>\n",
       "      <td>1</td>\n",
       "    </tr>\n",
       "    <tr>\n",
       "      <th>1</th>\n",
       "      <td>1</td>\n",
       "      <td>85</td>\n",
       "      <td>66</td>\n",
       "      <td>29</td>\n",
       "      <td>0</td>\n",
       "      <td>26.6</td>\n",
       "      <td>0.351</td>\n",
       "      <td>31</td>\n",
       "      <td>0</td>\n",
       "    </tr>\n",
       "    <tr>\n",
       "      <th>2</th>\n",
       "      <td>8</td>\n",
       "      <td>183</td>\n",
       "      <td>64</td>\n",
       "      <td>0</td>\n",
       "      <td>0</td>\n",
       "      <td>23.3</td>\n",
       "      <td>0.672</td>\n",
       "      <td>32</td>\n",
       "      <td>1</td>\n",
       "    </tr>\n",
       "    <tr>\n",
       "      <th>3</th>\n",
       "      <td>1</td>\n",
       "      <td>89</td>\n",
       "      <td>66</td>\n",
       "      <td>23</td>\n",
       "      <td>94</td>\n",
       "      <td>28.1</td>\n",
       "      <td>0.167</td>\n",
       "      <td>21</td>\n",
       "      <td>0</td>\n",
       "    </tr>\n",
       "    <tr>\n",
       "      <th>4</th>\n",
       "      <td>0</td>\n",
       "      <td>137</td>\n",
       "      <td>40</td>\n",
       "      <td>35</td>\n",
       "      <td>168</td>\n",
       "      <td>43.1</td>\n",
       "      <td>2.288</td>\n",
       "      <td>33</td>\n",
       "      <td>1</td>\n",
       "    </tr>\n",
       "    <tr>\n",
       "      <th>5</th>\n",
       "      <td>5</td>\n",
       "      <td>116</td>\n",
       "      <td>74</td>\n",
       "      <td>0</td>\n",
       "      <td>0</td>\n",
       "      <td>25.6</td>\n",
       "      <td>0.201</td>\n",
       "      <td>30</td>\n",
       "      <td>0</td>\n",
       "    </tr>\n",
       "    <tr>\n",
       "      <th>6</th>\n",
       "      <td>3</td>\n",
       "      <td>78</td>\n",
       "      <td>50</td>\n",
       "      <td>32</td>\n",
       "      <td>88</td>\n",
       "      <td>31.0</td>\n",
       "      <td>0.248</td>\n",
       "      <td>26</td>\n",
       "      <td>1</td>\n",
       "    </tr>\n",
       "    <tr>\n",
       "      <th>7</th>\n",
       "      <td>10</td>\n",
       "      <td>115</td>\n",
       "      <td>0</td>\n",
       "      <td>0</td>\n",
       "      <td>0</td>\n",
       "      <td>35.3</td>\n",
       "      <td>0.134</td>\n",
       "      <td>29</td>\n",
       "      <td>0</td>\n",
       "    </tr>\n",
       "    <tr>\n",
       "      <th>8</th>\n",
       "      <td>2</td>\n",
       "      <td>197</td>\n",
       "      <td>70</td>\n",
       "      <td>45</td>\n",
       "      <td>543</td>\n",
       "      <td>30.5</td>\n",
       "      <td>0.158</td>\n",
       "      <td>53</td>\n",
       "      <td>1</td>\n",
       "    </tr>\n",
       "    <tr>\n",
       "      <th>9</th>\n",
       "      <td>8</td>\n",
       "      <td>125</td>\n",
       "      <td>96</td>\n",
       "      <td>0</td>\n",
       "      <td>0</td>\n",
       "      <td>0.0</td>\n",
       "      <td>0.232</td>\n",
       "      <td>54</td>\n",
       "      <td>1</td>\n",
       "    </tr>\n",
       "  </tbody>\n",
       "</table>\n",
       "</div>"
      ],
      "text/plain": [
       "   Pregnancies  Glucose  BloodPressure  SkinThickness  Insulin   BMI  \\\n",
       "0            6      148             72             35        0  33.6   \n",
       "1            1       85             66             29        0  26.6   \n",
       "2            8      183             64              0        0  23.3   \n",
       "3            1       89             66             23       94  28.1   \n",
       "4            0      137             40             35      168  43.1   \n",
       "5            5      116             74              0        0  25.6   \n",
       "6            3       78             50             32       88  31.0   \n",
       "7           10      115              0              0        0  35.3   \n",
       "8            2      197             70             45      543  30.5   \n",
       "9            8      125             96              0        0   0.0   \n",
       "\n",
       "   DiabetesPedigreeFunction  Age  Outcome  \n",
       "0                     0.627   50        1  \n",
       "1                     0.351   31        0  \n",
       "2                     0.672   32        1  \n",
       "3                     0.167   21        0  \n",
       "4                     2.288   33        1  \n",
       "5                     0.201   30        0  \n",
       "6                     0.248   26        1  \n",
       "7                     0.134   29        0  \n",
       "8                     0.158   53        1  \n",
       "9                     0.232   54        1  "
      ]
     },
     "execution_count": 10,
     "metadata": {},
     "output_type": "execute_result"
    }
   ],
   "source": [
    "df.head(10) # Avaliando primeiras colunas da tabela"
   ]
  },
  {
   "cell_type": "code",
   "execution_count": 11,
   "metadata": {},
   "outputs": [
    {
     "name": "stdout",
     "output_type": "stream",
     "text": [
      "Tamanho do meu dataframe:  (768, 9)\n"
     ]
    }
   ],
   "source": [
    "# Limpeza de NAN\n",
    "\n",
    "\n",
    "df = df.dropna(axis = 1) #Drop linhas ou colunas (dependendo do 'axis')\n",
    "print(\"Tamanho do meu dataframe: \",df.shape)"
   ]
  },
  {
   "cell_type": "code",
   "execution_count": 12,
   "metadata": {},
   "outputs": [
    {
     "data": {
      "text/html": [
       "<div>\n",
       "<style scoped>\n",
       "    .dataframe tbody tr th:only-of-type {\n",
       "        vertical-align: middle;\n",
       "    }\n",
       "\n",
       "    .dataframe tbody tr th {\n",
       "        vertical-align: top;\n",
       "    }\n",
       "\n",
       "    .dataframe thead th {\n",
       "        text-align: right;\n",
       "    }\n",
       "</style>\n",
       "<table border=\"1\" class=\"dataframe\">\n",
       "  <thead>\n",
       "    <tr style=\"text-align: right;\">\n",
       "      <th></th>\n",
       "      <th>Pregnancies</th>\n",
       "      <th>Glucose</th>\n",
       "      <th>BloodPressure</th>\n",
       "      <th>SkinThickness</th>\n",
       "      <th>Insulin</th>\n",
       "      <th>BMI</th>\n",
       "      <th>DiabetesPedigreeFunction</th>\n",
       "      <th>Age</th>\n",
       "      <th>Outcome</th>\n",
       "    </tr>\n",
       "  </thead>\n",
       "  <tbody>\n",
       "    <tr>\n",
       "      <th>0</th>\n",
       "      <td>6</td>\n",
       "      <td>148</td>\n",
       "      <td>72</td>\n",
       "      <td>35</td>\n",
       "      <td>79.799479</td>\n",
       "      <td>33.6</td>\n",
       "      <td>0.627</td>\n",
       "      <td>50</td>\n",
       "      <td>1</td>\n",
       "    </tr>\n",
       "    <tr>\n",
       "      <th>1</th>\n",
       "      <td>1</td>\n",
       "      <td>85</td>\n",
       "      <td>66</td>\n",
       "      <td>29</td>\n",
       "      <td>79.799479</td>\n",
       "      <td>26.6</td>\n",
       "      <td>0.351</td>\n",
       "      <td>31</td>\n",
       "      <td>0</td>\n",
       "    </tr>\n",
       "    <tr>\n",
       "      <th>2</th>\n",
       "      <td>8</td>\n",
       "      <td>183</td>\n",
       "      <td>64</td>\n",
       "      <td>0</td>\n",
       "      <td>79.799479</td>\n",
       "      <td>23.3</td>\n",
       "      <td>0.672</td>\n",
       "      <td>32</td>\n",
       "      <td>1</td>\n",
       "    </tr>\n",
       "    <tr>\n",
       "      <th>3</th>\n",
       "      <td>1</td>\n",
       "      <td>89</td>\n",
       "      <td>66</td>\n",
       "      <td>23</td>\n",
       "      <td>94.000000</td>\n",
       "      <td>28.1</td>\n",
       "      <td>0.167</td>\n",
       "      <td>21</td>\n",
       "      <td>0</td>\n",
       "    </tr>\n",
       "    <tr>\n",
       "      <th>4</th>\n",
       "      <td>0</td>\n",
       "      <td>137</td>\n",
       "      <td>40</td>\n",
       "      <td>35</td>\n",
       "      <td>168.000000</td>\n",
       "      <td>43.1</td>\n",
       "      <td>2.288</td>\n",
       "      <td>33</td>\n",
       "      <td>1</td>\n",
       "    </tr>\n",
       "  </tbody>\n",
       "</table>\n",
       "</div>"
      ],
      "text/plain": [
       "   Pregnancies  Glucose  BloodPressure  SkinThickness     Insulin   BMI  \\\n",
       "0            6      148             72             35   79.799479  33.6   \n",
       "1            1       85             66             29   79.799479  26.6   \n",
       "2            8      183             64              0   79.799479  23.3   \n",
       "3            1       89             66             23   94.000000  28.1   \n",
       "4            0      137             40             35  168.000000  43.1   \n",
       "\n",
       "   DiabetesPedigreeFunction  Age  Outcome  \n",
       "0                     0.627   50        1  \n",
       "1                     0.351   31        0  \n",
       "2                     0.672   32        1  \n",
       "3                     0.167   21        0  \n",
       "4                     2.288   33        1  "
      ]
     },
     "execution_count": 12,
     "metadata": {},
     "output_type": "execute_result"
    }
   ],
   "source": [
    "df['Insulin'] = df['Insulin'].replace(0, media_insulin)\n",
    "df.head()"
   ]
  },
  {
   "cell_type": "code",
   "execution_count": 13,
   "metadata": {},
   "outputs": [],
   "source": [
    "list_features = list(df.columns.drop('Outcome'))"
   ]
  },
  {
   "cell_type": "code",
   "execution_count": 14,
   "metadata": {},
   "outputs": [],
   "source": [
    "# Separar base em variáveis explicativas e variável resposta\n",
    "\n",
    "X = df[list_features]\n",
    "\n",
    "# X = df[['Pregnancies',\n",
    "#  'Glucose',\n",
    "#  'BloodPressure',\n",
    "#  'SkinThickness',\n",
    "#  'Insulin',\n",
    "#  'BMI',\n",
    "#  'DiabetesPedigreeFunction',\n",
    "#  'Age']]\n",
    "\n",
    "y = df['Outcome']"
   ]
  },
  {
   "cell_type": "code",
   "execution_count": 15,
   "metadata": {},
   "outputs": [
    {
     "name": "stdout",
     "output_type": "stream",
     "text": [
      "Quantidade de 1's = 268\n",
      "Quantidade de 0's = 500\n"
     ]
    }
   ],
   "source": [
    "print(\"Quantidade de 1's =\",df['Outcome'].sum())\n",
    "print(\"Quantidade de 0's =\",len(df['Outcome']) - df['Outcome'].sum())"
   ]
  },
  {
   "cell_type": "code",
   "execution_count": 16,
   "metadata": {},
   "outputs": [],
   "source": [
    "# Separar bases em treino e teste\n",
    "\n",
    "scaler = StandardScaler()\n",
    "\n",
    "X_train, X_test, y_train, y_test = train_test_split(X, y, test_size=0.25, random_state=42)\n",
    "X_train_norm = scaler.fit_transform(X_train)\n",
    "X_test_norm = scaler.fit_transform(X_test)\n",
    "\n",
    "#https://scikit-learn.org/stable/modules/generated/sklearn.model_selection.train_test_split.html"
   ]
  },
  {
   "cell_type": "code",
   "execution_count": 17,
   "metadata": {},
   "outputs": [],
   "source": [
    "# Importando KNN para CLASSIFICAÇÃO\n",
    "\n",
    "from sklearn.neighbors import KNeighborsClassifier"
   ]
  },
  {
   "cell_type": "code",
   "execution_count": 18,
   "metadata": {},
   "outputs": [],
   "source": [
    "# Criar um loop com diversos valores de K\n",
    "\n",
    "neighbors = np.arange(1, 26)\n",
    "\n",
    "train_accuracy = np.empty(len(neighbors))\n",
    "test_accuracy = np.empty(len(neighbors))"
   ]
  },
  {
   "cell_type": "code",
   "execution_count": 21,
   "metadata": {},
   "outputs": [],
   "source": [
    "for i, k in enumerate(neighbors):\n",
    "    \n",
    "    # Instanciar meu knn\n",
    "    \n",
    "    knn = KNeighborsClassifier(n_neighbors=k, metric='euclidean')\n",
    "    \n",
    "    \n",
    "    #Treinando o modelo\n",
    "    knn.fit(X_train_norm, y_train)\n",
    "    \n",
    "    # Calcular a acurácia para treino e para teste\n",
    "    \n",
    "    \n",
    "    train_accuracy[i] = f1_score(knn.predict(X_train_norm), y_train)\n",
    "    \n",
    "    test_accuracy[i] = f1_score(knn.predict(X_test_norm), y_test)"
   ]
  },
  {
   "cell_type": "code",
   "execution_count": 22,
   "metadata": {},
   "outputs": [
    {
     "data": {
      "text/plain": [
       "Text(0, 0.5, 'F1 Score do modelo')"
      ]
     },
     "execution_count": 22,
     "metadata": {},
     "output_type": "execute_result"
    },
    {
     "data": {
      "image/png": "[encoded data removed]",
      "text/plain": [
       "<Figure size 432x288 with 1 Axes>"
      ]
     },
     "metadata": {
      "needs_background": "light"
     },
     "output_type": "display_data"
    }
   ],
   "source": [
    "plt.title('F1 Score em função do número de vizinhos')\n",
    "\n",
    "plt.plot(neighbors, test_accuracy, label='F1 Score na base de teste')\n",
    "\n",
    "plt.plot(neighbors, train_accuracy, label='F1 Score na base de treino')\n",
    "\n",
    "plt.legend()\n",
    "\n",
    "plt.xlabel('Número de vizinhos')\n",
    "\n",
    "\n",
    "plt.ylabel('F1 Score do modelo')"
   ]
  },
  {
   "cell_type": "code",
   "execution_count": 23,
   "metadata": {},
   "outputs": [
    {
     "data": {
      "text/plain": [
       "KNeighborsClassifier(metric='euclidean', n_neighbors=9)"
      ]
     },
     "execution_count": 23,
     "metadata": {},
     "output_type": "execute_result"
    }
   ],
   "source": [
    "knn = KNeighborsClassifier(n_neighbors=9, metric='euclidean')\n",
    "\n",
    "knn.fit(X_train_norm, y_train)"
   ]
  },
  {
   "cell_type": "code",
   "execution_count": 24,
   "metadata": {},
   "outputs": [
    {
     "name": "stdout",
     "output_type": "stream",
     "text": [
      "Acurácia do Modelo = 0.72\n",
      "F1 Score do Modelo = 0.56\n",
      "Precisão do Modelo = 0.51\n"
     ]
    }
   ],
   "source": [
    "print('Acurácia do Modelo =', round(accuracy_score(knn.predict(X_test_norm), y_test),2))\n",
    "print('F1 Score do Modelo =', round(f1_score(knn.predict(X_test_norm), y_test),2))\n",
    "print('Precisão do Modelo =', round(precision_score(knn.predict(X_test_norm), y_test),2))"
   ]
  },
  {
   "cell_type": "markdown",
   "metadata": {},
   "source": [
    "# Árvore de Decisão"
   ]
  },
  {
   "cell_type": "code",
   "execution_count": 27,
   "metadata": {},
   "outputs": [],
   "source": [
    "from sklearn.tree import DecisionTreeClassifier"
   ]
  },
  {
   "cell_type": "code",
   "execution_count": 28,
   "metadata": {},
   "outputs": [
    {
     "name": "stdout",
     "output_type": "stream",
     "text": [
      "Acurácia para base de treino:  1.0\n",
      "Acurácia do Modelo Teste: 0.6770833333333334\n"
     ]
    }
   ],
   "source": [
    "arvore_decisao = DecisionTreeClassifier()\n",
    "arvore_decisao.fit(X_train, y_train)\n",
    "\n",
    "\n",
    "print(\"Acurácia para base de treino: \", accuracy_score(y_train,arvore_decisao.predict(X_train)))\n",
    "print(\"Acurácia do Modelo Teste:\",accuracy_score(y_test,arvore_decisao.predict(X_test)))"
   ]
  },
  {
   "cell_type": "markdown",
   "metadata": {},
   "source": [
    "### Por que a acurácia na base de treino deu tão Alta?"
   ]
  },
  {
   "cell_type": "code",
   "execution_count": 43,
   "metadata": {},
   "outputs": [
    {
     "name": "stdout",
     "output_type": "stream",
     "text": [
      "Acurácia para base de treino com profundidade =  1 : 0.7621527777777778\n",
      "Acurácia para base de teste com profundidade =  1 : 0.7135416666666666\n",
      "Acurácia para base de treino com profundidade =  2 : 0.7621527777777778\n",
      "Acurácia para base de teste com profundidade =  2 : 0.7135416666666666\n",
      "Acurácia para base de treino com profundidade =  3 : 0.7725694444444444\n",
      "Acurácia para base de teste com profundidade =  3 : 0.7135416666666666\n",
      "Acurácia para base de treino com profundidade =  4 : 0.8055555555555556\n",
      "Acurácia para base de teste com profundidade =  4 : 0.6822916666666666\n",
      "Acurácia para base de treino com profundidade =  5 : 0.84375\n",
      "Acurácia para base de teste com profundidade =  5 : 0.7239583333333334\n",
      "Acurácia para base de treino com profundidade =  6 : 0.8680555555555556\n",
      "Acurácia para base de teste com profundidade =  6 : 0.7135416666666666\n",
      "Acurácia para base de treino com profundidade =  7 : 0.9079861111111112\n",
      "Acurácia para base de teste com profundidade =  7 : 0.7291666666666666\n",
      "Acurácia para base de treino com profundidade =  8 : 0.9340277777777778\n",
      "Acurácia para base de teste com profundidade =  8 : 0.6979166666666666\n",
      "Acurácia para base de treino com profundidade =  9 : 0.9652777777777778\n",
      "Acurácia para base de teste com profundidade =  9 : 0.6927083333333334\n",
      "Acurácia para base de treino com profundidade =  10 : 0.984375\n",
      "Acurácia para base de teste com profundidade =  10 : 0.6979166666666666\n"
     ]
    }
   ],
   "source": [
    "acuracia_arvore = []\n",
    "\n",
    "profundidade_decision_tree = list(range(1,11))\n",
    "\n",
    "for i in range(len(profundidade_decision_tree)):\n",
    "    arvore_teste_profundidade = DecisionTreeClassifier(random_state=42, max_depth=profundidade_decision_tree[i])\n",
    "    \n",
    "    arvore_teste_profundidade.fit(X_train, y_train)\n",
    "    \n",
    "    print(\"Acurácia para base de treino com profundidade = \", profundidade_decision_tree[i], \":\", accuracy_score(y_train,arvore_teste_profundidade.predict(X_train)))\n",
    "    print(\"Acurácia para base de teste com profundidade = \", profundidade_decision_tree[i], \":\", accuracy_score(y_test,arvore_teste_profundidade.predict(X_test)))"
   ]
  },
  {
   "cell_type": "code",
   "execution_count": 41,
   "metadata": {},
   "outputs": [
    {
     "data": {
      "text/plain": [
       "DecisionTreeClassifier(max_depth=3, random_state=42)"
      ]
     },
     "execution_count": 41,
     "metadata": {},
     "output_type": "execute_result"
    }
   ],
   "source": [
    "#Inicializando uma Árvore de decisão\n",
    "\n",
    "new_arvore_decisao = DecisionTreeClassifier(random_state=42, max_depth=3)\n",
    "#Treinando Árvore\n",
    "\n",
    "new_arvore_decisao.fit(X_train,y_train)"
   ]
  },
  {
   "cell_type": "code",
   "execution_count": 42,
   "metadata": {},
   "outputs": [
    {
     "name": "stdout",
     "output_type": "stream",
     "text": [
      "Acurácia para base de treino:  0.7725694444444444\n",
      "Acurácia do Modelo Teste: 0.7135416666666666\n"
     ]
    }
   ],
   "source": [
    "print(\"Acurácia para base de treino: \", accuracy_score(y_train,new_arvore_decisao.predict(X_train)))\n",
    "print(\"Acurácia do Modelo Teste:\",accuracy_score(y_test,new_arvore_decisao.predict(X_test)))"
   ]
  },
  {
   "cell_type": "code",
   "execution_count": 44,
   "metadata": {},
   "outputs": [
    {
     "data": {
      "text/plain": [
       "[Text(465.0, 990.9375, 'Glucose <= 143.5\\ngini = 0.452\\nsamples = 576\\nvalue = [377, 199]\\nclass = 1'),\n",
       " Text(232.5, 707.8125, 'Age <= 28.5\\ngini = 0.36\\nsamples = 454\\nvalue = [347, 107]\\nclass = 1'),\n",
       " Text(116.25, 424.6875, 'Glucose <= 127.5\\ngini = 0.208\\nsamples = 246\\nvalue = [217, 29]\\nclass = 1'),\n",
       " Text(58.125, 141.5625, 'gini = 0.134\\nsamples = 208\\nvalue = [193, 15]\\nclass = 1'),\n",
       " Text(174.375, 141.5625, 'gini = 0.465\\nsamples = 38\\nvalue = [24, 14]\\nclass = 1'),\n",
       " Text(348.75, 424.6875, 'BMI <= 26.95\\ngini = 0.469\\nsamples = 208\\nvalue = [130, 78]\\nclass = 1'),\n",
       " Text(290.625, 141.5625, 'gini = 0.127\\nsamples = 44\\nvalue = [41, 3]\\nclass = 1'),\n",
       " Text(406.875, 141.5625, 'gini = 0.496\\nsamples = 164\\nvalue = [89, 75]\\nclass = 1'),\n",
       " Text(697.5, 707.8125, 'Glucose <= 154.5\\ngini = 0.371\\nsamples = 122\\nvalue = [30, 92]\\nclass = 0'),\n",
       " Text(581.25, 424.6875, 'Glucose <= 152.5\\ngini = 0.498\\nsamples = 34\\nvalue = [16, 18]\\nclass = 0'),\n",
       " Text(523.125, 141.5625, 'gini = 0.459\\nsamples = 28\\nvalue = [10, 18]\\nclass = 0'),\n",
       " Text(639.375, 141.5625, 'gini = 0.0\\nsamples = 6\\nvalue = [6, 0]\\nclass = 1'),\n",
       " Text(813.75, 424.6875, 'BMI <= 28.7\\ngini = 0.268\\nsamples = 88\\nvalue = [14, 74]\\nclass = 0'),\n",
       " Text(755.625, 141.5625, 'gini = 0.486\\nsamples = 12\\nvalue = [5, 7]\\nclass = 0'),\n",
       " Text(871.875, 141.5625, 'gini = 0.209\\nsamples = 76\\nvalue = [9, 67]\\nclass = 0')]"
      ]
     },
     "execution_count": 44,
     "metadata": {},
     "output_type": "execute_result"
    },
    {
     "data": {
      "image/png": "[encoded data removed]",
      "text/plain": [
       "<Figure size 1200x1500 with 1 Axes>"
      ]
     },
     "metadata": {
      "needs_background": "light"
     },
     "output_type": "display_data"
    }
   ],
   "source": [
    "# Plot da Árvore\n",
    "\n",
    "from sklearn import tree\n",
    "\n",
    "fn = list(X_train.columns)\n",
    "class_types = ['1','0']\n",
    "fig, axes = plt.subplots(nrows = 1,ncols = 1,figsize = (4,5), dpi=300)\n",
    "\n",
    "tree.plot_tree(new_arvore_decisao, feature_names=fn, class_names=class_types)"
   ]
  },
  {
   "cell_type": "markdown",
   "metadata": {},
   "source": [
    "### Emsembles"
   ]
  },
  {
   "cell_type": "code",
   "execution_count": 45,
   "metadata": {},
   "outputs": [],
   "source": [
    "# Import dos emsembles Random Forest e Bagging\n",
    "\n",
    "from sklearn.ensemble import RandomForestClassifier, BaggingClassifier\n"
   ]
  },
  {
   "cell_type": "code",
   "execution_count": 47,
   "metadata": {},
   "outputs": [],
   "source": [
    "# Instanciando Emsembles\n",
    "clf = RandomForestClassifier(n_estimators=100, random_state=50)\n",
    "\n",
    "bagging = BaggingClassifier(n_estimators=100, random_state=50)"
   ]
  },
  {
   "cell_type": "code",
   "execution_count": 48,
   "metadata": {},
   "outputs": [
    {
     "data": {
      "text/plain": [
       "BaggingClassifier(n_estimators=100, random_state=50)"
      ]
     },
     "execution_count": 48,
     "metadata": {},
     "output_type": "execute_result"
    }
   ],
   "source": [
    "#Treinando árvore\n",
    "clf.fit(X_train, y_train) \n",
    "\n",
    "bagging.fit(X_train, y_train)"
   ]
  },
  {
   "cell_type": "code",
   "execution_count": 50,
   "metadata": {},
   "outputs": [
    {
     "name": "stdout",
     "output_type": "stream",
     "text": [
      "Acurácia do Modelo com Random Forest na base de treino: 1.0\n",
      "Acurácia do Modelo com Random Forest na base de teste: 0.734375\n",
      "Acurácia do Modelo com Bagging na base de treino: 1.0\n",
      "Acurácia do Modelo com Bagging na base de teste: 0.7552083333333334\n"
     ]
    }
   ],
   "source": [
    "# Analisando Performance\n",
    "print(\"Acurácia do Modelo com Random Forest na base de treino:\",accuracy_score(y_train,clf.predict(X_train)))\n",
    "print(\"Acurácia do Modelo com Random Forest na base de teste:\",accuracy_score(y_test,clf.predict(X_test)))\n",
    "\n",
    "print(\"Acurácia do Modelo com Bagging na base de treino:\",accuracy_score(y_train,bagging.predict(X_train)))\n",
    "print(\"Acurácia do Modelo com Bagging na base de teste:\",accuracy_score(y_test,bagging.predict(X_test)))"
   ]
  },
  {
   "cell_type": "code",
   "execution_count": 52,
   "metadata": {},
   "outputs": [
    {
     "name": "stdout",
     "output_type": "stream",
     "text": [
      "Acurácia do Modelo com Random Forest: 0.8211805555555556\n",
      "Acurácia do Modelo com Random Forest: 0.7552083333333334\n"
     ]
    }
   ],
   "source": [
    "# Instanciando Emsembles\n",
    "new_clf = RandomForestClassifier(n_estimators=100, random_state=50, max_depth=4)\n",
    "\n",
    "#Treinando árvore\n",
    "new_clf.fit(X_train, y_train) \n",
    "\n",
    "print(\"Acurácia do Modelo com Random Forest:\",accuracy_score(y_train,new_clf.predict(X_train)))\n",
    "print(\"Acurácia do Modelo com Random Forest:\",accuracy_score(y_test,new_clf.predict(X_test)))"
   ]
  },
  {
   "cell_type": "markdown",
   "metadata": {},
   "source": [
    "### Seleção de Hiperparâmetros"
   ]
  },
  {
   "cell_type": "code",
   "execution_count": 30,
   "metadata": {},
   "outputs": [
    {
     "name": "stdout",
     "output_type": "stream",
     "text": [
      "1\n",
      "Precisão do Modelo com max_depth = 1 : 0.7692307692307693\n",
      "2\n",
      "Precisão do Modelo com max_depth = 2 : 0.7209302325581395\n",
      "3\n",
      "Precisão do Modelo com max_depth = 3 : 0.7037037037037037\n",
      "4\n",
      "Precisão do Modelo com max_depth = 4 : 0.6779661016949152\n",
      "5\n",
      "Precisão do Modelo com max_depth = 5 : 0.6774193548387096\n",
      "6\n",
      "Precisão do Modelo com max_depth = 6 : 0.6323529411764706\n",
      "7\n",
      "Precisão do Modelo com max_depth = 7 : 0.6470588235294118\n",
      "8\n",
      "Precisão do Modelo com max_depth = 8 : 0.6417910447761194\n",
      "9\n",
      "Precisão do Modelo com max_depth = 9 : 0.6376811594202898\n",
      "10\n",
      "Precisão do Modelo com max_depth = 10 : 0.6619718309859155\n"
     ]
    }
   ],
   "source": [
    "from sklearn.metrics import accuracy_score, f1_score, recall_score, precision_score #import de funções que calculam as métricas de erro\n",
    "\n",
    "precisao_2 = []\n",
    "\n",
    "profundidade = list(range(1,11))\n",
    "\n",
    "for i in range(len(profundidade)):\n",
    "    \n",
    "    clf_best = RandomForestClassifier(n_estimators=100, max_depth=profundidade[i], random_state=42)\n",
    "    clf_best.fit(X_train, y_train) \n",
    "    \n",
    "    print(profundidade[i])\n",
    "    \n",
    "        # Analisando Performance\n",
    "    print(\"Precisão do Modelo com max_depth =\", profundidade[i], \":\",precision_score(y_test,clf_best.predict(X_test)))\n",
    "    precisao_2.append(precision_score(y_test,clf_best.predict(X_test)))\n",
    "\n",
    "#df_result_best_2 = pd.DataFrame(data={\"Profundidade\": profundidade, \"Precisão\": precisao_2})"
   ]
  },
  {
   "cell_type": "code",
   "execution_count": 31,
   "metadata": {},
   "outputs": [
    {
     "name": "stdout",
     "output_type": "stream",
     "text": [
      "Precisão do Modelo com 1 árvores:  0.0\n",
      "Precisão do Modelo com 2 árvores:  0.0\n",
      "Precisão do Modelo com 3 árvores:  0.6\n",
      "Precisão do Modelo com 4 árvores:  0.6\n"
     ]
    },
    {
     "name": "stderr",
     "output_type": "stream",
     "text": [
      "C:\\Users\\danie\\AppData\\Roaming\\Python\\Python38\\site-packages\\sklearn\\metrics\\_classification.py:1245: UndefinedMetricWarning: Precision is ill-defined and being set to 0.0 due to no predicted samples. Use `zero_division` parameter to control this behavior.\n",
      "  _warn_prf(average, modifier, msg_start, len(result))\n",
      "C:\\Users\\danie\\AppData\\Roaming\\Python\\Python38\\site-packages\\sklearn\\metrics\\_classification.py:1245: UndefinedMetricWarning: Precision is ill-defined and being set to 0.0 due to no predicted samples. Use `zero_division` parameter to control this behavior.\n",
      "  _warn_prf(average, modifier, msg_start, len(result))\n",
      "C:\\Users\\danie\\AppData\\Roaming\\Python\\Python38\\site-packages\\sklearn\\metrics\\_classification.py:1245: UndefinedMetricWarning: Precision is ill-defined and being set to 0.0 due to no predicted samples. Use `zero_division` parameter to control this behavior.\n",
      "  _warn_prf(average, modifier, msg_start, len(result))\n",
      "C:\\Users\\danie\\AppData\\Roaming\\Python\\Python38\\site-packages\\sklearn\\metrics\\_classification.py:1245: UndefinedMetricWarning: Precision is ill-defined and being set to 0.0 due to no predicted samples. Use `zero_division` parameter to control this behavior.\n",
      "  _warn_prf(average, modifier, msg_start, len(result))\n"
     ]
    },
    {
     "name": "stdout",
     "output_type": "stream",
     "text": [
      "Precisão do Modelo com 5 árvores:  0.6\n",
      "Precisão do Modelo com 6 árvores:  0.7\n",
      "Precisão do Modelo com 7 árvores:  0.6666666666666666\n",
      "Precisão do Modelo com 8 árvores:  0.7368421052631579\n",
      "Precisão do Modelo com 9 árvores:  0.7\n",
      "Precisão do Modelo com 10 árvores:  0.8571428571428571\n",
      "Precisão do Modelo com 11 árvores:  0.7\n",
      "Precisão do Modelo com 12 árvores:  0.7727272727272727\n",
      "Precisão do Modelo com 13 árvores:  0.7096774193548387\n",
      "Precisão do Modelo com 14 árvores:  0.7916666666666666\n",
      "Precisão do Modelo com 15 árvores:  0.7096774193548387\n",
      "Precisão do Modelo com 16 árvores:  0.7\n",
      "Precisão do Modelo com 17 árvores:  0.7\n",
      "Precisão do Modelo com 18 árvores:  0.6896551724137931\n",
      "Precisão do Modelo com 19 árvores:  0.75\n",
      "Precisão do Modelo com 20 árvores:  0.75\n",
      "Precisão do Modelo com 21 árvores:  0.75\n",
      "Precisão do Modelo com 22 árvores:  0.7647058823529411\n",
      "Precisão do Modelo com 23 árvores:  0.7647058823529411\n",
      "Precisão do Modelo com 24 árvores:  0.7777777777777778\n",
      "Precisão do Modelo com 25 árvores:  0.8125\n",
      "Precisão do Modelo com 26 árvores:  0.8125\n",
      "Precisão do Modelo com 27 árvores:  0.75\n",
      "Precisão do Modelo com 28 árvores:  0.7647058823529411\n",
      "Precisão do Modelo com 29 árvores:  0.7647058823529411\n",
      "Precisão do Modelo com 30 árvores:  0.7647058823529411\n",
      "Precisão do Modelo com 31 árvores:  0.7647058823529411\n",
      "Precisão do Modelo com 32 árvores:  0.7894736842105263\n",
      "Precisão do Modelo com 33 árvores:  0.7894736842105263\n",
      "Precisão do Modelo com 34 árvores:  0.7647058823529411\n",
      "Precisão do Modelo com 35 árvores:  0.7647058823529411\n",
      "Precisão do Modelo com 36 árvores:  0.7647058823529411\n",
      "Precisão do Modelo com 37 árvores:  0.7647058823529411\n",
      "Precisão do Modelo com 38 árvores:  0.7857142857142857\n",
      "Precisão do Modelo com 39 árvores:  0.7857142857142857\n",
      "Precisão do Modelo com 40 árvores:  0.8461538461538461\n",
      "Precisão do Modelo com 41 árvores:  0.75\n",
      "Precisão do Modelo com 42 árvores:  0.7857142857142857\n",
      "Precisão do Modelo com 43 árvores:  0.7857142857142857\n",
      "Precisão do Modelo com 44 árvores:  0.7142857142857143\n",
      "Precisão do Modelo com 45 árvores:  0.7142857142857143\n",
      "Precisão do Modelo com 46 árvores:  0.7333333333333333\n",
      "Precisão do Modelo com 47 árvores:  0.7333333333333333\n",
      "Precisão do Modelo com 48 árvores:  0.7142857142857143\n",
      "Precisão do Modelo com 49 árvores:  0.75\n",
      "Precisão do Modelo com 50 árvores:  0.7142857142857143\n",
      "Precisão do Modelo com 51 árvores:  0.6923076923076923\n",
      "Precisão do Modelo com 52 árvores:  0.7142857142857143\n",
      "Precisão do Modelo com 53 árvores:  0.7142857142857143\n",
      "Precisão do Modelo com 54 árvores:  0.7142857142857143\n",
      "Precisão do Modelo com 55 árvores:  0.7142857142857143\n",
      "Precisão do Modelo com 56 árvores:  0.7142857142857143\n",
      "Precisão do Modelo com 57 árvores:  0.7142857142857143\n",
      "Precisão do Modelo com 58 árvores:  0.75\n",
      "Precisão do Modelo com 59 árvores:  0.75\n",
      "Precisão do Modelo com 60 árvores:  0.75\n",
      "Precisão do Modelo com 61 árvores:  0.75\n",
      "Precisão do Modelo com 62 árvores:  0.75\n",
      "Precisão do Modelo com 63 árvores:  0.75\n",
      "Precisão do Modelo com 64 árvores:  0.75\n",
      "Precisão do Modelo com 65 árvores:  0.75\n",
      "Precisão do Modelo com 66 árvores:  0.75\n",
      "Precisão do Modelo com 67 árvores:  0.75\n",
      "Precisão do Modelo com 68 árvores:  0.75\n",
      "Precisão do Modelo com 69 árvores:  0.75\n",
      "Precisão do Modelo com 70 árvores:  0.75\n",
      "Precisão do Modelo com 71 árvores:  0.75\n",
      "Precisão do Modelo com 72 árvores:  0.7647058823529411\n",
      "Precisão do Modelo com 73 árvores:  0.75\n",
      "Precisão do Modelo com 74 árvores:  0.75\n",
      "Precisão do Modelo com 75 árvores:  0.75\n",
      "Precisão do Modelo com 76 árvores:  0.75\n",
      "Precisão do Modelo com 77 árvores:  0.7894736842105263\n",
      "Precisão do Modelo com 78 árvores:  0.7368421052631579\n",
      "Precisão do Modelo com 79 árvores:  0.7647058823529411\n",
      "Precisão do Modelo com 80 árvores:  0.75\n",
      "Precisão do Modelo com 81 árvores:  0.75\n",
      "Precisão do Modelo com 82 árvores:  0.75\n",
      "Precisão do Modelo com 83 árvores:  0.75\n",
      "Precisão do Modelo com 84 árvores:  0.75\n",
      "Precisão do Modelo com 85 árvores:  0.75\n",
      "Precisão do Modelo com 86 árvores:  0.7894736842105263\n",
      "Precisão do Modelo com 87 árvores:  0.7142857142857143\n",
      "Precisão do Modelo com 88 árvores:  0.75\n",
      "Precisão do Modelo com 89 árvores:  0.75\n",
      "Precisão do Modelo com 90 árvores:  0.75\n",
      "Precisão do Modelo com 91 árvores:  0.75\n",
      "Precisão do Modelo com 92 árvores:  0.76\n",
      "Precisão do Modelo com 93 árvores:  0.76\n",
      "Precisão do Modelo com 94 árvores:  0.76\n",
      "Precisão do Modelo com 95 árvores:  0.75\n",
      "Precisão do Modelo com 96 árvores:  0.75\n",
      "Precisão do Modelo com 97 árvores:  0.75\n",
      "Precisão do Modelo com 98 árvores:  0.76\n",
      "Precisão do Modelo com 99 árvores:  0.7692307692307693\n",
      "Precisão do Modelo com 100 árvores:  0.7692307692307693\n",
      "Precisão do Modelo com 101 árvores:  0.76\n",
      "Precisão do Modelo com 102 árvores:  0.76\n",
      "Precisão do Modelo com 103 árvores:  0.76\n",
      "Precisão do Modelo com 104 árvores:  0.76\n",
      "Precisão do Modelo com 105 árvores:  0.76\n",
      "Precisão do Modelo com 106 árvores:  0.76\n",
      "Precisão do Modelo com 107 árvores:  0.75\n",
      "Precisão do Modelo com 108 árvores:  0.76\n",
      "Precisão do Modelo com 109 árvores:  0.76\n",
      "Precisão do Modelo com 110 árvores:  0.76\n",
      "Precisão do Modelo com 111 árvores:  0.76\n",
      "Precisão do Modelo com 112 árvores:  0.76\n",
      "Precisão do Modelo com 113 árvores:  0.76\n",
      "Precisão do Modelo com 114 árvores:  0.76\n",
      "Precisão do Modelo com 115 árvores:  0.7391304347826086\n",
      "Precisão do Modelo com 116 árvores:  0.7272727272727273\n",
      "Precisão do Modelo com 117 árvores:  0.7272727272727273\n",
      "Precisão do Modelo com 118 árvores:  0.7272727272727273\n",
      "Precisão do Modelo com 119 árvores:  0.7272727272727273\n",
      "Precisão do Modelo com 120 árvores:  0.7272727272727273\n",
      "Precisão do Modelo com 121 árvores:  0.7272727272727273\n",
      "Precisão do Modelo com 122 árvores:  0.7272727272727273\n",
      "Precisão do Modelo com 123 árvores:  0.7142857142857143\n",
      "Precisão do Modelo com 124 árvores:  0.7142857142857143\n",
      "Precisão do Modelo com 125 árvores:  0.7272727272727273\n",
      "Precisão do Modelo com 126 árvores:  0.7142857142857143\n",
      "Precisão do Modelo com 127 árvores:  0.7272727272727273\n",
      "Precisão do Modelo com 128 árvores:  0.7142857142857143\n",
      "Precisão do Modelo com 129 árvores:  0.7272727272727273\n",
      "Precisão do Modelo com 130 árvores:  0.7272727272727273\n",
      "Precisão do Modelo com 131 árvores:  0.7142857142857143\n",
      "Precisão do Modelo com 132 árvores:  0.7142857142857143\n",
      "Precisão do Modelo com 133 árvores:  0.7142857142857143\n",
      "Precisão do Modelo com 134 árvores:  0.7272727272727273\n",
      "Precisão do Modelo com 135 árvores:  0.7\n",
      "Precisão do Modelo com 136 árvores:  0.7272727272727273\n",
      "Precisão do Modelo com 137 árvores:  0.7142857142857143\n",
      "Precisão do Modelo com 138 árvores:  0.7142857142857143\n",
      "Precisão do Modelo com 139 árvores:  0.75\n",
      "Precisão do Modelo com 140 árvores:  0.7272727272727273\n",
      "Precisão do Modelo com 141 árvores:  0.7272727272727273\n",
      "Precisão do Modelo com 142 árvores:  0.7142857142857143\n",
      "Precisão do Modelo com 143 árvores:  0.7\n",
      "Precisão do Modelo com 144 árvores:  0.7142857142857143\n",
      "Precisão do Modelo com 145 árvores:  0.7142857142857143\n",
      "Precisão do Modelo com 146 árvores:  0.7142857142857143\n",
      "Precisão do Modelo com 147 árvores:  0.7142857142857143\n",
      "Precisão do Modelo com 148 árvores:  0.7142857142857143\n",
      "Precisão do Modelo com 149 árvores:  0.7142857142857143\n",
      "Precisão do Modelo com 150 árvores:  0.7\n",
      "Precisão do Modelo com 151 árvores:  0.7\n",
      "Precisão do Modelo com 152 árvores:  0.7368421052631579\n",
      "Precisão do Modelo com 153 árvores:  0.7\n",
      "Precisão do Modelo com 154 árvores:  0.7\n",
      "Precisão do Modelo com 155 árvores:  0.7368421052631579\n",
      "Precisão do Modelo com 156 árvores:  0.7368421052631579\n",
      "Precisão do Modelo com 157 árvores:  0.7368421052631579\n",
      "Precisão do Modelo com 158 árvores:  0.75\n",
      "Precisão do Modelo com 159 árvores:  0.7142857142857143\n",
      "Precisão do Modelo com 160 árvores:  0.7142857142857143\n",
      "Precisão do Modelo com 161 árvores:  0.7142857142857143\n",
      "Precisão do Modelo com 162 árvores:  0.7272727272727273\n",
      "Precisão do Modelo com 163 árvores:  0.7272727272727273\n",
      "Precisão do Modelo com 164 árvores:  0.7272727272727273\n",
      "Precisão do Modelo com 165 árvores:  0.7272727272727273\n",
      "Precisão do Modelo com 166 árvores:  0.7272727272727273\n",
      "Precisão do Modelo com 167 árvores:  0.7142857142857143\n",
      "Precisão do Modelo com 168 árvores:  0.7142857142857143\n",
      "Precisão do Modelo com 169 árvores:  0.7142857142857143\n",
      "Precisão do Modelo com 170 árvores:  0.7142857142857143\n"
     ]
    },
    {
     "name": "stdout",
     "output_type": "stream",
     "text": [
      "Precisão do Modelo com 171 árvores:  0.7142857142857143\n",
      "Precisão do Modelo com 172 árvores:  0.7142857142857143\n",
      "Precisão do Modelo com 173 árvores:  0.75\n",
      "Precisão do Modelo com 174 árvores:  0.75\n",
      "Precisão do Modelo com 175 árvores:  0.75\n",
      "Precisão do Modelo com 176 árvores:  0.75\n",
      "Precisão do Modelo com 177 árvores:  0.75\n",
      "Precisão do Modelo com 178 árvores:  0.75\n",
      "Precisão do Modelo com 179 árvores:  0.75\n",
      "Precisão do Modelo com 180 árvores:  0.7142857142857143\n",
      "Precisão do Modelo com 181 árvores:  0.75\n",
      "Precisão do Modelo com 182 árvores:  0.75\n",
      "Precisão do Modelo com 183 árvores:  0.75\n",
      "Precisão do Modelo com 184 árvores:  0.75\n",
      "Precisão do Modelo com 185 árvores:  0.75\n",
      "Precisão do Modelo com 186 árvores:  0.7272727272727273\n",
      "Precisão do Modelo com 187 árvores:  0.7272727272727273\n",
      "Precisão do Modelo com 188 árvores:  0.7272727272727273\n",
      "Precisão do Modelo com 189 árvores:  0.7142857142857143\n",
      "Precisão do Modelo com 190 árvores:  0.75\n",
      "Precisão do Modelo com 191 árvores:  0.75\n",
      "Precisão do Modelo com 192 árvores:  0.75\n",
      "Precisão do Modelo com 193 árvores:  0.75\n",
      "Precisão do Modelo com 194 árvores:  0.75\n",
      "Precisão do Modelo com 195 árvores:  0.75\n",
      "Precisão do Modelo com 196 árvores:  0.75\n",
      "Precisão do Modelo com 197 árvores:  0.75\n",
      "Precisão do Modelo com 198 árvores:  0.75\n",
      "Precisão do Modelo com 199 árvores:  0.75\n",
      "Precisão do Modelo com 200 árvores:  0.75\n",
      "Precisão do Modelo com 201 árvores:  0.75\n",
      "Precisão do Modelo com 202 árvores:  0.75\n",
      "Precisão do Modelo com 203 árvores:  0.75\n",
      "Precisão do Modelo com 204 árvores:  0.75\n",
      "Precisão do Modelo com 205 árvores:  0.75\n",
      "Precisão do Modelo com 206 árvores:  0.75\n",
      "Precisão do Modelo com 207 árvores:  0.75\n",
      "Precisão do Modelo com 208 árvores:  0.7894736842105263\n",
      "Precisão do Modelo com 209 árvores:  0.7894736842105263\n",
      "Precisão do Modelo com 210 árvores:  0.7894736842105263\n",
      "Precisão do Modelo com 211 árvores:  0.7894736842105263\n",
      "Precisão do Modelo com 212 árvores:  0.7894736842105263\n",
      "Precisão do Modelo com 213 árvores:  0.7894736842105263\n",
      "Precisão do Modelo com 214 árvores:  0.7894736842105263\n",
      "Precisão do Modelo com 215 árvores:  0.7368421052631579\n",
      "Precisão do Modelo com 216 árvores:  0.7368421052631579\n",
      "Precisão do Modelo com 217 árvores:  0.7368421052631579\n",
      "Precisão do Modelo com 218 árvores:  0.7368421052631579\n",
      "Precisão do Modelo com 219 árvores:  0.7368421052631579\n",
      "Precisão do Modelo com 220 árvores:  0.7368421052631579\n",
      "Precisão do Modelo com 221 árvores:  0.7368421052631579\n",
      "Precisão do Modelo com 222 árvores:  0.7777777777777778\n",
      "Precisão do Modelo com 223 árvores:  0.7777777777777778\n",
      "Precisão do Modelo com 224 árvores:  0.7777777777777778\n",
      "Precisão do Modelo com 225 árvores:  0.7777777777777778\n",
      "Precisão do Modelo com 226 árvores:  0.7777777777777778\n",
      "Precisão do Modelo com 227 árvores:  0.7777777777777778\n",
      "Precisão do Modelo com 228 árvores:  0.7777777777777778\n",
      "Precisão do Modelo com 229 árvores:  0.7777777777777778\n",
      "Precisão do Modelo com 230 árvores:  0.7777777777777778\n",
      "Precisão do Modelo com 231 árvores:  0.7777777777777778\n",
      "Precisão do Modelo com 232 árvores:  0.7777777777777778\n",
      "Precisão do Modelo com 233 árvores:  0.7777777777777778\n",
      "Precisão do Modelo com 234 árvores:  0.7777777777777778\n",
      "Precisão do Modelo com 235 árvores:  0.7777777777777778\n",
      "Precisão do Modelo com 236 árvores:  0.7777777777777778\n",
      "Precisão do Modelo com 237 árvores:  0.7777777777777778\n",
      "Precisão do Modelo com 238 árvores:  0.7777777777777778\n",
      "Precisão do Modelo com 239 árvores:  0.7777777777777778\n",
      "Precisão do Modelo com 240 árvores:  0.7777777777777778\n",
      "Precisão do Modelo com 241 árvores:  0.7777777777777778\n",
      "Precisão do Modelo com 242 árvores:  0.7777777777777778\n",
      "Precisão do Modelo com 243 árvores:  0.7777777777777778\n",
      "Precisão do Modelo com 244 árvores:  0.7777777777777778\n",
      "Precisão do Modelo com 245 árvores:  0.7777777777777778\n",
      "Precisão do Modelo com 246 árvores:  0.7777777777777778\n",
      "Precisão do Modelo com 247 árvores:  0.7777777777777778\n",
      "Precisão do Modelo com 248 árvores:  0.7777777777777778\n",
      "Precisão do Modelo com 249 árvores:  0.7647058823529411\n",
      "Precisão do Modelo com 250 árvores:  0.7647058823529411\n",
      "Precisão do Modelo com 251 árvores:  0.7647058823529411\n",
      "Precisão do Modelo com 252 árvores:  0.7647058823529411\n",
      "Precisão do Modelo com 253 árvores:  0.75\n",
      "Precisão do Modelo com 254 árvores:  0.75\n",
      "Precisão do Modelo com 255 árvores:  0.75\n",
      "Precisão do Modelo com 256 árvores:  0.75\n",
      "Precisão do Modelo com 257 árvores:  0.7647058823529411\n",
      "Precisão do Modelo com 258 árvores:  0.7647058823529411\n",
      "Precisão do Modelo com 259 árvores:  0.7647058823529411\n",
      "Precisão do Modelo com 260 árvores:  0.7647058823529411\n",
      "Precisão do Modelo com 261 árvores:  0.7647058823529411\n",
      "Precisão do Modelo com 262 árvores:  0.7777777777777778\n",
      "Precisão do Modelo com 263 árvores:  0.7777777777777778\n",
      "Precisão do Modelo com 264 árvores:  0.7777777777777778\n",
      "Precisão do Modelo com 265 árvores:  0.7777777777777778\n",
      "Precisão do Modelo com 266 árvores:  0.7647058823529411\n",
      "Precisão do Modelo com 267 árvores:  0.7647058823529411\n",
      "Precisão do Modelo com 268 árvores:  0.7647058823529411\n",
      "Precisão do Modelo com 269 árvores:  0.7777777777777778\n",
      "Precisão do Modelo com 270 árvores:  0.7777777777777778\n",
      "Precisão do Modelo com 271 árvores:  0.7777777777777778\n",
      "Precisão do Modelo com 272 árvores:  0.7777777777777778\n",
      "Precisão do Modelo com 273 árvores:  0.7777777777777778\n",
      "Precisão do Modelo com 274 árvores:  0.7777777777777778\n",
      "Precisão do Modelo com 275 árvores:  0.7777777777777778\n",
      "Precisão do Modelo com 276 árvores:  0.7777777777777778\n",
      "Precisão do Modelo com 277 árvores:  0.7894736842105263\n",
      "Precisão do Modelo com 278 árvores:  0.7894736842105263\n",
      "Precisão do Modelo com 279 árvores:  0.7777777777777778\n",
      "Precisão do Modelo com 280 árvores:  0.7777777777777778\n",
      "Precisão do Modelo com 281 árvores:  0.7777777777777778\n",
      "Precisão do Modelo com 282 árvores:  0.7777777777777778\n",
      "Precisão do Modelo com 283 árvores:  0.7777777777777778\n",
      "Precisão do Modelo com 284 árvores:  0.7777777777777778\n",
      "Precisão do Modelo com 285 árvores:  0.7777777777777778\n",
      "Precisão do Modelo com 286 árvores:  0.7777777777777778\n",
      "Precisão do Modelo com 287 árvores:  0.7894736842105263\n",
      "Precisão do Modelo com 288 árvores:  0.7894736842105263\n",
      "Precisão do Modelo com 289 árvores:  0.7894736842105263\n",
      "Precisão do Modelo com 290 árvores:  0.7894736842105263\n",
      "Precisão do Modelo com 291 árvores:  0.7894736842105263\n",
      "Precisão do Modelo com 292 árvores:  0.7894736842105263\n",
      "Precisão do Modelo com 293 árvores:  0.7894736842105263\n",
      "Precisão do Modelo com 294 árvores:  0.7894736842105263\n",
      "Precisão do Modelo com 295 árvores:  0.7894736842105263\n",
      "Precisão do Modelo com 296 árvores:  0.7894736842105263\n",
      "Precisão do Modelo com 297 árvores:  0.7894736842105263\n",
      "Precisão do Modelo com 298 árvores:  0.7777777777777778\n",
      "Precisão do Modelo com 299 árvores:  0.7777777777777778\n",
      "Precisão do Modelo com 300 árvores:  0.7368421052631579\n"
     ]
    }
   ],
   "source": [
    "from sklearn.metrics import accuracy_score, f1_score, recall_score, precision_score #import de funções que calculam as métricas de erro\n",
    "\n",
    "precisao_2 = []\n",
    "\n",
    "num_arvores = list(range(1,301))\n",
    "\n",
    "for i in range (len(num_arvores)):\n",
    "    \n",
    "    clf_best = RandomForestClassifier(n_estimators=num_arvores[i], random_state=42, max_depth=1)\n",
    "    clf_best.fit(X_train, y_train) \n",
    "    \n",
    "        # Analisando Performance\n",
    "    print(\"Precisão do Modelo com\", num_arvores[i], \"árvores: \",precision_score(y_test,clf_best.predict(X_test)))\n",
    "    precisao_2.append(precision_score(y_test,clf_best.predict(X_test)))\n",
    "\n",
    "df_result_best = pd.DataFrame(data={\"Número de Árvores\": num_arvores, \"Precisão\": precisao_2})"
   ]
  },
  {
   "cell_type": "code",
   "execution_count": 32,
   "metadata": {},
   "outputs": [
    {
     "name": "stdout",
     "output_type": "stream",
     "text": [
      "Precisão do Modelo com 1 árvores:  0.5737704918032787\n",
      "Precisão do Modelo com 2 árvores:  0.6119402985074627\n",
      "Precisão do Modelo com 3 árvores:  0.6440677966101694\n",
      "Precisão do Modelo com 4 árvores:  0.6119402985074627\n",
      "Precisão do Modelo com 5 árvores:  0.6428571428571429\n",
      "Precisão do Modelo com 6 árvores:  0.6388888888888888\n",
      "Precisão do Modelo com 7 árvores:  0.6363636363636364\n",
      "Precisão do Modelo com 8 árvores:  0.6363636363636364\n",
      "Precisão do Modelo com 9 árvores:  0.640625\n",
      "Precisão do Modelo com 10 árvores:  0.65625\n",
      "Precisão do Modelo com 11 árvores:  0.6666666666666666\n",
      "Precisão do Modelo com 12 árvores:  0.6507936507936508\n",
      "Precisão do Modelo com 13 árvores:  0.6610169491525424\n",
      "Precisão do Modelo com 14 árvores:  0.6557377049180327\n",
      "Precisão do Modelo com 15 árvores:  0.6610169491525424\n",
      "Precisão do Modelo com 16 árvores:  0.6721311475409836\n",
      "Precisão do Modelo com 17 árvores:  0.6833333333333333\n",
      "Precisão do Modelo com 18 árvores:  0.6833333333333333\n",
      "Precisão do Modelo com 19 árvores:  0.6721311475409836\n",
      "Precisão do Modelo com 20 árvores:  0.6666666666666666\n",
      "Precisão do Modelo com 21 árvores:  0.6666666666666666\n",
      "Precisão do Modelo com 22 árvores:  0.6557377049180327\n",
      "Precisão do Modelo com 23 árvores:  0.6833333333333333\n",
      "Precisão do Modelo com 24 árvores:  0.6833333333333333\n",
      "Precisão do Modelo com 25 árvores:  0.6896551724137931\n",
      "Precisão do Modelo com 26 árvores:  0.6896551724137931\n",
      "Precisão do Modelo com 27 árvores:  0.6949152542372882\n",
      "Precisão do Modelo com 28 árvores:  0.7\n",
      "Precisão do Modelo com 29 árvores:  0.6833333333333333\n",
      "Precisão do Modelo com 30 árvores:  0.6833333333333333\n",
      "Precisão do Modelo com 31 árvores:  0.6774193548387096\n",
      "Precisão do Modelo com 32 árvores:  0.6949152542372882\n",
      "Precisão do Modelo com 33 árvores:  0.6774193548387096\n",
      "Precisão do Modelo com 34 árvores:  0.6896551724137931\n",
      "Precisão do Modelo com 35 árvores:  0.7068965517241379\n",
      "Precisão do Modelo com 36 árvores:  0.6779661016949152\n",
      "Precisão do Modelo com 37 árvores:  0.6896551724137931\n",
      "Precisão do Modelo com 38 árvores:  0.6896551724137931\n",
      "Precisão do Modelo com 39 árvores:  0.7142857142857143\n",
      "Precisão do Modelo com 40 árvores:  0.7142857142857143\n",
      "Precisão do Modelo com 41 árvores:  0.7017543859649122\n",
      "Precisão do Modelo com 42 árvores:  0.6896551724137931\n",
      "Precisão do Modelo com 43 árvores:  0.6896551724137931\n",
      "Precisão do Modelo com 44 árvores:  0.7017543859649122\n",
      "Precisão do Modelo com 45 árvores:  0.6896551724137931\n",
      "Precisão do Modelo com 46 árvores:  0.7068965517241379\n",
      "Precisão do Modelo com 47 árvores:  0.7068965517241379\n",
      "Precisão do Modelo com 48 árvores:  0.6896551724137931\n",
      "Precisão do Modelo com 49 árvores:  0.6896551724137931\n",
      "Precisão do Modelo com 50 árvores:  0.6896551724137931\n",
      "Precisão do Modelo com 51 árvores:  0.7017543859649122\n",
      "Precisão do Modelo com 52 árvores:  0.6896551724137931\n",
      "Precisão do Modelo com 53 árvores:  0.6779661016949152\n",
      "Precisão do Modelo com 54 árvores:  0.6779661016949152\n",
      "Precisão do Modelo com 55 árvores:  0.6779661016949152\n",
      "Precisão do Modelo com 56 árvores:  0.6666666666666666\n",
      "Precisão do Modelo com 57 árvores:  0.6666666666666666\n",
      "Precisão do Modelo com 58 árvores:  0.6666666666666666\n",
      "Precisão do Modelo com 59 árvores:  0.6666666666666666\n",
      "Precisão do Modelo com 60 árvores:  0.6666666666666666\n",
      "Precisão do Modelo com 61 árvores:  0.6666666666666666\n",
      "Precisão do Modelo com 62 árvores:  0.6666666666666666\n",
      "Precisão do Modelo com 63 árvores:  0.6666666666666666\n",
      "Precisão do Modelo com 64 árvores:  0.6666666666666666\n",
      "Precisão do Modelo com 65 árvores:  0.6779661016949152\n",
      "Precisão do Modelo com 66 árvores:  0.6666666666666666\n",
      "Precisão do Modelo com 67 árvores:  0.6724137931034483\n",
      "Precisão do Modelo com 68 árvores:  0.6610169491525424\n",
      "Precisão do Modelo com 69 árvores:  0.6610169491525424\n",
      "Precisão do Modelo com 70 árvores:  0.6724137931034483\n",
      "Precisão do Modelo com 71 árvores:  0.6842105263157895\n",
      "Precisão do Modelo com 72 árvores:  0.6724137931034483\n",
      "Precisão do Modelo com 73 árvores:  0.6724137931034483\n",
      "Precisão do Modelo com 74 árvores:  0.6724137931034483\n",
      "Precisão do Modelo com 75 árvores:  0.6724137931034483\n",
      "Precisão do Modelo com 76 árvores:  0.6724137931034483\n",
      "Precisão do Modelo com 77 árvores:  0.6724137931034483\n",
      "Precisão do Modelo com 78 árvores:  0.6724137931034483\n",
      "Precisão do Modelo com 79 árvores:  0.6896551724137931\n",
      "Precisão do Modelo com 80 árvores:  0.6779661016949152\n",
      "Precisão do Modelo com 81 árvores:  0.6724137931034483\n",
      "Precisão do Modelo com 82 árvores:  0.6724137931034483\n",
      "Precisão do Modelo com 83 árvores:  0.6896551724137931\n",
      "Precisão do Modelo com 84 árvores:  0.6724137931034483\n",
      "Precisão do Modelo com 85 árvores:  0.6724137931034483\n",
      "Precisão do Modelo com 86 árvores:  0.6724137931034483\n",
      "Precisão do Modelo com 87 árvores:  0.6724137931034483\n",
      "Precisão do Modelo com 88 árvores:  0.6724137931034483\n",
      "Precisão do Modelo com 89 árvores:  0.6724137931034483\n",
      "Precisão do Modelo com 90 árvores:  0.6724137931034483\n",
      "Precisão do Modelo com 91 árvores:  0.6724137931034483\n",
      "Precisão do Modelo com 92 árvores:  0.6724137931034483\n",
      "Precisão do Modelo com 93 árvores:  0.6724137931034483\n",
      "Precisão do Modelo com 94 árvores:  0.6724137931034483\n",
      "Precisão do Modelo com 95 árvores:  0.6724137931034483\n",
      "Precisão do Modelo com 96 árvores:  0.6724137931034483\n",
      "Precisão do Modelo com 97 árvores:  0.6779661016949152\n",
      "Precisão do Modelo com 98 árvores:  0.6779661016949152\n",
      "Precisão do Modelo com 99 árvores:  0.6779661016949152\n",
      "Precisão do Modelo com 100 árvores:  0.6779661016949152\n",
      "Precisão do Modelo com 101 árvores:  0.6779661016949152\n",
      "Precisão do Modelo com 102 árvores:  0.6779661016949152\n",
      "Precisão do Modelo com 103 árvores:  0.6724137931034483\n",
      "Precisão do Modelo com 104 árvores:  0.6724137931034483\n",
      "Precisão do Modelo com 105 árvores:  0.6724137931034483\n",
      "Precisão do Modelo com 106 árvores:  0.6779661016949152\n",
      "Precisão do Modelo com 107 árvores:  0.6724137931034483\n",
      "Precisão do Modelo com 108 árvores:  0.6724137931034483\n",
      "Precisão do Modelo com 109 árvores:  0.6724137931034483\n",
      "Precisão do Modelo com 110 árvores:  0.6779661016949152\n",
      "Precisão do Modelo com 111 árvores:  0.6779661016949152\n",
      "Precisão do Modelo com 112 árvores:  0.6724137931034483\n",
      "Precisão do Modelo com 113 árvores:  0.6724137931034483\n",
      "Precisão do Modelo com 114 árvores:  0.6724137931034483\n",
      "Precisão do Modelo com 115 árvores:  0.6724137931034483\n",
      "Precisão do Modelo com 116 árvores:  0.6724137931034483\n",
      "Precisão do Modelo com 117 árvores:  0.6779661016949152\n",
      "Precisão do Modelo com 118 árvores:  0.6779661016949152\n",
      "Precisão do Modelo com 119 árvores:  0.6779661016949152\n",
      "Precisão do Modelo com 120 árvores:  0.6724137931034483\n",
      "Precisão do Modelo com 121 árvores:  0.6724137931034483\n",
      "Precisão do Modelo com 122 árvores:  0.6724137931034483\n",
      "Precisão do Modelo com 123 árvores:  0.6724137931034483\n",
      "Precisão do Modelo com 124 árvores:  0.6724137931034483\n",
      "Precisão do Modelo com 125 árvores:  0.6724137931034483\n",
      "Precisão do Modelo com 126 árvores:  0.6724137931034483\n",
      "Precisão do Modelo com 127 árvores:  0.6724137931034483\n",
      "Precisão do Modelo com 128 árvores:  0.6724137931034483\n",
      "Precisão do Modelo com 129 árvores:  0.6724137931034483\n",
      "Precisão do Modelo com 130 árvores:  0.6724137931034483\n",
      "Precisão do Modelo com 131 árvores:  0.6724137931034483\n",
      "Precisão do Modelo com 132 árvores:  0.6724137931034483\n",
      "Precisão do Modelo com 133 árvores:  0.6724137931034483\n",
      "Precisão do Modelo com 134 árvores:  0.6724137931034483\n",
      "Precisão do Modelo com 135 árvores:  0.6724137931034483\n",
      "Precisão do Modelo com 136 árvores:  0.6724137931034483\n",
      "Precisão do Modelo com 137 árvores:  0.6724137931034483\n",
      "Precisão do Modelo com 138 árvores:  0.6724137931034483\n",
      "Precisão do Modelo com 139 árvores:  0.6724137931034483\n",
      "Precisão do Modelo com 140 árvores:  0.6724137931034483\n",
      "Precisão do Modelo com 141 árvores:  0.6724137931034483\n",
      "Precisão do Modelo com 142 árvores:  0.6724137931034483\n",
      "Precisão do Modelo com 143 árvores:  0.6724137931034483\n",
      "Precisão do Modelo com 144 árvores:  0.6724137931034483\n",
      "Precisão do Modelo com 145 árvores:  0.6724137931034483\n",
      "Precisão do Modelo com 146 árvores:  0.6724137931034483\n",
      "Precisão do Modelo com 147 árvores:  0.6724137931034483\n",
      "Precisão do Modelo com 148 árvores:  0.6724137931034483\n",
      "Precisão do Modelo com 149 árvores:  0.6724137931034483\n"
     ]
    },
    {
     "name": "stdout",
     "output_type": "stream",
     "text": [
      "Precisão do Modelo com 150 árvores:  0.6724137931034483\n",
      "Precisão do Modelo com 151 árvores:  0.6724137931034483\n",
      "Precisão do Modelo com 152 árvores:  0.6724137931034483\n",
      "Precisão do Modelo com 153 árvores:  0.6724137931034483\n",
      "Precisão do Modelo com 154 árvores:  0.6724137931034483\n",
      "Precisão do Modelo com 155 árvores:  0.6724137931034483\n",
      "Precisão do Modelo com 156 árvores:  0.6724137931034483\n",
      "Precisão do Modelo com 157 árvores:  0.6724137931034483\n",
      "Precisão do Modelo com 158 árvores:  0.6724137931034483\n",
      "Precisão do Modelo com 159 árvores:  0.6724137931034483\n",
      "Precisão do Modelo com 160 árvores:  0.6724137931034483\n",
      "Precisão do Modelo com 161 árvores:  0.6724137931034483\n",
      "Precisão do Modelo com 162 árvores:  0.6724137931034483\n",
      "Precisão do Modelo com 163 árvores:  0.6724137931034483\n",
      "Precisão do Modelo com 164 árvores:  0.6724137931034483\n",
      "Precisão do Modelo com 165 árvores:  0.6724137931034483\n",
      "Precisão do Modelo com 166 árvores:  0.6724137931034483\n",
      "Precisão do Modelo com 167 árvores:  0.6724137931034483\n",
      "Precisão do Modelo com 168 árvores:  0.6724137931034483\n",
      "Precisão do Modelo com 169 árvores:  0.6724137931034483\n",
      "Precisão do Modelo com 170 árvores:  0.6724137931034483\n",
      "Precisão do Modelo com 171 árvores:  0.6724137931034483\n",
      "Precisão do Modelo com 172 árvores:  0.6724137931034483\n",
      "Precisão do Modelo com 173 árvores:  0.6724137931034483\n",
      "Precisão do Modelo com 174 árvores:  0.6724137931034483\n",
      "Precisão do Modelo com 175 árvores:  0.6724137931034483\n",
      "Precisão do Modelo com 176 árvores:  0.6724137931034483\n",
      "Precisão do Modelo com 177 árvores:  0.6724137931034483\n",
      "Precisão do Modelo com 178 árvores:  0.6724137931034483\n",
      "Precisão do Modelo com 179 árvores:  0.6724137931034483\n",
      "Precisão do Modelo com 180 árvores:  0.6724137931034483\n",
      "Precisão do Modelo com 181 árvores:  0.6724137931034483\n",
      "Precisão do Modelo com 182 árvores:  0.6724137931034483\n",
      "Precisão do Modelo com 183 árvores:  0.6724137931034483\n",
      "Precisão do Modelo com 184 árvores:  0.6724137931034483\n",
      "Precisão do Modelo com 185 árvores:  0.6724137931034483\n",
      "Precisão do Modelo com 186 árvores:  0.6724137931034483\n",
      "Precisão do Modelo com 187 árvores:  0.6724137931034483\n",
      "Precisão do Modelo com 188 árvores:  0.6724137931034483\n",
      "Precisão do Modelo com 189 árvores:  0.6724137931034483\n",
      "Precisão do Modelo com 190 árvores:  0.6724137931034483\n",
      "Precisão do Modelo com 191 árvores:  0.6724137931034483\n",
      "Precisão do Modelo com 192 árvores:  0.6724137931034483\n",
      "Precisão do Modelo com 193 árvores:  0.6724137931034483\n",
      "Precisão do Modelo com 194 árvores:  0.6724137931034483\n",
      "Precisão do Modelo com 195 árvores:  0.6724137931034483\n",
      "Precisão do Modelo com 196 árvores:  0.6724137931034483\n",
      "Precisão do Modelo com 197 árvores:  0.6724137931034483\n",
      "Precisão do Modelo com 198 árvores:  0.6724137931034483\n",
      "Precisão do Modelo com 199 árvores:  0.6724137931034483\n",
      "Precisão do Modelo com 200 árvores:  0.6724137931034483\n",
      "Precisão do Modelo com 201 árvores:  0.6724137931034483\n",
      "Precisão do Modelo com 202 árvores:  0.6724137931034483\n",
      "Precisão do Modelo com 203 árvores:  0.6724137931034483\n",
      "Precisão do Modelo com 204 árvores:  0.6724137931034483\n",
      "Precisão do Modelo com 205 árvores:  0.6842105263157895\n",
      "Precisão do Modelo com 206 árvores:  0.6842105263157895\n",
      "Precisão do Modelo com 207 árvores:  0.6724137931034483\n",
      "Precisão do Modelo com 208 árvores:  0.6724137931034483\n",
      "Precisão do Modelo com 209 árvores:  0.6724137931034483\n",
      "Precisão do Modelo com 210 árvores:  0.6724137931034483\n",
      "Precisão do Modelo com 211 árvores:  0.6896551724137931\n",
      "Precisão do Modelo com 212 árvores:  0.6842105263157895\n",
      "Precisão do Modelo com 213 árvores:  0.6842105263157895\n",
      "Precisão do Modelo com 214 árvores:  0.6842105263157895\n",
      "Precisão do Modelo com 215 árvores:  0.6842105263157895\n",
      "Precisão do Modelo com 216 árvores:  0.6842105263157895\n",
      "Precisão do Modelo com 217 árvores:  0.6842105263157895\n",
      "Precisão do Modelo com 218 árvores:  0.6842105263157895\n",
      "Precisão do Modelo com 219 árvores:  0.6842105263157895\n",
      "Precisão do Modelo com 220 árvores:  0.6896551724137931\n",
      "Precisão do Modelo com 221 árvores:  0.6896551724137931\n",
      "Precisão do Modelo com 222 árvores:  0.6896551724137931\n",
      "Precisão do Modelo com 223 árvores:  0.6896551724137931\n",
      "Precisão do Modelo com 224 árvores:  0.7068965517241379\n",
      "Precisão do Modelo com 225 árvores:  0.7017543859649122\n",
      "Precisão do Modelo com 226 árvores:  0.6964285714285714\n",
      "Precisão do Modelo com 227 árvores:  0.7068965517241379\n",
      "Precisão do Modelo com 228 árvores:  0.7068965517241379\n",
      "Precisão do Modelo com 229 árvores:  0.7068965517241379\n",
      "Precisão do Modelo com 230 árvores:  0.7068965517241379\n",
      "Precisão do Modelo com 231 árvores:  0.7068965517241379\n",
      "Precisão do Modelo com 232 árvores:  0.7017543859649122\n",
      "Precisão do Modelo com 233 árvores:  0.7068965517241379\n",
      "Precisão do Modelo com 234 árvores:  0.7068965517241379\n",
      "Precisão do Modelo com 235 árvores:  0.7068965517241379\n",
      "Precisão do Modelo com 236 árvores:  0.6949152542372882\n",
      "Precisão do Modelo com 237 árvores:  0.7068965517241379\n",
      "Precisão do Modelo com 238 árvores:  0.7068965517241379\n",
      "Precisão do Modelo com 239 árvores:  0.7068965517241379\n",
      "Precisão do Modelo com 240 árvores:  0.7068965517241379\n",
      "Precisão do Modelo com 241 árvores:  0.7068965517241379\n",
      "Precisão do Modelo com 242 árvores:  0.7068965517241379\n",
      "Precisão do Modelo com 243 árvores:  0.7068965517241379\n",
      "Precisão do Modelo com 244 árvores:  0.7068965517241379\n",
      "Precisão do Modelo com 245 árvores:  0.7068965517241379\n",
      "Precisão do Modelo com 246 árvores:  0.7068965517241379\n",
      "Precisão do Modelo com 247 árvores:  0.7068965517241379\n",
      "Precisão do Modelo com 248 árvores:  0.6949152542372882\n",
      "Precisão do Modelo com 249 árvores:  0.7068965517241379\n",
      "Precisão do Modelo com 250 árvores:  0.7068965517241379\n",
      "Precisão do Modelo com 251 árvores:  0.7068965517241379\n",
      "Precisão do Modelo com 252 árvores:  0.7068965517241379\n",
      "Precisão do Modelo com 253 árvores:  0.7068965517241379\n",
      "Precisão do Modelo com 254 árvores:  0.7017543859649122\n",
      "Precisão do Modelo com 255 árvores:  0.7068965517241379\n",
      "Precisão do Modelo com 256 árvores:  0.7068965517241379\n",
      "Precisão do Modelo com 257 árvores:  0.7068965517241379\n",
      "Precisão do Modelo com 258 árvores:  0.7068965517241379\n",
      "Precisão do Modelo com 259 árvores:  0.7068965517241379\n",
      "Precisão do Modelo com 260 árvores:  0.7068965517241379\n",
      "Precisão do Modelo com 261 árvores:  0.7068965517241379\n",
      "Precisão do Modelo com 262 árvores:  0.7068965517241379\n",
      "Precisão do Modelo com 263 árvores:  0.7068965517241379\n",
      "Precisão do Modelo com 264 árvores:  0.7017543859649122\n",
      "Precisão do Modelo com 265 árvores:  0.7017543859649122\n",
      "Precisão do Modelo com 266 árvores:  0.7017543859649122\n",
      "Precisão do Modelo com 267 árvores:  0.7017543859649122\n",
      "Precisão do Modelo com 268 árvores:  0.7017543859649122\n",
      "Precisão do Modelo com 269 árvores:  0.7017543859649122\n",
      "Precisão do Modelo com 270 árvores:  0.7017543859649122\n",
      "Precisão do Modelo com 271 árvores:  0.7017543859649122\n",
      "Precisão do Modelo com 272 árvores:  0.6896551724137931\n",
      "Precisão do Modelo com 273 árvores:  0.6896551724137931\n",
      "Precisão do Modelo com 274 árvores:  0.7017543859649122\n",
      "Precisão do Modelo com 275 árvores:  0.6896551724137931\n",
      "Precisão do Modelo com 276 árvores:  0.6896551724137931\n",
      "Precisão do Modelo com 277 árvores:  0.7017543859649122\n",
      "Precisão do Modelo com 278 árvores:  0.7017543859649122\n",
      "Precisão do Modelo com 279 árvores:  0.7017543859649122\n",
      "Precisão do Modelo com 280 árvores:  0.6896551724137931\n",
      "Precisão do Modelo com 281 árvores:  0.6896551724137931\n",
      "Precisão do Modelo com 282 árvores:  0.6896551724137931\n",
      "Precisão do Modelo com 283 árvores:  0.6896551724137931\n",
      "Precisão do Modelo com 284 árvores:  0.6896551724137931\n",
      "Precisão do Modelo com 285 árvores:  0.6896551724137931\n",
      "Precisão do Modelo com 286 árvores:  0.6896551724137931\n",
      "Precisão do Modelo com 287 árvores:  0.6896551724137931\n",
      "Precisão do Modelo com 288 árvores:  0.6896551724137931\n",
      "Precisão do Modelo com 289 árvores:  0.6896551724137931\n",
      "Precisão do Modelo com 290 árvores:  0.6896551724137931\n",
      "Precisão do Modelo com 291 árvores:  0.6896551724137931\n",
      "Precisão do Modelo com 292 árvores:  0.6896551724137931\n",
      "Precisão do Modelo com 293 árvores:  0.6896551724137931\n",
      "Precisão do Modelo com 294 árvores:  0.6896551724137931\n",
      "Precisão do Modelo com 295 árvores:  0.6896551724137931\n",
      "Precisão do Modelo com 296 árvores:  0.6896551724137931\n"
     ]
    },
    {
     "name": "stdout",
     "output_type": "stream",
     "text": [
      "Precisão do Modelo com 297 árvores:  0.6896551724137931\n",
      "Precisão do Modelo com 298 árvores:  0.6896551724137931\n",
      "Precisão do Modelo com 299 árvores:  0.6896551724137931\n",
      "Precisão do Modelo com 300 árvores:  0.6896551724137931\n"
     ]
    }
   ],
   "source": [
    "from sklearn.metrics import accuracy_score, f1_score, recall_score, precision_score #import de funções que calculam as métricas de erro\n",
    "\n",
    "precisao_2 = []\n",
    "\n",
    "num_arvores = list(range(1,301))\n",
    "\n",
    "for i in range (len(num_arvores)):\n",
    "    \n",
    "    clf_best = RandomForestClassifier(n_estimators=num_arvores[i], random_state=42, max_depth=4)\n",
    "    clf_best.fit(X_train, y_train) \n",
    "    \n",
    "        # Analisando Performance\n",
    "    print(\"Precisão do Modelo com\", num_arvores[i], \"árvores: \",precision_score(y_test,clf_best.predict(X_test)))\n",
    "    precisao_2.append(precision_score(y_test,clf_best.predict(X_test)))\n",
    "\n",
    "df_result_best = pd.DataFrame(data={\"Número de Árvores\": num_arvores, \"Precisão\": precisao_2})"
   ]
  },
  {
   "cell_type": "markdown",
   "metadata": {},
   "source": [
    "### Seleção de Variáveis"
   ]
  },
  {
   "cell_type": "markdown",
   "metadata": {},
   "source": [
    "### Exemplo - Feature Importance"
   ]
  },
  {
   "cell_type": "code",
   "execution_count": 53,
   "metadata": {},
   "outputs": [
    {
     "data": {
      "text/plain": [
       "Text(0.5, 1.0, 'Importância de cada features')"
      ]
     },
     "execution_count": 53,
     "metadata": {},
     "output_type": "execute_result"
    },
    {
     "data": {
      "image/png": "[encoded data removed]",
      "text/plain": [
       "<Figure size 432x288 with 1 Axes>"
      ]
     },
     "metadata": {
      "needs_background": "light"
     },
     "output_type": "display_data"
    }
   ],
   "source": [
    "import seaborn as sns\n",
    "\n",
    "features_feature_importance = list(X_train.columns)\n",
    "features_feature_importance\n",
    "\n",
    "X_train_feature_importance = X_train[features_feature_importance]\n",
    "X_test_feature_importance = X_test[features_feature_importance]\n",
    "\n",
    "model = RandomForestClassifier(n_estimators=10, max_depth=1, random_state=42)\n",
    "model.fit(X_train_feature_importance, y_train)\n",
    "model.feature_importances_\n",
    "\n",
    "importances = pd.Series(data=model.feature_importances_, index=features_feature_importance)\n",
    "sns.barplot(x=importances, y=importances.index, orient='h').set_title('Importância de cada features')"
   ]
  },
  {
   "cell_type": "code",
   "execution_count": 54,
   "metadata": {},
   "outputs": [
    {
     "name": "stdout",
     "output_type": "stream",
     "text": [
      "Precisão do Modelo:  0.9166666666666666\n"
     ]
    }
   ],
   "source": [
    "print(\"Precisão do Modelo: \",precision_score(y_test,model.predict(X_test)))"
   ]
  },
  {
   "cell_type": "code",
   "execution_count": 55,
   "metadata": {},
   "outputs": [
    {
     "data": {
      "text/plain": [
       "Text(0.5, 1.0, 'Importância de cada features')"
      ]
     },
     "execution_count": 55,
     "metadata": {},
     "output_type": "execute_result"
    },
    {
     "data": {
      "image/png": "[encoded data removed]",
      "text/plain": [
       "<Figure size 432x288 with 1 Axes>"
      ]
     },
     "metadata": {
      "needs_background": "light"
     },
     "output_type": "display_data"
    }
   ],
   "source": [
    "import seaborn as sns\n",
    "\n",
    "features_feature_importance = list(X_train.columns)\n",
    "features_feature_importance\n",
    "\n",
    "X_train_feature_importance = X_train[features_feature_importance]\n",
    "X_test_feature_importance = X_test[features_feature_importance]\n",
    "\n",
    "model = RandomForestClassifier(n_estimators=10, max_depth=3, random_state=42)\n",
    "model.fit(X_train_feature_importance, y_train)\n",
    "model.feature_importances_\n",
    "\n",
    "importances = pd.Series(data=model.feature_importances_, index=features_feature_importance)\n",
    "sns.barplot(x=importances, y=importances.index, orient='h').set_title('Importância de cada features')"
   ]
  },
  {
   "cell_type": "markdown",
   "metadata": {},
   "source": [
    "### MLP Classifier"
   ]
  },
  {
   "cell_type": "code",
   "execution_count": 56,
   "metadata": {},
   "outputs": [],
   "source": [
    "import numpy as np #Import de pacote para manipulação de matrizes\n",
    "import pandas as pd #Import de pacote para manipulação de dataframes\n",
    "from sklearn.neural_network import MLPClassifier #importe de pacote com funções de rede neural\n",
    "from sklearn.model_selection import train_test_split #import de pacote para divisão da base em treino e teste (2000/400)\n",
    "from sklearn.metrics import accuracy_score, f1_score, recall_score, precision_score #import de funções que calculam as métricas de erro"
   ]
  },
  {
   "cell_type": "code",
   "execution_count": 59,
   "metadata": {},
   "outputs": [
    {
     "name": "stdout",
     "output_type": "stream",
     "text": [
      "Precisão do Modelo:  1.0\n"
     ]
    }
   ],
   "source": [
    "# Instanciando e treinando rede neural genérica\n",
    "\n",
    "mlp_classifier = MLPClassifier(hidden_layer_sizes=(100, 4))\n",
    "mlp_classifier.fit(X_train, y_train)\n",
    "print(\"Precisão do Modelo: \",precision_score(y_test,mlp_classifier.predict(X_test)))"
   ]
  },
  {
   "cell_type": "code",
   "execution_count": 60,
   "metadata": {},
   "outputs": [
    {
     "name": "stdout",
     "output_type": "stream",
     "text": [
      "Precisão do Modelo:  0.6111111111111112\n"
     ]
    },
    {
     "name": "stderr",
     "output_type": "stream",
     "text": [
      "C:\\Users\\danie\\AppData\\Roaming\\Python\\Python38\\site-packages\\sklearn\\neural_network\\_multilayer_perceptron.py:630: ConvergenceWarning: Stochastic Optimizer: Maximum iterations (500) reached and the optimization hasn't converged yet.\n",
      "  warnings.warn(\n"
     ]
    }
   ],
   "source": [
    "# Alteração de hiperparâmetros do algoritmo\n",
    "\n",
    "mlp_classifier = MLPClassifier(activation='logistic', max_iter=500, random_state=42, hidden_layer_sizes=(10,5))\n",
    "mlp_classifier.fit(X_train, y_train)\n",
    "print(\"Precisão do Modelo: \",precision_score(y_test,mlp_classifier.predict(X_test)))"
   ]
  }
 ],
 "metadata": {
  "kernelspec": {
   "display_name": "Python 3",
   "language": "python",
   "name": "python3"
  },
  "language_info": {
   "codemirror_mode": {
    "name": "ipython",
    "version": 3
   },
   "file_extension": ".py",
   "mimetype": "text/x-python",
   "name": "python",
   "nbconvert_exporter": "python",
   "pygments_lexer": "ipython3",
   "version": "3.8.3"
  }
 },
 "nbformat": 4,
 "nbformat_minor": 2
}
