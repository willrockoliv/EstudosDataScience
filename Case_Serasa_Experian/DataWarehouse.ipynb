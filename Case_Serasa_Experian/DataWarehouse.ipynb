{
 "cells": [
  {
   "cell_type": "code",
   "execution_count": 108,
   "metadata": {},
   "outputs": [],
   "source": [
    "from pyspark import SparkContext\n",
    "from pyspark.sql import SparkSession\n",
    "from pyspark.sql import SQLContext\n",
    "from pyspark.sql import functions as F\n",
    "from pyspark.sql.types import *\n",
    "\n",
    "sc = SparkContext.getOrCreate()\n",
    "spark = SparkSession.builder.getOrCreate()\n",
    "sqlContext = SQLContext(sc)"
   ]
  },
  {
   "cell_type": "code",
   "execution_count": 109,
   "metadata": {},
   "outputs": [],
   "source": [
    "layer = 1\n",
    "table = \"tweets\"\n",
    "path = f\"./layer{layer}/{table}\""
   ]
  },
  {
   "cell_type": "code",
   "execution_count": 110,
   "metadata": {},
   "outputs": [],
   "source": [
    "tweets = spark.read.parquet(path)"
   ]
  },
  {
   "cell_type": "code",
   "execution_count": 111,
   "metadata": {},
   "outputs": [
    {
     "data": {
      "text/plain": [
       "1497"
      ]
     },
     "execution_count": 111,
     "metadata": {},
     "output_type": "execute_result"
    }
   ],
   "source": [
    "tweets.count()"
   ]
  },
  {
   "cell_type": "code",
   "execution_count": 112,
   "metadata": {},
   "outputs": [
    {
     "data": {
      "text/plain": [
       "[StructField(tweet_id,StringType,true),\n",
       " StructField(created_at,StringType,true),\n",
       " StructField(text,StringType,true),\n",
       " StructField(hashtags,StringType,true),\n",
       " StructField(retweet_count,IntegerType,true),\n",
       " StructField(possibly_sensitive,BooleanType,true),\n",
       " StructField(lang,StringType,true),\n",
       " StructField(user_id,StringType,true),\n",
       " StructField(user_name,StringType,true),\n",
       " StructField(user_description,StringType,true),\n",
       " StructField(user_verification,BooleanType,true),\n",
       " StructField(user_followers_count,IntegerType,true),\n",
       " StructField(user_friends_count,IntegerType,true),\n",
       " StructField(user_created_at,StringType,true),\n",
       " StructField(user_location,StringType,true),\n",
       " StructField(etl_load,TimestampType,true),\n",
       " StructField(etl_load_partition_year,IntegerType,true),\n",
       " StructField(etl_load_partition_month,IntegerType,true),\n",
       " StructField(etl_load_partition_day,IntegerType,true),\n",
       " StructField(etl_load_partition_hour,IntegerType,true)]"
      ]
     },
     "execution_count": 112,
     "metadata": {},
     "output_type": "execute_result"
    }
   ],
   "source": [
    "list(tweets.schema)"
   ]
  },
  {
   "cell_type": "code",
   "execution_count": 113,
   "metadata": {},
   "outputs": [],
   "source": [
    "from datetime import datetime"
   ]
  },
  {
   "cell_type": "code",
   "execution_count": 159,
   "metadata": {
    "scrolled": true
   },
   "outputs": [
    {
     "data": {
      "text/html": [
       "<div>\n",
       "<style scoped>\n",
       "    .dataframe tbody tr th:only-of-type {\n",
       "        vertical-align: middle;\n",
       "    }\n",
       "\n",
       "    .dataframe tbody tr th {\n",
       "        vertical-align: top;\n",
       "    }\n",
       "\n",
       "    .dataframe thead th {\n",
       "        text-align: right;\n",
       "    }\n",
       "</style>\n",
       "<table border=\"1\" class=\"dataframe\">\n",
       "  <thead>\n",
       "    <tr style=\"text-align: right;\">\n",
       "      <th></th>\n",
       "      <th>tweet_id</th>\n",
       "      <th>tmsp</th>\n",
       "      <th>tmsp2</th>\n",
       "      <th>created_at</th>\n",
       "      <th>created_at_3</th>\n",
       "    </tr>\n",
       "  </thead>\n",
       "  <tbody>\n",
       "    <tr>\n",
       "      <th>0</th>\n",
       "      <td>1358589255191248898</td>\n",
       "      <td>2021-02-08 01:31:34</td>\n",
       "      <td>Mon Feb 08 01:31:34 2021</td>\n",
       "      <td>Mon Feb 08 01:31:34 +0000 2021</td>\n",
       "      <td>NaT</td>\n",
       "    </tr>\n",
       "    <tr>\n",
       "      <th>1</th>\n",
       "      <td>1358589255782719490</td>\n",
       "      <td>2021-02-08 01:31:34</td>\n",
       "      <td>Mon Feb 08 01:31:34 2021</td>\n",
       "      <td>Mon Feb 08 01:31:34 +0000 2021</td>\n",
       "      <td>NaT</td>\n",
       "    </tr>\n",
       "    <tr>\n",
       "      <th>2</th>\n",
       "      <td>1358589256218906625</td>\n",
       "      <td>2021-02-08 01:31:34</td>\n",
       "      <td>Mon Feb 08 01:31:34 2021</td>\n",
       "      <td>Mon Feb 08 01:31:34 +0000 2021</td>\n",
       "      <td>NaT</td>\n",
       "    </tr>\n",
       "    <tr>\n",
       "      <th>3</th>\n",
       "      <td>1358589257548525571</td>\n",
       "      <td>2021-02-08 01:31:34</td>\n",
       "      <td>Mon Feb 08 01:31:34 2021</td>\n",
       "      <td>Mon Feb 08 01:31:35 +0000 2021</td>\n",
       "      <td>NaT</td>\n",
       "    </tr>\n",
       "    <tr>\n",
       "      <th>4</th>\n",
       "      <td>1358589259784028165</td>\n",
       "      <td>2021-02-08 01:31:34</td>\n",
       "      <td>Mon Feb 08 01:31:34 2021</td>\n",
       "      <td>Mon Feb 08 01:31:35 +0000 2021</td>\n",
       "      <td>NaT</td>\n",
       "    </tr>\n",
       "    <tr>\n",
       "      <th>...</th>\n",
       "      <td>...</td>\n",
       "      <td>...</td>\n",
       "      <td>...</td>\n",
       "      <td>...</td>\n",
       "      <td>...</td>\n",
       "    </tr>\n",
       "    <tr>\n",
       "      <th>1492</th>\n",
       "      <td>1358570146458193925</td>\n",
       "      <td>2021-02-08 01:31:34</td>\n",
       "      <td>Mon Feb 08 01:31:34 2021</td>\n",
       "      <td>Mon Feb 08 00:15:38 +0000 2021</td>\n",
       "      <td>NaT</td>\n",
       "    </tr>\n",
       "    <tr>\n",
       "      <th>1493</th>\n",
       "      <td>1358569997824573441</td>\n",
       "      <td>2021-02-08 01:31:34</td>\n",
       "      <td>Mon Feb 08 01:31:34 2021</td>\n",
       "      <td>Mon Feb 08 00:15:03 +0000 2021</td>\n",
       "      <td>NaT</td>\n",
       "    </tr>\n",
       "    <tr>\n",
       "      <th>1494</th>\n",
       "      <td>1358570001880518656</td>\n",
       "      <td>2021-02-08 01:31:34</td>\n",
       "      <td>Mon Feb 08 01:31:34 2021</td>\n",
       "      <td>Mon Feb 08 00:15:04 +0000 2021</td>\n",
       "      <td>NaT</td>\n",
       "    </tr>\n",
       "    <tr>\n",
       "      <th>1495</th>\n",
       "      <td>1358570005357617153</td>\n",
       "      <td>2021-02-08 01:31:34</td>\n",
       "      <td>Mon Feb 08 01:31:34 2021</td>\n",
       "      <td>Mon Feb 08 00:15:04 +0000 2021</td>\n",
       "      <td>NaT</td>\n",
       "    </tr>\n",
       "    <tr>\n",
       "      <th>1496</th>\n",
       "      <td>1358570006313893892</td>\n",
       "      <td>2021-02-08 01:31:34</td>\n",
       "      <td>Mon Feb 08 01:31:34 2021</td>\n",
       "      <td>Mon Feb 08 00:15:05 +0000 2021</td>\n",
       "      <td>NaT</td>\n",
       "    </tr>\n",
       "  </tbody>\n",
       "</table>\n",
       "<p>1497 rows × 5 columns</p>\n",
       "</div>"
      ],
      "text/plain": [
       "                 tweet_id                tmsp                     tmsp2  \\\n",
       "0     1358589255191248898 2021-02-08 01:31:34  Mon Feb 08 01:31:34 2021   \n",
       "1     1358589255782719490 2021-02-08 01:31:34  Mon Feb 08 01:31:34 2021   \n",
       "2     1358589256218906625 2021-02-08 01:31:34  Mon Feb 08 01:31:34 2021   \n",
       "3     1358589257548525571 2021-02-08 01:31:34  Mon Feb 08 01:31:34 2021   \n",
       "4     1358589259784028165 2021-02-08 01:31:34  Mon Feb 08 01:31:34 2021   \n",
       "...                   ...                 ...                       ...   \n",
       "1492  1358570146458193925 2021-02-08 01:31:34  Mon Feb 08 01:31:34 2021   \n",
       "1493  1358569997824573441 2021-02-08 01:31:34  Mon Feb 08 01:31:34 2021   \n",
       "1494  1358570001880518656 2021-02-08 01:31:34  Mon Feb 08 01:31:34 2021   \n",
       "1495  1358570005357617153 2021-02-08 01:31:34  Mon Feb 08 01:31:34 2021   \n",
       "1496  1358570006313893892 2021-02-08 01:31:34  Mon Feb 08 01:31:34 2021   \n",
       "\n",
       "                          created_at created_at_3  \n",
       "0     Mon Feb 08 01:31:34 +0000 2021          NaT  \n",
       "1     Mon Feb 08 01:31:34 +0000 2021          NaT  \n",
       "2     Mon Feb 08 01:31:34 +0000 2021          NaT  \n",
       "3     Mon Feb 08 01:31:35 +0000 2021          NaT  \n",
       "4     Mon Feb 08 01:31:35 +0000 2021          NaT  \n",
       "...                              ...          ...  \n",
       "1492  Mon Feb 08 00:15:38 +0000 2021          NaT  \n",
       "1493  Mon Feb 08 00:15:03 +0000 2021          NaT  \n",
       "1494  Mon Feb 08 00:15:04 +0000 2021          NaT  \n",
       "1495  Mon Feb 08 00:15:04 +0000 2021          NaT  \n",
       "1496  Mon Feb 08 00:15:05 +0000 2021          NaT  \n",
       "\n",
       "[1497 rows x 5 columns]"
      ]
     },
     "execution_count": 159,
     "metadata": {},
     "output_type": "execute_result"
    }
   ],
   "source": [
    "fact_tweet = (\n",
    "    tweets\n",
    "    .withColumn(\"tmsp3\", F.to_timestamp(\"tmsp2\", \"EEE MMM dd HH:mm:ss yyyy\"))\n",
    "    .withColumn(\"created_at_2\", F.regexp_replace(\"created_at\", \"\\+0000 \", \"\"))\n",
    "    .withColumn(\"created_at_3\", F.to_timestamp(\"created_at\", \"EEE MMM dd HH:mm:ss +xxxx yyyy\"))\n",
    "    .select(\n",
    "        \"tweet_id\",    \n",
    "        \"tmsp\",\n",
    "        \"tmsp2\",\n",
    "#         \"tmsp3\",\n",
    "        \"created_at\",\n",
    "#         \"created_at_2\",\n",
    "        \"created_at_3\",\n",
    "#         \"text\",    \n",
    "#         \"hashtags\",    \n",
    "#         \"retweet_count\",    \n",
    "#         \"possibly_sensitive\",    \n",
    "#         \"lang\",   \n",
    "#         \"user_id\",\n",
    "    )\n",
    ")\n",
    "fact_tweet.toPandas()"
   ]
  },
  {
   "cell_type": "code",
   "execution_count": 29,
   "metadata": {},
   "outputs": [],
   "source": [
    "dim_user = (\n",
    "    tweets\n",
    "    .select(\n",
    "         \"user_id\",\n",
    "         \"user_name\",\n",
    "         \"user_description\",\n",
    "         \"user_verification\",\n",
    "         \"user_followers_count\",\n",
    "         \"user_friends_count\",\n",
    "         \"user_created_at\",\n",
    "         \"user_location\",\n",
    "    )\n",
    ")"
   ]
  },
  {
   "cell_type": "code",
   "execution_count": null,
   "metadata": {},
   "outputs": [],
   "source": []
  }
 ],
 "metadata": {
  "kernelspec": {
   "display_name": "Python 3",
   "language": "python",
   "name": "python3"
  },
  "language_info": {
   "codemirror_mode": {
    "name": "ipython",
    "version": 3
   },
   "file_extension": ".py",
   "mimetype": "text/x-python",
   "name": "python",
   "nbconvert_exporter": "python",
   "pygments_lexer": "ipython3",
   "version": "3.8.3"
  }
 },
 "nbformat": 4,
 "nbformat_minor": 4
}
