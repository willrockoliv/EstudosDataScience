{
 "cells": [
  {
   "cell_type": "code",
   "execution_count": null,
   "metadata": {},
   "outputs": [],
   "source": [
    "from pyspark.sql import SparkSession\n",
    "from pyspark.sql.functions import *\n",
    "from pyspark.sql.types import *\n",
    "from pyspark.sql import functions as F\n",
    "\n",
    "def preprocessing(lines):\n",
    "    words = lines.select(explode(split(lines.value, \"t_end\")).alias(\"word\"))\n",
    "    words = words.na.replace('', None)\n",
    "    words = words.na.drop()\n",
    "    # words = words.withColumn('word', F.regexp_replace('word', r'http\\S+', ''))\n",
    "    # words = words.withColumn('word', F.regexp_replace('word', '@\\w+', ''))\n",
    "    # words = words.withColumn('word', F.regexp_replace('word', '#', ''))\n",
    "    # words = words.withColumn('word', F.regexp_replace('word', 'RT', ''))\n",
    "    # words = words.withColumn('word', F.regexp_replace('word', ':', ''))\n",
    "    return words\n",
    "\n",
    "if __name__ == \"__main__\":\n",
    "    spark = SparkSession.builder.getOrCreate()\n",
    "\n",
    "    lines = spark.readStream.format(\"socket\").option(\"host\", \"localhost\").option(\"port\", 5555).load()\n",
    "    \n",
    "#     print(type(lines))\n",
    "\n",
    "    words = preprocessing(lines)\n",
    "    # # text classification to define polarity and subjectivity\n",
    "    # words = text_classification(words)\n",
    "\n",
    "    words = words.repartition(1)\n",
    "    query = words.writeStream.queryName(\"all_tweets\")\\\n",
    "        .outputMode(\"append\").format(\"parquet\")\\\n",
    "        .option(\"path\", \"./parc\")\\\n",
    "        .option(\"checkpointLocation\", \"./check\")\\\n",
    "        .trigger(processingTime='60 seconds').start()\n",
    "    query.awaitTermination()"
   ]
  },
  {
   "cell_type": "code",
   "execution_count": null,
   "metadata": {},
   "outputs": [],
   "source": []
  }
 ],
 "metadata": {
  "kernelspec": {
   "display_name": "Python 3",
   "language": "python",
   "name": "python3"
  },
  "language_info": {
   "codemirror_mode": {
    "name": "ipython",
    "version": 3
   },
   "file_extension": ".py",
   "mimetype": "text/x-python",
   "name": "python",
   "nbconvert_exporter": "python",
   "pygments_lexer": "ipython3",
   "version": "3.8.3"
  }
 },
 "nbformat": 4,
 "nbformat_minor": 4
}
