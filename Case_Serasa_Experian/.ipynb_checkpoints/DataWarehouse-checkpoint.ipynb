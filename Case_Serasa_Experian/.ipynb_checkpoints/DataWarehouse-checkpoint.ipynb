{
 "cells": [
  {
   "cell_type": "code",
   "execution_count": 164,
   "metadata": {},
   "outputs": [],
   "source": [
    "from pyspark import SparkContext\n",
    "from pyspark.sql import SparkSession\n",
    "from pyspark.sql import SQLContext\n",
    "from pyspark.sql import functions as F\n",
    "from pyspark.sql.types import *\n",
    "\n",
    "sc = SparkContext.getOrCreate()\n",
    "spark = SparkSession.builder.getOrCreate()\n",
    "sqlContext = SQLContext(sc)"
   ]
  },
  {
   "cell_type": "code",
   "execution_count": 165,
   "metadata": {},
   "outputs": [],
   "source": [
    "layer = 1\n",
    "table = \"tweets\"\n",
    "path = f\"./layer{layer}/{table}/\""
   ]
  },
  {
   "cell_type": "code",
   "execution_count": 166,
   "metadata": {},
   "outputs": [],
   "source": [
    "tweets = spark.read.parquet(path)"
   ]
  },
  {
   "cell_type": "code",
   "execution_count": 167,
   "metadata": {},
   "outputs": [
    {
     "data": {
      "text/plain": [
       "1497"
      ]
     },
     "execution_count": 167,
     "metadata": {},
     "output_type": "execute_result"
    }
   ],
   "source": [
    "tweets.count()"
   ]
  },
  {
   "cell_type": "code",
   "execution_count": 168,
   "metadata": {},
   "outputs": [
    {
     "data": {
      "text/plain": [
       "[StructField(tweet_id,StringType,true),\n",
       " StructField(created_at,StringType,true),\n",
       " StructField(text,StringType,true),\n",
       " StructField(hashtags,StringType,true),\n",
       " StructField(retweet_count,IntegerType,true),\n",
       " StructField(possibly_sensitive,BooleanType,true),\n",
       " StructField(lang,StringType,true),\n",
       " StructField(user_id,StringType,true),\n",
       " StructField(user_name,StringType,true),\n",
       " StructField(user_description,StringType,true),\n",
       " StructField(user_verification,BooleanType,true),\n",
       " StructField(user_followers_count,IntegerType,true),\n",
       " StructField(user_friends_count,IntegerType,true),\n",
       " StructField(user_created_at,StringType,true),\n",
       " StructField(user_location,StringType,true),\n",
       " StructField(etl_load,TimestampType,true),\n",
       " StructField(etl_load_partition_year,IntegerType,true),\n",
       " StructField(etl_load_partition_month,IntegerType,true),\n",
       " StructField(etl_load_partition_day,IntegerType,true),\n",
       " StructField(etl_load_partition_hour,IntegerType,true)]"
      ]
     },
     "execution_count": 168,
     "metadata": {},
     "output_type": "execute_result"
    }
   ],
   "source": [
    "list(tweets.schema)"
   ]
  },
  {
   "cell_type": "code",
   "execution_count": 209,
   "metadata": {},
   "outputs": [
    {
     "data": {
      "text/plain": [
       "'./layer2/fact_tweet/'"
      ]
     },
     "execution_count": 209,
     "metadata": {},
     "output_type": "execute_result"
    }
   ],
   "source": [
    "layer = 2\n",
    "table = \"fact_tweet\"\n",
    "path = f\"./layer{layer}/{table}/\""
   ]
  },
  {
   "cell_type": "code",
   "execution_count": 210,
   "metadata": {
    "scrolled": true
   },
   "outputs": [],
   "source": [
    "fact_tweet = (\n",
    "    tweets\n",
    "    .withColumn(\n",
    "        \"created_at\",\n",
    "        F.from_utc_timestamp(\n",
    "            F.to_timestamp(\n",
    "                F.regexp_replace(\n",
    "                    F.regexp_replace(\"created_at\", \"^[A-Za-z]{3} \", \"\"),\n",
    "                    \"\\+0000 \", \"\"),\n",
    "                \"MMM dd HH:mm:ss yyyy\"\n",
    "            ),\n",
    "            \"GMT-3\"\n",
    "        )\n",
    "    )\n",
    "    .withColumn(\n",
    "        \"hashtags\", \n",
    "        F.when(\n",
    "            F.col(\"hashtags\") != '',\n",
    "            F.regexp_replace(\"hashtags\", \",\\s$\", \"\")\n",
    "        )\n",
    "        .otherwise(None)\n",
    "    )\n",
    "    .withColumn(\"created_at_partition_year\", F.date_format(\"created_at\", \"yyyy\"))\n",
    "    .withColumn(\"created_at_partition_month\", F.date_format(\"created_at\", \"MM\"))\n",
    "    .withColumn(\"created_at_partition_day\", F.date_format(\"created_at\", \"dd\"))\n",
    "    .withColumn(\"created_at_partition_hour\", F.date_format(\"created_at\", \"HH\"))\n",
    "    .select(\n",
    "        \"tweet_id\",    \n",
    "        \"created_at\",\n",
    "        \"text\",\n",
    "        \"hashtags\",\n",
    "        F.col(\"retweet_count\").cast(IntegerType()),\n",
    "        F.col(\"possibly_sensitive\").cast(BooleanType()),\n",
    "        \"lang\",   \n",
    "        \"user_id\",\n",
    "        \"created_at_partition_year\",\n",
    "        \"created_at_partition_month\",\n",
    "        \"created_at_partition_day\",\n",
    "        \"created_at_partition_hour\",\n",
    "    )\n",
    ")\n",
    "\n",
    "fact_tweet.write\\\n",
    "          .partitionBy(\"created_at_partition_year\", \n",
    "                       \"created_at_partition_month\",\n",
    "                       \"created_at_partition_day\",\n",
    "                       \"created_at_partition_hour\",)\\\n",
    "          .format(\"parquet\")\\\n",
    "          .mode(\"append\")\\\n",
    "          .save(path)"
   ]
  },
  {
   "cell_type": "code",
   "execution_count": 29,
   "metadata": {},
   "outputs": [],
   "source": [
    "dim_user = (\n",
    "    tweets\n",
    "    .select(\n",
    "         \"user_id\",\n",
    "         \"user_name\",\n",
    "         \"user_description\",\n",
    "         \"user_verification\",\n",
    "         \"user_followers_count\",\n",
    "         \"user_friends_count\",\n",
    "         \"user_created_at\",\n",
    "         \"user_location\",\n",
    "    )\n",
    ")"
   ]
  },
  {
   "cell_type": "code",
   "execution_count": null,
   "metadata": {},
   "outputs": [],
   "source": []
  }
 ],
 "metadata": {
  "kernelspec": {
   "display_name": "Python 3",
   "language": "python",
   "name": "python3"
  },
  "language_info": {
   "codemirror_mode": {
    "name": "ipython",
    "version": 3
   },
   "file_extension": ".py",
   "mimetype": "text/x-python",
   "name": "python",
   "nbconvert_exporter": "python",
   "pygments_lexer": "ipython3",
   "version": "3.8.3"
  }
 },
 "nbformat": 4,
 "nbformat_minor": 4
}
