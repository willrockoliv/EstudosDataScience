{
 "cells": [
  {
   "cell_type": "code",
   "execution_count": 1,
   "metadata": {},
   "outputs": [],
   "source": [
    "grafo = {\n",
    "    1:[2,8,13,12],\n",
    "    2:[1,3,8,12],\n",
    "    3:[2,4,8,13],\n",
    "    4:[3,5,6,7,9,10,14],\n",
    "    5:[4,6,7,10],\n",
    "    6:[4,5,7,10,11],\n",
    "    7:[4,5,6,11],\n",
    "    8:[1,2,3,12,13],\n",
    "    9:[4,10,13,14,16],\n",
    "    10:[4,5,6,9,11,14,15],\n",
    "    11:[6,7,10,15,18],\n",
    "    12:[1,2,8,13,16],\n",
    "    13:[1,8,3,9,14,16],\n",
    "    14:[13,9,4,10,15,17,16],\n",
    "    15:[10,11,18,17,14],\n",
    "    16:[12,13,9,14,17],\n",
    "    17:[16,14,15,18],\n",
    "    18:[17,15,11]\n",
    "}"
   ]
  },
  {
   "cell_type": "code",
   "execution_count": 2,
   "metadata": {},
   "outputs": [],
   "source": [
    "\n",
    "def dfs_paths(graph, goal):\n",
    "    stack = [('1',['1'])]\n",
    "    paths = []\n",
    "    contador = 0\n",
    "    while stack and len(paths) < 5:\n",
    "        (vertex, path) = stack.pop()\n",
    "        for next in graph[vertex] - set(path):\n",
    "            if next == goal:\n",
    "                paths.append(path + [next])\n",
    "            else:\n",
    "                stack.append((next, path + [next]))\n",
    "    if len(paths) > 0:\n",
    "        return paths\n",
    "    else:\n",
    "        return 'Path not found!'\n",
    "\n"
   ]
  },
  {
   "cell_type": "markdown",
   "metadata": {},
   "source": [
    "# Leitura da Matriz de valores dos Caminhos (criada no Excel)"
   ]
  },
  {
   "cell_type": "code",
   "execution_count": 3,
   "metadata": {},
   "outputs": [],
   "source": [
    "import pandas as pd\n",
    "mapa_caminhos = pd.read_csv('mapa_de_caminhos.csv',sep=';',index_col='Unnamed: 0')\n",
    "mapa_caminhos.fillna(0,inplace=True)"
   ]
  },
  {
   "cell_type": "code",
   "execution_count": 4,
   "metadata": {},
   "outputs": [],
   "source": [
    "dicionario_valores_caminhos = mapa_caminhos\n",
    "dicionario_valores_caminhos = dicionario_valores_caminhos.to_dict()"
   ]
  },
  {
   "cell_type": "code",
   "execution_count": 5,
   "metadata": {},
   "outputs": [],
   "source": [
    "caminhos = dfs_paths(grafo,'13')"
   ]
  },
  {
   "cell_type": "code",
   "execution_count": 6,
   "metadata": {},
   "outputs": [
    {
     "data": {
      "text/plain": [
       "[['1', '13'],\n",
       " ['1', '12', '13'],\n",
       " ['1', '12', '16', '13'],\n",
       " ['1', '12', '16', '9', '13'],\n",
       " ['1', '12', '16', '9', '4', '3', '13']]"
      ]
     },
     "execution_count": 6,
     "metadata": {},
     "output_type": "execute_result"
    }
   ],
   "source": [
    "caminhos"
   ]
  },
  {
   "cell_type": "code",
   "execution_count": 7,
   "metadata": {},
   "outputs": [],
   "source": [
    "def calculaValorCaminho(caminhos):\n",
    "    valor_caminho = []\n",
    "    for caminho in caminhos:\n",
    "        valor = 0\n",
    "        for posicao_no in range(len(caminho)-1):\n",
    "            no_raiz = caminho[posicao_no]\n",
    "            no_destino = int(caminho[posicao_no+1])\n",
    "\n",
    "            valor+= dicionario_valores_caminhos[no_raiz][no_destino]\n",
    "        print(f'O caminho {caminho} tem o valor de {valor}')\n",
    "\n"
   ]
  },
  {
   "cell_type": "code",
   "execution_count": 8,
   "metadata": {},
   "outputs": [
    {
     "name": "stdout",
     "output_type": "stream",
     "text": [
      "O caminho ['1', '13'] tem o valor de 37.0\n",
      "O caminho ['1', '12', '13'] tem o valor de 56.0\n",
      "O caminho ['1', '12', '16', '13'] tem o valor de 91.0\n",
      "O caminho ['1', '12', '16', '9', '13'] tem o valor de 149.0\n",
      "O caminho ['1', '12', '16', '9', '4', '3', '13'] tem o valor de 217.0\n"
     ]
    }
   ],
   "source": [
    "calculaValorCaminho(caminhos)"
   ]
  }
 ],
 "metadata": {
  "kernelspec": {
   "display_name": "Python 3",
   "language": "python",
   "name": "python3"
  },
  "language_info": {
   "codemirror_mode": {
    "name": "ipython",
    "version": 3
   },
   "file_extension": ".py",
   "mimetype": "text/x-python",
   "name": "python",
   "nbconvert_exporter": "python",
   "pygments_lexer": "ipython3",
   "version": "3.7.3"
  }
 },
 "nbformat": 4,
 "nbformat_minor": 4
}
