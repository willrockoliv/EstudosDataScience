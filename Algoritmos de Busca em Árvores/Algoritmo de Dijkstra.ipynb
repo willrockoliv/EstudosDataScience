{
 "cells": [
  {
   "cell_type": "code",
   "execution_count": 200,
   "metadata": {},
   "outputs": [],
   "source": [
    "graph = {\n",
    "    1:{2:20, 8:29, 13:37, 12:29,},\n",
    "    2:{3:25, 8:28, 12:39, 1:20,},\n",
    "    3:{4:25, 13:54, 8:30, 2:25,},\n",
    "    4:{7:42, 6:32, 5:39, 10:33, 14:56, 9:23, 3:25,},\n",
    "    5:{4:39, 6:12, 7:26, 10:19,},\n",
    "    6:{4:32, 7:17, 11:30, 5:12, 10:35,},\n",
    "    7:{4:42, 6:17, 5:26, 11:38,},\n",
    "    8:{1:29, 2:28, 3:30, 13:22, 12:25,},\n",
    "    9:{4:23, 10:26, 14:37, 16:43, 13:34,},\n",
    "    10:{4:33, 6:35, 5:19, 11:24, 15:19, 14:30, 9:26,},\n",
    "    11:{6:30, 7:38, 10:24, 15:26, 18:36,},\n",
    "    12:{1:29, 2:39, 8:25, 13:27, 16:43,},\n",
    "    13:{12:27, 1:37, 8:22, 3:54, 9:34, 14:24, 16:19,},\n",
    "    14:{13:24, 9:37, 4:56, 10:30, 15:20, 17:17, 16:19,},\n",
    "    15:{10:19, 11:26, 18:21, 17:18, 14:20,},\n",
    "    16:{12:43, 13:19, 9:43, 14:19, 17:26,},\n",
    "    17:{16:26, 14:17, 15:18, 18:15,},\n",
    "    18:{17:15, 15:21, 11:36,},\n",
    "}"
   ]
  },
  {
   "cell_type": "code",
   "execution_count": 201,
   "metadata": {},
   "outputs": [],
   "source": [
    "import math \n",
    "\n",
    "INFINITY = math.inf\n",
    "UNDEFINED = -1\n",
    "vertices = []"
   ]
  },
  {
   "cell_type": "markdown",
   "metadata": {},
   "source": [
    "# Algoritmo de Dijkstra"
   ]
  },
  {
   "cell_type": "code",
   "execution_count": 202,
   "metadata": {},
   "outputs": [],
   "source": [
    "def FindPath(origin, destination):\n",
    "\n",
    "    dctCost = {}\n",
    "    dctPrevious = {}\n",
    "    lstUnvisited = []\n",
    "\n",
    "    # Todos os outros nodes terão como custo MAXIMUM e UNDEFINED como node anterior\n",
    "    for node in graph:\n",
    "        # O node de origem possui custo 0 e nenhum vértice anterior\n",
    "        if node == origin:\n",
    "            dctCost[node] = 0\n",
    "        else:\n",
    "            dctCost[node] = INFINITY\n",
    "\n",
    "        dctPrevious[node] = UNDEFINED\n",
    "        lstUnvisited.append(node)\n",
    "\n",
    "    def getNeighbors(node):\n",
    "        lstNeighbors = []\n",
    "        for nodeNeighbor in graph[node]:\n",
    "            lstNeighbors.append(nodeNeighbor)\n",
    "        return lstNeighbors\n",
    "\n",
    "    def Nearest():\n",
    "        minDist = INFINITY\n",
    "        minNode = -1\n",
    "\n",
    "        for node in lstUnvisited:\n",
    "            if dctCost[node] < minDist:\n",
    "                minDist = dctCost[node]\n",
    "                minNode = node\n",
    "\n",
    "        return minNode\n",
    "\n",
    "    def calculateTotalPathCost(lstPath):\n",
    "        totalPathCost = 0\n",
    "        for i,node in enumerate(lstPath):\n",
    "            if node != lstPath[-1]:\n",
    "                totalPathCost = totalPathCost + graph[node][lstPath[i+1]]\n",
    "        return totalCost\n",
    "    \n",
    "    def makePath(dctPrevious, node):\n",
    "        lstPath = []\n",
    "        lstPath.append(node)\n",
    "\n",
    "        while(dctPrevious[node] != UNDEFINED):\n",
    "            lstPath.append(dctPrevious[node])\n",
    "            node = dctPrevious[node]\n",
    "\n",
    "        lstPath.reverse()\n",
    "        totalPathCost = calculateTotalPathCost(lstPath)\n",
    "        \n",
    "        return {totalPathCost:lstPath}\n",
    "    \n",
    "    while(len(lstUnvisited) != 0):\n",
    "        nearestNode = Nearest()\n",
    "        if nearestNode != -1:\n",
    "            lstUnvisited.remove(nearestNode)\n",
    "        else:\n",
    "            nearestNode = lstUnvisited.pop(0)\n",
    "        print(nearestNode)\n",
    "        \n",
    "        for neighbor in getNeighbors(nearestNode):\n",
    "            totalCost = dctCost[nearestNode] + graph[nearestNode][neighbor]\n",
    "            if totalCost < dctCost[neighbor]:\n",
    "                dctCost[neighbor] = totalCost\n",
    "                dctPrevious[neighbor] = nearestNode\n",
    "        \n",
    "        if nearestNode == destination:\n",
    "            return makePath(dctPrevious, nearestNode)\n",
    "\n",
    "    print(\"não encontrado\")"
   ]
  },
  {
   "cell_type": "code",
   "execution_count": 204,
   "metadata": {
    "scrolled": false
   },
   "outputs": [
    {
     "name": "stdout",
     "output_type": "stream",
     "text": [
      "1\n",
      "2\n",
      "8\n"
     ]
    },
    {
     "data": {
      "text/plain": [
       "{54: [1, 8]}"
      ]
     },
     "execution_count": 204,
     "metadata": {},
     "output_type": "execute_result"
    }
   ],
   "source": [
    "FindPath(1,8)"
   ]
  },
  {
   "cell_type": "markdown",
   "metadata": {},
   "source": [
    "**Conclusão:** Não encontra o caminho mais curto"
   ]
  }
 ],
 "metadata": {
  "kernelspec": {
   "display_name": "Python 3",
   "language": "python",
   "name": "python3"
  },
  "language_info": {
   "codemirror_mode": {
    "name": "ipython",
    "version": 3
   },
   "file_extension": ".py",
   "mimetype": "text/x-python",
   "name": "python",
   "nbconvert_exporter": "python",
   "pygments_lexer": "ipython3",
   "version": "3.7.3"
  }
 },
 "nbformat": 4,
 "nbformat_minor": 2
}
