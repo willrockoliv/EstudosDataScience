{
 "cells": [
  {
   "cell_type": "code",
   "execution_count": 1,
   "metadata": {},
   "outputs": [],
   "source": [
    "#Crie um vetor ordenado com 100 números aleatórios entre 0 e 1000\n",
    "\n",
    "# dicas: - pode utilizar a função random.uniform da bibliteca numpy\n",
    "#        - para criar um vetor pode-se utilizar a função nativa range(n) e para ordená-lo a função sorted\n",
    "#\n",
    "\n",
    "#Esta será a sua ordenada"
   ]
  },
  {
   "cell_type": "code",
   "execution_count": 2,
   "metadata": {},
   "outputs": [],
   "source": [
    "import numpy as np\n",
    "\n",
    "x = np.random.uniform(0,1000,100)"
   ]
  },
  {
   "cell_type": "code",
   "execution_count": 3,
   "metadata": {},
   "outputs": [
    {
     "data": {
      "text/plain": [
       "array([639.20919212,  61.3671908 ,   1.94325801, 283.26078854,\n",
       "       411.55353409, 414.15536233,  48.45596476, 820.34009048,\n",
       "       753.20297557, 627.88725909, 255.48860484, 120.14164932,\n",
       "       882.0431427 , 638.14844701, 861.49736389, 694.62947167,\n",
       "       731.12681313, 496.09673782, 414.48156622, 588.06029277,\n",
       "       422.44228522, 925.70046889, 140.76759265, 922.27746722,\n",
       "       392.91469136, 395.80763387, 425.45857854, 399.75110278,\n",
       "       302.59776685, 873.54928361, 272.1178199 , 331.48426744,\n",
       "       517.90467611, 569.27724563, 285.63604079, 973.92809772,\n",
       "       239.62672329, 275.268545  , 249.65875479, 699.48494028,\n",
       "       929.99989807, 224.4420413 , 858.33227179, 926.59272522,\n",
       "       853.6590004 ,  84.34567898, 457.03427538, 262.4695837 ,\n",
       "       630.79579504, 195.8821937 , 824.46914895, 707.11234907,\n",
       "       782.12492117, 564.60054058, 559.96187073, 724.75968769,\n",
       "        66.58164023, 323.1890921 , 909.5583428 , 303.27226524,\n",
       "       169.94368425, 268.06304871, 957.87799961, 677.39500644,\n",
       "       171.02390442, 743.00875334, 528.57163216, 793.79740734,\n",
       "       656.24563073, 440.87504192, 165.53897844, 247.74850934,\n",
       "       406.3675093 , 733.83792939, 806.24046051, 961.39957719,\n",
       "       832.9615171 , 228.92310686,  20.90182565, 979.77400328,\n",
       "       955.9594084 , 461.2915596 , 652.7216332 , 604.96282677,\n",
       "       345.28795974,  93.41841374, 500.45634516, 967.20288155,\n",
       "       799.59277204, 949.46489812, 541.18051148, 684.41195746,\n",
       "       379.60399391, 363.32520936, 145.64020597, 831.24170618,\n",
       "       562.30068   , 398.18128404, 791.87820927, 878.69268042])"
      ]
     },
     "execution_count": 3,
     "metadata": {},
     "output_type": "execute_result"
    }
   ],
   "source": [
    "x"
   ]
  },
  {
   "cell_type": "code",
   "execution_count": 4,
   "metadata": {},
   "outputs": [],
   "source": [
    "#Para cada número da ordenada, crie um valor da absissa com a seguinte relação linear\n",
    "\n",
    "# fid(x) = b*x\n",
    "# onde b = 0.52156\n",
    "\n",
    "# dicas: - crie um novo vetor utilizando o vetor anterior\n",
    "#        - operações sobre um vetor podem ser feitas da seguinte forma:\n",
    "#               b = [x**2 for x in a], onde o vetor b contém o quadrado dos elementos do vetor a\n",
    "\n",
    "\n",
    "#Esta será a sua abscissa fiducial"
   ]
  },
  {
   "cell_type": "code",
   "execution_count": 5,
   "metadata": {},
   "outputs": [],
   "source": [
    "b = 0.52156\n",
    "fid = [b*i for i in x]"
   ]
  },
  {
   "cell_type": "code",
   "execution_count": 6,
   "metadata": {},
   "outputs": [
    {
     "data": {
      "text/plain": [
       "[333.38594624361923,\n",
       " 32.00667203345198,\n",
       " 1.0135256496673473,\n",
       " 147.7374968688291,\n",
       " 214.64986124159054,\n",
       " 216.00687077613625,\n",
       " 25.27269298209843,\n",
       " 427.85657759087763,\n",
       " 392.8405439394049,\n",
       " 327.48087885145515,\n",
       " 133.2526367410014,\n",
       " 62.66107862053137,\n",
       " 460.0384215061455,\n",
       " 332.8327040246043,\n",
       " 449.3225651113878,\n",
       " 362.290947244387,\n",
       " 381.3265006560146,\n",
       " 258.7442145747986,\n",
       " 216.17700567725643,\n",
       " 306.70872629733174,\n",
       " 220.32899827821623,\n",
       " 482.8083365533562,\n",
       " 73.41874562208451,\n",
       " 481.0230358031774,\n",
       " 204.9285864236689,\n",
       " 206.437429523536,\n",
       " 221.9021762210795,\n",
       " 208.49418516790615,\n",
       " 157.82289128059284,\n",
       " 455.60836436116546,\n",
       " 141.9257701461129,\n",
       " 172.8889345247237,\n",
       " 270.1183628713664,\n",
       " 296.9122402283714,\n",
       " 148.97633343698075,\n",
       " 507.96193864843707,\n",
       " 124.97971380154704,\n",
       " 143.5690623294104,\n",
       " 130.21202014701808,\n",
       " 364.8233654507745,\n",
       " 485.0507468389891,\n",
       " 117.05999106201425,\n",
       " 447.67177967639066,\n",
       " 483.27370176594104,\n",
       " 445.23438824972317,\n",
       " 43.991332326493186,\n",
       " 238.3707966654549,\n",
       " 136.89363607438582,\n",
       " 328.9978548588584,\n",
       " 102.16431694831513,\n",
       " 430.0101293280411,\n",
       " 368.8015167794142,\n",
       " 407.92507388324196,\n",
       " 294.47305794427757,\n",
       " 292.05371329867137,\n",
       " 378.0056627130742,\n",
       " 34.72632027609994,\n",
       " 168.56250287428747,\n",
       " 474.3892492685184,\n",
       " 158.17468265954187,\n",
       " 88.63582795919926,\n",
       " 139.81096368326106,\n",
       " 499.5908494757704,\n",
       " 353.3021395565417,\n",
       " 89.19922758732525,\n",
       " 387.52364539228887,\n",
       " 275.6818204676444,\n",
       " 414.0129757738535,\n",
       " 342.2714711617722,\n",
       " 229.94278686300188,\n",
       " 86.33850959599629,\n",
       " 129.21571253348307,\n",
       " 211.94503815166968,\n",
       " 382.74051045400336,\n",
       " 420.50277458525153,\n",
       " 501.4275634801302,\n",
       " 434.43940885668064,\n",
       " 119.39713561132788,\n",
       " 10.90155618398993,\n",
       " 511.0109291501409,\n",
       " 498.5901890461501,\n",
       " 240.59122582696997,\n",
       " 340.4334950093564,\n",
       " 315.52441193216333,\n",
       " 180.08838828312756,\n",
       " 48.723307868973606,\n",
       " 261.0180113817632,\n",
       " 504.45433490179505,\n",
       " 417.0356061876973,\n",
       " 495.2029122653594,\n",
       " 282.25810756729646,\n",
       " 356.9619005350426,\n",
       " 197.98625906489568,\n",
       " 189.4958961920332,\n",
       " 75.96010582593864,\n",
       " 433.5424242775462,\n",
       " 293.273542661288,\n",
       " 207.6754305039499,\n",
       " 413.0119988284511,\n",
       " 458.2909543982483]"
      ]
     },
     "execution_count": 6,
     "metadata": {},
     "output_type": "execute_result"
    }
   ],
   "source": [
    "fid"
   ]
  },
  {
   "cell_type": "code",
   "execution_count": 11,
   "metadata": {},
   "outputs": [
    {
     "data": {
      "text/plain": [
       "<matplotlib.legend.Legend at 0x22e72953d68>"
      ]
     },
     "execution_count": 11,
     "metadata": {},
     "output_type": "execute_result"
    },
    {
     "data": {
      "image/png": "[encoded data removed]",
      "text/plain": [
       "<Figure size 360x144 with 1 Axes>"
      ]
     },
     "metadata": {
      "needs_background": "light"
     },
     "output_type": "display_data"
    }
   ],
   "source": [
    "#Plote sua ordenada e sua abscissa fiducial (linha)\n",
    "\n",
    "# dicas: - Exemplo de gráfico com eixos x e y, como linha ou pontos\n",
    "\n",
    "import matplotlib.pyplot as plt\n",
    "f, ax1 = plt.subplots(figsize=(5, 2))\n",
    "# ax1.plot([1,2,3,4,5],[4,6,8,10,12], color='blue', linestyle='-', marker='', label='linha')\n",
    "ax1.plot(x, fid, color='blue', linestyle='-', marker='', label='linha')\n",
    "ax1.legend()"
   ]
  },
  {
   "cell_type": "code",
   "execution_count": 13,
   "metadata": {},
   "outputs": [],
   "source": [
    "#Para cada número da ordenada, crie um valor da absissa simulando uma medida experimental, com centro no valor fiducial e distribuição gaussiana com desvio padrão fixo\n",
    "\n",
    "# Y = fid(x)\n",
    "# onde desvio = 0.5\n",
    "\n",
    "# dicas: - crie um novo vetor em função do vetor fiducial\n",
    "#        - utilize a função random.normal da biblioteca numpy, onde\n",
    "#           random.normal(mu, sigma, N)\n",
    "#           por exemplo: random.normal(10, 0.2, 3) vai gerar três números randômicos em uma distriuição gaussiana\n",
    "#                                                  centralizada no número 10 com desvio padrão de 0.2\n",
    "\n",
    "\n",
    "#Esta será a sua abscissa experimental simulada"
   ]
  },
  {
   "cell_type": "code",
   "execution_count": 14,
   "metadata": {},
   "outputs": [],
   "source": [
    "Y = [np.random.normal(y, 0.5, 1)[0] for y in fid]"
   ]
  },
  {
   "cell_type": "code",
   "execution_count": 15,
   "metadata": {},
   "outputs": [
    {
     "data": {
      "text/plain": [
       "[333.7247228912094,\n",
       " 32.06292405789029,\n",
       " 1.5882975144467966,\n",
       " 147.29488776042479,\n",
       " 214.36692448563778,\n",
       " 216.32307570773955,\n",
       " 24.988415627069354,\n",
       " 428.42456156057466,\n",
       " 392.61662889829853,\n",
       " 327.230054616718,\n",
       " 133.21567776282487,\n",
       " 62.58855474424698,\n",
       " 460.7924940637348,\n",
       " 332.50097662182884,\n",
       " 449.68665125566264,\n",
       " 361.4060619542068,\n",
       " 381.0471883894755,\n",
       " 259.0240667486623,\n",
       " 216.7379656825784,\n",
       " 306.52557551099517,\n",
       " 220.291243435268,\n",
       " 482.6651548283643,\n",
       " 73.55270649345273,\n",
       " 480.72418754778647,\n",
       " 205.24222947776684,\n",
       " 206.16901070199827,\n",
       " 221.72590184520828,\n",
       " 208.84853757398093,\n",
       " 157.58079056013437,\n",
       " 455.74827067149624,\n",
       " 142.05199547552533,\n",
       " 173.58376232523142,\n",
       " 269.98771248404034,\n",
       " 297.3637182140244,\n",
       " 148.7319011991739,\n",
       " 507.2940522404152,\n",
       " 124.526072280561,\n",
       " 143.50117974720058,\n",
       " 130.68226450538893,\n",
       " 365.04518234450717,\n",
       " 485.15078272221774,\n",
       " 117.41829611493023,\n",
       " 447.58363570329976,\n",
       " 483.2378026888728,\n",
       " 444.992398367343,\n",
       " 44.47731307883332,\n",
       " 237.86125394669028,\n",
       " 137.0570179543953,\n",
       " 328.5558434540641,\n",
       " 102.41817030788219,\n",
       " 430.20415451009086,\n",
       " 367.9409465193261,\n",
       " 407.7361302811903,\n",
       " 294.45471545503773,\n",
       " 292.0518796146438,\n",
       " 377.4541822125514,\n",
       " 34.82078636491404,\n",
       " 167.67626406239415,\n",
       " 474.8963643792134,\n",
       " 157.69951362912047,\n",
       " 88.45347295300955,\n",
       " 139.45169635203197,\n",
       " 499.8275690208781,\n",
       " 352.66424540755435,\n",
       " 89.11861369463008,\n",
       " 387.1551839075148,\n",
       " 275.97434091156964,\n",
       " 414.108551954288,\n",
       " 342.20773166306316,\n",
       " 230.05472576563008,\n",
       " 86.62192686074694,\n",
       " 129.9840165501433,\n",
       " 212.2387129563951,\n",
       " 382.01628896696593,\n",
       " 420.18252750546617,\n",
       " 501.3603608306386,\n",
       " 434.5335001618342,\n",
       " 118.8215104969615,\n",
       " 10.91597773441248,\n",
       " 511.5542816968643,\n",
       " 497.98116660500926,\n",
       " 240.11786424629958,\n",
       " 340.0879595117772,\n",
       " 315.59465662126985,\n",
       " 179.4489731600696,\n",
       " 48.473614464203855,\n",
       " 260.49620884413855,\n",
       " 504.40393798130873,\n",
       " 416.85087360260377,\n",
       " 495.10361014152636,\n",
       " 281.4998271628978,\n",
       " 357.47414039884075,\n",
       " 197.5951073256456,\n",
       " 189.7106962748796,\n",
       " 75.35084773307517,\n",
       " 434.0437751843183,\n",
       " 293.41968156051894,\n",
       " 208.4161048645606,\n",
       " 413.47707074817555,\n",
       " 458.81396052183413]"
      ]
     },
     "execution_count": 15,
     "metadata": {},
     "output_type": "execute_result"
    }
   ],
   "source": [
    "Y"
   ]
  },
  {
   "cell_type": "code",
   "execution_count": 21,
   "metadata": {},
   "outputs": [
    {
     "data": {
      "text/plain": [
       "<matplotlib.legend.Legend at 0x22e73b510f0>"
      ]
     },
     "execution_count": 21,
     "metadata": {},
     "output_type": "execute_result"
    },
    {
     "data": {
      "image/png": "[encoded data removed]",
      "text/plain": [
       "<Figure size 720x360 with 1 Axes>"
      ]
     },
     "metadata": {
      "needs_background": "light"
     },
     "output_type": "display_data"
    }
   ],
   "source": [
    "#Plote sua ordenada e sua abscissa fiducial (pontos) sobreposta à abscissa esperimental simulada (linha)\n",
    "\n",
    "# dicas: - combine dois gráficos como no exemplo abaixo\n",
    "\n",
    "import matplotlib.pyplot as plt\n",
    "f, ax1 = plt.subplots(figsize=(10, 5))\n",
    "ax1.plot(x, fid, color='blue', linestyle='-', marker='', label='linha')\n",
    "ax1.plot(x, Y, color='red', linestyle='', marker='.', label='pontos')\n",
    "ax1.legend()\n",
    "# display(f)"
   ]
  },
  {
   "cell_type": "code",
   "execution_count": 22,
   "metadata": {},
   "outputs": [
    {
     "data": {
      "text/plain": [
       "[(0, 2), (1, 4), (2, 6), (3, 8)]"
      ]
     },
     "execution_count": 22,
     "metadata": {},
     "output_type": "execute_result"
    }
   ],
   "source": [
    "#Calcule o erro quadrático entre as absicissas fiducial e experimental simulada\n",
    "\n",
    "# dicas: - fórmula do erro quadrático médio: Erro = Soma(r**2)/n, onde r = Y[i] - fid[i]\n",
    "#        - pode utilizar a função nativa enumerate() pra gerar um índice para um vetor, exemplo:\n",
    "[(i,x) for i,x in enumerate([2,4,6,8])]                   \n"
   ]
  },
  {
   "cell_type": "code",
   "execution_count": 23,
   "metadata": {},
   "outputs": [
    {
     "data": {
      "text/plain": [
       "0.16201813436775356"
      ]
     },
     "execution_count": 23,
     "metadata": {},
     "output_type": "execute_result"
    }
   ],
   "source": [
    "aux = [(Y[i]-x)**2 for i,x in enumerate(fid)]\n",
    "\n",
    "# soma = 0\n",
    "\n",
    "# for n in aux:\n",
    "#   soma = soma + n\n",
    "\n",
    "# erro_quadratico = soma/len(aux)\n",
    "\n",
    "erro_quadratico = np.sum(aux)/len(aux)\n",
    "\n",
    "erro_quadratico"
   ]
  },
  {
   "cell_type": "code",
   "execution_count": 24,
   "metadata": {},
   "outputs": [],
   "source": [
    "#Use o método dos mínimos quadrados para obter uma reta que mais se aproxime dos pontos gerados na abscissa experimental simulada\n",
    "\n",
    "# dicas: - utilize um loop para testar vários valores de inclinação da reta (em passos de 0.1) e grave em um vetor o valor testado e o valor do erro quadrático\n",
    "#        - exemplo:\n",
    "a = []\n",
    "b = []\n",
    "for b0 in range(-10,10):\n",
    "  b0 = b0/10\n",
    "  b.append(b0)\n",
    "  a.append(b0**2)"
   ]
  },
  {
   "cell_type": "code",
   "execution_count": 25,
   "metadata": {},
   "outputs": [],
   "source": [
    "a = []\n",
    "b = []\n",
    "for b0 in range(-20,20):\n",
    "  b0 = b0/10\n",
    "  b.append(b0)\n",
    "  a.append(np.sum([(Y[i] - b0*n)**2 for i,n in enumerate(x)])/len(x))"
   ]
  },
  {
   "cell_type": "code",
   "execution_count": 26,
   "metadata": {},
   "outputs": [
    {
     "data": {
      "text/plain": [
       "[-2.0,\n",
       " -1.9,\n",
       " -1.8,\n",
       " -1.7,\n",
       " -1.6,\n",
       " -1.5,\n",
       " -1.4,\n",
       " -1.3,\n",
       " -1.2,\n",
       " -1.1,\n",
       " -1.0,\n",
       " -0.9,\n",
       " -0.8,\n",
       " -0.7,\n",
       " -0.6,\n",
       " -0.5,\n",
       " -0.4,\n",
       " -0.3,\n",
       " -0.2,\n",
       " -0.1,\n",
       " 0.0,\n",
       " 0.1,\n",
       " 0.2,\n",
       " 0.3,\n",
       " 0.4,\n",
       " 0.5,\n",
       " 0.6,\n",
       " 0.7,\n",
       " 0.8,\n",
       " 0.9,\n",
       " 1.0,\n",
       " 1.1,\n",
       " 1.2,\n",
       " 1.3,\n",
       " 1.4,\n",
       " 1.5,\n",
       " 1.6,\n",
       " 1.7,\n",
       " 1.8,\n",
       " 1.9]"
      ]
     },
     "execution_count": 26,
     "metadata": {},
     "output_type": "execute_result"
    }
   ],
   "source": [
    "b"
   ]
  },
  {
   "cell_type": "code",
   "execution_count": 27,
   "metadata": {},
   "outputs": [
    {
     "data": {
      "text/plain": [
       "[2299204.858191501,\n",
       " 2120452.9885455463,\n",
       " 1948933.649495577,\n",
       " 1784646.8410415917,\n",
       " 1627592.563183591,\n",
       " 1477770.8159215746,\n",
       " 1335181.5992555425,\n",
       " 1199824.9131854952,\n",
       " 1071700.7577114324,\n",
       " 950809.1328333541,\n",
       " 837150.0385512601,\n",
       " 730723.4748651508,\n",
       " 631529.4417750259,\n",
       " 539567.9392808854,\n",
       " 454838.9673827294,\n",
       " 377342.5260805581,\n",
       " 307078.6153743712,\n",
       " 244047.23526416867,\n",
       " 188248.38574995074,\n",
       " 139682.06683171727,\n",
       " 98348.27850946825,\n",
       " 64247.0207832038,\n",
       " 37378.2936529238,\n",
       " 17742.0971186283,\n",
       " 5338.431180317279,\n",
       " 167.29583799075724,\n",
       " 2228.6910916487236,\n",
       " 11522.616941291177,\n",
       " 28049.073386918142,\n",
       " 51808.06042852958,\n",
       " 82799.5780661255,\n",
       " 121023.62629970595,\n",
       " 166480.20512927082,\n",
       " 219169.31455482024,\n",
       " 279090.95457635407,\n",
       " 346245.12519387255,\n",
       " 420631.8264073754,\n",
       " 502251.05821686273,\n",
       " 591102.8206223346,\n",
       " 687187.1136237909]"
      ]
     },
     "execution_count": 27,
     "metadata": {},
     "output_type": "execute_result"
    }
   ],
   "source": [
    "a"
   ]
  },
  {
   "cell_type": "code",
   "execution_count": 18,
   "metadata": {},
   "outputs": [],
   "source": [
    "#Plot a curva de verossimilhança do teste anterior"
   ]
  },
  {
   "cell_type": "code",
   "execution_count": 28,
   "metadata": {},
   "outputs": [
    {
     "data": {
      "text/plain": [
       "<matplotlib.legend.Legend at 0x22e73bbe400>"
      ]
     },
     "execution_count": 28,
     "metadata": {},
     "output_type": "execute_result"
    },
    {
     "data": {
      "image/png": "[encoded data removed]",
      "text/plain": [
       "<Figure size 720x360 with 1 Axes>"
      ]
     },
     "metadata": {
      "needs_background": "light"
     },
     "output_type": "display_data"
    }
   ],
   "source": [
    "#  Curva de verosemelhança\n",
    "# o x mais proximo de y=0 é o menor erro\n",
    "\n",
    "import matplotlib.pyplot as plt\n",
    "f, ax1 = plt.subplots(figsize=(10, 5))\n",
    "ax1.plot(b, a, color='blue', linestyle='-', marker='', label='linha')\n",
    "ax1.legend()\n",
    "# display(f)\n"
   ]
  },
  {
   "cell_type": "code",
   "execution_count": 29,
   "metadata": {},
   "outputs": [
    {
     "data": {
      "text/plain": [
       "3"
      ]
     },
     "execution_count": 29,
     "metadata": {},
     "output_type": "execute_result"
    }
   ],
   "source": [
    "#Encontre o valor de b0 que minimiza o erro\n",
    "#\n",
    "# dica:   - pode encontrar o índice do valor mínimo de uma lista e utilizar esse índice para encontrar o parâmetro em outra\n",
    "a = [1,2,3,4,5]\n",
    "b = [4,3,2,3,4]\n",
    "a[b.index(min(b))]\n",
    "\n",
    "#         - mais sofisticadamente, poderia ser utilizado interpolação e então encontrar o mínimo da função a partir da sua derivada"
   ]
  },
  {
   "cell_type": "code",
   "execution_count": 31,
   "metadata": {},
   "outputs": [
    {
     "data": {
      "text/plain": [
       "4"
      ]
     },
     "execution_count": 31,
     "metadata": {},
     "output_type": "execute_result"
    }
   ],
   "source": [
    "coeficiente_min = b[a.index(min(a))]\n",
    "\n",
    "coeficiente_min"
   ]
  },
  {
   "cell_type": "code",
   "execution_count": 22,
   "metadata": {},
   "outputs": [],
   "source": [
    "#Crie uma abscissa da sua estimativa a partir da melhor medida obtida pelo método anterior"
   ]
  },
  {
   "cell_type": "code",
   "execution_count": 32,
   "metadata": {},
   "outputs": [],
   "source": [
    "estimativa = [0.5*n for n in x]"
   ]
  },
  {
   "cell_type": "code",
   "execution_count": 24,
   "metadata": {},
   "outputs": [],
   "source": [
    "#Plote a abscissa simulatada (pontos pretos) sobreposta à abscissa fiducial (reta azul) e à abscissa experimental simulada (reta vermelha)\n",
    "\n",
    "# dicas: - combine três gráficos como no exemplo anterior"
   ]
  },
  {
   "cell_type": "code",
   "execution_count": 33,
   "metadata": {},
   "outputs": [
    {
     "data": {
      "text/plain": [
       "<matplotlib.legend.Legend at 0x22e73c5e438>"
      ]
     },
     "execution_count": 33,
     "metadata": {},
     "output_type": "execute_result"
    },
    {
     "data": {
      "image/png": "[encoded data removed]",
      "text/plain": [
       "<Figure size 720x360 with 1 Axes>"
      ]
     },
     "metadata": {
      "needs_background": "light"
     },
     "output_type": "display_data"
    }
   ],
   "source": [
    "#  Curva de verosemelhança\n",
    "# o x mais proximo de y=0 é o menor erro\n",
    "\n",
    "import matplotlib.pyplot as plt\n",
    "f, ax1 = plt.subplots(figsize=(10, 5))\n",
    "ax1.plot(x, fid, color='blue', linestyle='-', marker='', label='linha_fiducial')\n",
    "\n",
    "ax1.plot(x, Y, color='red', linestyle='', marker='.', label='medidas')\n",
    "\n",
    "ax1.plot(x, estimativa, color='black', linestyle='-', marker='', label='estimativa')\n",
    "\n",
    "ax1.legend()\n",
    "# display(f)"
   ]
  }
 ],
 "metadata": {
  "kernelspec": {
   "display_name": "Python 3",
   "language": "python",
   "name": "python3"
  },
  "language_info": {
   "codemirror_mode": {
    "name": "ipython",
    "version": 3
   },
   "file_extension": ".py",
   "mimetype": "text/x-python",
   "name": "python",
   "nbconvert_exporter": "python",
   "pygments_lexer": "ipython3",
   "version": "3.7.3"
  },
  "name": "Estatística 1 - Lab 1",
  "notebookId": 5506298
 },
 "nbformat": 4,
 "nbformat_minor": 1
}
