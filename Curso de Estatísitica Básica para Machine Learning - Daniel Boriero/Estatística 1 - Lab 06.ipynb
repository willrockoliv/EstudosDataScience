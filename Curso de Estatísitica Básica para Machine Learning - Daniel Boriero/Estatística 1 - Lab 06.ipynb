{
 "cells": [
  {
   "cell_type": "code",
   "execution_count": 1,
   "metadata": {},
   "outputs": [
    {
     "data": {
      "text/html": [
       "<style scoped>\n",
       "  .ansiout {\n",
       "    display: block;\n",
       "    unicode-bidi: embed;\n",
       "    white-space: pre-wrap;\n",
       "    word-wrap: break-word;\n",
       "    word-break: break-all;\n",
       "    font-family: \"Source Code Pro\", \"Menlo\", monospace;;\n",
       "    font-size: 13px;\n",
       "    color: #555;\n",
       "    margin-left: 4px;\n",
       "    line-height: 19px;\n",
       "  }\n",
       "</style>\n",
       "<div class=\"ansiout\"></div>"
      ]
     },
     "metadata": {},
     "output_type": "display_data"
    }
   ],
   "source": [
    "#Crie dois vetores ordenados com 500 números aleatórios distribuídos gaussianamente, sendo\n",
    "# 1. o primeiro com centro em 36 e desvio padrão de 4, o qual suporemos que é uma distribuição de idade\n",
    "# 2. o segundo com centro em 7000 e desvio padrão de 1000, o qual suporemos que é uma distribuição de renda\n",
    "\n",
    "\n",
    "# dicas: - pode utilizar a função random.normal(mu, sigma, N) da bibliteca numpy\n",
    "#        - para criar um vetor pode-se utilizar a função random.normal conforme exemplo\n",
    "\n",
    "#Esta será a sua distribuição experimental de idade e renda\n",
    "import numpy as np\n",
    "\n",
    "dados_exemplo = sorted([x for x in np.random.normal(5,1,500)])"
   ]
  },
  {
   "cell_type": "code",
   "execution_count": 2,
   "metadata": {},
   "outputs": [
    {
     "data": {
      "text/html": [
       "<style scoped>\n",
       "  .ansiout {\n",
       "    display: block;\n",
       "    unicode-bidi: embed;\n",
       "    white-space: pre-wrap;\n",
       "    word-wrap: break-word;\n",
       "    word-break: break-all;\n",
       "    font-family: \"Source Code Pro\", \"Menlo\", monospace;;\n",
       "    font-size: 13px;\n",
       "    color: #555;\n",
       "    margin-left: 4px;\n",
       "    line-height: 19px;\n",
       "  }\n",
       "</style>\n",
       "<div class=\"ansiout\"></div>"
      ]
     },
     "metadata": {},
     "output_type": "display_data"
    }
   ],
   "source": [
    "import numpy as np\n",
    "\n",
    "idade = sorted([x for x in np.random.normal(36,4,500)])\n",
    "renda = sorted([x for x in np.random.normal(7000,1000,500)])"
   ]
  },
  {
   "cell_type": "code",
   "execution_count": 3,
   "metadata": {},
   "outputs": [
    {
     "data": {
      "image/png": "[encoded data removed]"
     },
     "metadata": {},
     "output_type": "display_data"
    }
   ],
   "source": [
    "#Plote o histograma e o boxplot das distribuição experimental acima\n",
    "# dicas: - siga o exemplo abaixo para a construção de dados de frequência dada a distribuição\n",
    "#        - documentação: https://matplotlib.org/3.1.1/gallery/pyplots/boxplot_demo_pyplot.html#sphx-glr-gallery-pyplots-boxplot-demo-pyplot-py\n",
    "#        - pode criar uma segunda coluna em \"subplots\", por exemplo fazendo: f, ((ax1,ax2),(ax3,ax4)) = plt.subplots(2,2,figsize=(5, 4))\n",
    "\n",
    "# import matplotlib.pyplot as plt\n",
    "# f, ((ax1,ax2),(ax3,ax4)) = plt.subplots(2,1,figsize=(10, 4))\n",
    "\n",
    "# ax1.hist(idade,bins=20,density=True)\n",
    "# ax3.boxplot(idade,vert=False, showmeans=True)\n",
    "# ax3.set_xlabel('idade')\n",
    "\n",
    "# ax2.hist(renda,bins=20,density=True)\n",
    "# ax4.boxplot(renda,vert=False, showmeans=True)\n",
    "# ax4.set_xlabel('renda')\n",
    "\n",
    "# f.tight_layout()\n",
    "# display(f)\n",
    "\n",
    "import matplotlib.pyplot as plt\n",
    "f, ((ax1,ax2),(ax3,ax4)) = plt.subplots(2,2,figsize=(10, 4))\n",
    "\n",
    "ax1.hist(idade,bins=20,density=True)\n",
    "ax3.boxplot(idade,vert=False, showmeans=True)\n",
    "ax3.set_xlabel('idade')\n",
    "\n",
    "ax2.hist(renda,bins=20,density=True)\n",
    "ax4.boxplot(renda,vert=False, showmeans=True)\n",
    "ax4.set_xlabel('renda')\n",
    "\n",
    "f.tight_layout()\n",
    "display(f)"
   ]
  },
  {
   "cell_type": "code",
   "execution_count": 4,
   "metadata": {},
   "outputs": [
    {
     "data": {
      "text/html": [
       "<style scoped>\n",
       "  .ansiout {\n",
       "    display: block;\n",
       "    unicode-bidi: embed;\n",
       "    white-space: pre-wrap;\n",
       "    word-wrap: break-word;\n",
       "    word-break: break-all;\n",
       "    font-family: \"Source Code Pro\", \"Menlo\", monospace;;\n",
       "    font-size: 13px;\n",
       "    color: #555;\n",
       "    margin-left: 4px;\n",
       "    line-height: 19px;\n",
       "  }\n",
       "</style>\n",
       "<div class=\"ansiout\">Out[12]: [3, 3, 3, 3]</div>"
      ]
     },
     "metadata": {},
     "output_type": "display_data"
    }
   ],
   "source": [
    "#Suponha que cada elemento desses dois vetoes de renda e idade são do mesmo usuário e faça uma convulação, criando um terceiro vetor de score,\n",
    "#que a convulação seja um produto direto: score = idade*renda\n",
    "#\n",
    "#dica:   -pode-se usar o enumerate para ter acesso ao índice do vetor e fazer uma operação em outro vetor, por exemplo o código abaixo soma elemento a elemento de dois vetores\n",
    "a = [1,1,1,1]\n",
    "b = [2,2,2,2]\n",
    "c = [x+b[i] for i,x in enumerate(a)]\n",
    "c"
   ]
  },
  {
   "cell_type": "code",
   "execution_count": 5,
   "metadata": {},
   "outputs": [
    {
     "data": {
      "text/html": [
       "<style scoped>\n",
       "  .ansiout {\n",
       "    display: block;\n",
       "    unicode-bidi: embed;\n",
       "    white-space: pre-wrap;\n",
       "    word-wrap: break-word;\n",
       "    word-break: break-all;\n",
       "    font-family: \"Source Code Pro\", \"Menlo\", monospace;;\n",
       "    font-size: 13px;\n",
       "    color: #555;\n",
       "    margin-left: 4px;\n",
       "    line-height: 19px;\n",
       "  }\n",
       "</style>\n",
       "<div class=\"ansiout\"></div>"
      ]
     },
     "metadata": {},
     "output_type": "display_data"
    }
   ],
   "source": [
    "score = [x+renda[i] for i,x in enumerate(idade)]"
   ]
  },
  {
   "cell_type": "code",
   "execution_count": 6,
   "metadata": {},
   "outputs": [
    {
     "data": {
      "text/html": [
       "<style scoped>\n",
       "  .ansiout {\n",
       "    display: block;\n",
       "    unicode-bidi: embed;\n",
       "    white-space: pre-wrap;\n",
       "    word-wrap: break-word;\n",
       "    word-break: break-all;\n",
       "    font-family: \"Source Code Pro\", \"Menlo\", monospace;;\n",
       "    font-size: 13px;\n",
       "    color: #555;\n",
       "    margin-left: 4px;\n",
       "    line-height: 19px;\n",
       "  }\n",
       "</style>\n",
       "<div class=\"ansiout\"></div>"
      ]
     },
     "metadata": {},
     "output_type": "display_data"
    }
   ],
   "source": [
    "#Plote o histograma e o boxplot das distribuição de score resultante\n",
    "# dicas: - siga o exemplo abaixo para a construção de dados de frequência dada a distribuição\n",
    "#        - documentação: https://matplotlib.org/3.1.1/gallery/pyplots/boxplot_demo_pyplot.html#sphx-glr-gallery-pyplots-boxplot-demo-pyplot-py\n",
    "#        - pode criar uma segunda coluna em \"subplots\", por exemplo fazendo: f, ((ax1,ax2),(ax3,ax4)) = plt.subplots(2,2,figsize=(5, 4))\n",
    "\n",
    "# import matplotlib.pyplot as plt\n",
    "# f, (ax1,ax2) = plt.subplots(2,1,figsize=(5, 4))\n",
    "\n",
    "# ax1.hist(dados_exemplo,bins=20,density=True)\n",
    "# ax2.boxplot(dados_exemplo,vert=False, showmeans=True)\n",
    "# ax2.set_xlabel('valor')\n",
    "# f.tight_layout()\n",
    "# display(f)"
   ]
  },
  {
   "cell_type": "code",
   "execution_count": 7,
   "metadata": {},
   "outputs": [
    {
     "data": {
      "image/png": "[encoded data removed]"
     },
     "metadata": {},
     "output_type": "display_data"
    }
   ],
   "source": [
    "import matplotlib.pyplot as plt\n",
    "f, (ax1,ax2) = plt.subplots(2,1,figsize=(5, 4))\n",
    "\n",
    "ax1.hist(score,bins=20,density=True)\n",
    "ax2.boxplot(score,vert=False, showmeans=True)\n",
    "ax2.set_xlabel('score')\n",
    "f.tight_layout()\n",
    "display(f)"
   ]
  },
  {
   "cell_type": "code",
   "execution_count": 8,
   "metadata": {},
   "outputs": [
    {
     "data": {
      "text/html": [
       "<style scoped>\n",
       "  .ansiout {\n",
       "    display: block;\n",
       "    unicode-bidi: embed;\n",
       "    white-space: pre-wrap;\n",
       "    word-wrap: break-word;\n",
       "    word-break: break-all;\n",
       "    font-family: \"Source Code Pro\", \"Menlo\", monospace;;\n",
       "    font-size: 13px;\n",
       "    color: #555;\n",
       "    margin-left: 4px;\n",
       "    line-height: 19px;\n",
       "  }\n",
       "</style>\n",
       "<div class=\"ansiout\">Out[26]: 0.03563831404473943</div>"
      ]
     },
     "metadata": {},
     "output_type": "display_data"
    }
   ],
   "source": [
    "#Calcule a assimetria (skewness) de cada uma das distribuições de idade, renda e score, e também de uma quarta distribuição que seja o log da distribuição de score, e as compare\n",
    "#\n",
    "#dica: -pode usar a função \"skew\" da biblioteca scipy.stats como no exemplo abaixo para obter a \"skew\", ou a função \"skewtest\" para verificar se há relevância estatística no teste nulo de assimetria\n",
    "#      -o python usa o coeficiente de assimetria de segunda ordem de Pearson, ou seja, skew = 3(média-mediana)/\n",
    "#\n",
    "\n",
    "# import scipy.stats as st\n",
    "# st.skew(dados_exemplo)"
   ]
  },
  {
   "cell_type": "code",
   "execution_count": 9,
   "metadata": {},
   "outputs": [
    {
     "data": {
      "text/html": [
       "<style scoped>\n",
       "  .ansiout {\n",
       "    display: block;\n",
       "    unicode-bidi: embed;\n",
       "    white-space: pre-wrap;\n",
       "    word-wrap: break-word;\n",
       "    word-break: break-all;\n",
       "    font-family: \"Source Code Pro\", \"Menlo\", monospace;;\n",
       "    font-size: 13px;\n",
       "    color: #555;\n",
       "    margin-left: 4px;\n",
       "    line-height: 19px;\n",
       "  }\n",
       "</style>\n",
       "<div class=\"ansiout\">Out[30]: (-0.16597509441663177,\n",
       " -0.10765866032613024,\n",
       " -0.10793315984132779,\n",
       " -0.6479908639383811)</div>"
      ]
     },
     "metadata": {},
     "output_type": "display_data"
    }
   ],
   "source": [
    "import scipy.stats as st\n",
    "(st.skew(idade), st.skew(renda), st.skew(score), st.skew(np.log(score)))"
   ]
  },
  {
   "cell_type": "code",
   "execution_count": 10,
   "metadata": {},
   "outputs": [
    {
     "data": {
      "text/html": [
       "<style scoped>\n",
       "  .ansiout {\n",
       "    display: block;\n",
       "    unicode-bidi: embed;\n",
       "    white-space: pre-wrap;\n",
       "    word-wrap: break-word;\n",
       "    word-break: break-all;\n",
       "    font-family: \"Source Code Pro\", \"Menlo\", monospace;;\n",
       "    font-size: 13px;\n",
       "    color: #555;\n",
       "    margin-left: 4px;\n",
       "    line-height: 19px;\n",
       "  }\n",
       "</style>\n",
       "<div class=\"ansiout\">Out[31]: (SkewtestResult(statistic=-1.5271373730325306, pvalue=0.1267268553343264),\n",
       " SkewtestResult(statistic=-0.9942791032238887, pvalue=0.32008700627285025),\n",
       " SkewtestResult(statistic=-0.996800298690204, pvalue=0.3188614532647218),\n",
       " SkewtestResult(statistic=-5.519902088650292, pvalue=3.3918860415077977e-08))</div>"
      ]
     },
     "metadata": {},
     "output_type": "display_data"
    }
   ],
   "source": [
    "import scipy.stats as st\n",
    "(st.skewtest(idade), st.skewtest(renda), st.skewtest(score), st.skewtest(np.log(score)))"
   ]
  },
  {
   "cell_type": "code",
   "execution_count": 11,
   "metadata": {},
   "outputs": [
    {
     "data": {
      "text/html": [
       "<style scoped>\n",
       "  .ansiout {\n",
       "    display: block;\n",
       "    unicode-bidi: embed;\n",
       "    white-space: pre-wrap;\n",
       "    word-wrap: break-word;\n",
       "    word-break: break-all;\n",
       "    font-family: \"Source Code Pro\", \"Menlo\", monospace;;\n",
       "    font-size: 13px;\n",
       "    color: #555;\n",
       "    margin-left: 4px;\n",
       "    line-height: 19px;\n",
       "  }\n",
       "</style>\n",
       "<div class=\"ansiout\"></div>"
      ]
     },
     "metadata": {},
     "output_type": "display_data"
    }
   ],
   "source": [
    "#Caso a distribuição do score tenha uma assimetria que impeça de fazer um ajuste com uma normal, tente ajustar essa distribuição com uma lognormal\n",
    "#\n",
    "#dicas:  -faça uso da função \"lognorm\" e método \"fit\" da biblioteca \"scipy.stats\" como no exemplo abaixo\n",
    "#        -documentação: https://docs.scipy.org/doc/scipy/reference/generated/scipy.stats.lognorm.html\n",
    "\n",
    "# import scipy.stats as st\n",
    "# mu, sigma, k = st.lognorm.fit(dados_exemplo)"
   ]
  },
  {
   "cell_type": "code",
   "execution_count": 12,
   "metadata": {},
   "outputs": [
    {
     "data": {
      "text/html": [
       "<style scoped>\n",
       "  .ansiout {\n",
       "    display: block;\n",
       "    unicode-bidi: embed;\n",
       "    white-space: pre-wrap;\n",
       "    word-wrap: break-word;\n",
       "    word-break: break-all;\n",
       "    font-family: \"Source Code Pro\", \"Menlo\", monospace;;\n",
       "    font-size: 13px;\n",
       "    color: #555;\n",
       "    margin-left: 4px;\n",
       "    line-height: 19px;\n",
       "  }\n",
       "</style>\n",
       "<div class=\"ansiout\"></div>"
      ]
     },
     "metadata": {},
     "output_type": "display_data"
    }
   ],
   "source": [
    "#Plote o histograma e o boxplot das distribuição de score resultante, em conjunto com a distribuição do melhor ajuste\n",
    "# dicas: - siga o exemplo abaixo para a construção de dados de frequência dada a distribuição\n",
    "#        - documentação: https://matplotlib.org/3.1.1/gallery/pyplots/boxplot_demo_pyplot.html#sphx-glr-gallery-pyplots-boxplot-demo-pyplot-py\n",
    "#        - a partir dos parâmetros obtidos, pode obter uma distribuição que seja exatamente definida pelo parâmetros do melhor ajuste utilizando o método \"lognorm(mu,sigma,x)\" também da scipy.stats, e\n",
    "#          que no exemplo abaixo é feito para a normal\n",
    "\n",
    "# import matplotlib.pyplot as plt\n",
    "# import numpy as np\n",
    "\n",
    "# f, (ax1,ax2) = plt.subplots(2,1,figsize=(5, 4))\n",
    "\n",
    "# mu, sigma, scale = st.lognorm.fit(dados_exemplo)\n",
    "# x = np.linspace(np.min(dados_exemplo), np.max(dados_exemplo), 100)\n",
    "# dados_melhor_ajuste = st.lognorm.pdf(x,mu,sigma,scale)\n",
    "\n",
    "# ax1.hist(dados_exemplo,bins=20,density=True)\n",
    "# ax1.plot(x,dados_melhor_ajuste)\n",
    "\n",
    "# ax2.boxplot(dados_exemplo,vert=False, showmeans=True)\n",
    "# ax2.set_xlabel('valor')\n",
    "# f.tight_layout()\n",
    "# display(f)"
   ]
  },
  {
   "cell_type": "code",
   "execution_count": 13,
   "metadata": {},
   "outputs": [
    {
     "data": {
      "image/png": "[encoded data removed]"
     },
     "metadata": {},
     "output_type": "display_data"
    }
   ],
   "source": [
    "import scipy.stats as st\n",
    "mu, sigma, scale = st.lognorm.fit(score,loc=0)\n",
    "\n",
    "x = np.linspace(np.min(score), np.max(score), 100)\n",
    "dados_melhor_ajuste = st.lognorm.pdf(x,mu,sigma,scale)\n",
    "\n",
    "import matplotlib.pyplot as plt\n",
    "import numpy as np\n",
    "\n",
    "f, (ax1,ax2) = plt.subplots(2,1,figsize=(5, 4))\n",
    "\n",
    "ax1.hist(score,bins=20,density=True)\n",
    "ax1.plot(x,dados_melhor_ajuste)\n",
    "\n",
    "ax2.boxplot(score,vert=False, showmeans=True)\n",
    "ax2.set_xlabel('score')\n",
    "f.tight_layout()\n",
    "display(f)"
   ]
  },
  {
   "cell_type": "code",
   "execution_count": 14,
   "metadata": {},
   "outputs": [],
   "source": [
    "#Crie duas distirbuições randômicas do tipo Pareto com 5000 números cada, sendo que ambas começem em zero mas a primeira tenha o parâmetro de forma igual a 1.16 e 1.3\n",
    "#\n",
    "#dica:  -todas as distribuições contidas na biblioteca scipy.stat tem um gerador de números randômicos no formato da distribuição, esse método é o \"rvs\", \n",
    "#        como no exemplo abaixo para Pareto, onde o primeiro parâmetro é a forma, o segundo a posição inicial e o terceiro a quantidade de números\n",
    "import scipy.stats as st\n",
    "pareto = st.pareto.rvs(b=1.5,loc=1,scale=1,size=500)\n",
    "                    "
   ]
  },
  {
   "cell_type": "code",
   "execution_count": 15,
   "metadata": {},
   "outputs": [
    {
     "data": {
      "image/png": "[encoded data removed]"
     },
     "metadata": {},
     "output_type": "display_data"
    }
   ],
   "source": [
    "#Plote o histograma das duas distribuições\n",
    "#\n",
    "#dica:  - se a taxa de variação da distribuição for muito rápida, sempre pode utilizar o parâmetro \"log=True\" em um histograma\n",
    "import matplotlib.pyplot as plt\n",
    "import numpy as np\n",
    "\n",
    "f, ax1 = plt.subplots(figsize=(5, 4))\n",
    "\n",
    "ax1.hist(dados_exemplo,bins=20,density=True)\n",
    "ax1.hist(dados_exemplo,bins=20,density=True)\n",
    "\n",
    "f.tight_layout()\n",
    "display(f)\n"
   ]
  },
  {
   "cell_type": "code",
   "execution_count": 16,
   "metadata": {},
   "outputs": [
    {
     "data": {
      "text/html": [
       "<style scoped>\n",
       "  .ansiout {\n",
       "    display: block;\n",
       "    unicode-bidi: embed;\n",
       "    white-space: pre-wrap;\n",
       "    word-wrap: break-word;\n",
       "    word-break: break-all;\n",
       "    font-family: \"Source Code Pro\", \"Menlo\", monospace;;\n",
       "    font-size: 13px;\n",
       "    color: #555;\n",
       "    margin-left: 4px;\n",
       "    line-height: 19px;\n",
       "  }\n",
       "</style>\n",
       "<div class=\"ansiout\">/databricks/python/lib/python3.6/site-packages/scipy/stats/_distn_infrastructure.py:2381: RuntimeWarning: invalid value encountered in double_scalars\n",
       "  Lhat = muhat - Shat*mu\n",
       "</div>"
      ]
     },
     "metadata": {},
     "output_type": "display_data"
    }
   ],
   "source": [
    "#Tente ajustar essas distribuições com uma Pareto\n",
    "#\n",
    "#dicas:  -faça uso da função \"pareto\" e método \"fit\" da biblioteca \"scipy.stats\" como no exemplo abaixo\n",
    "#        -documentação: https://docs.scipy.org/doc/scipy/reference/generated/scipy.stats.pareto.html\n",
    "#        -algumas funções possuem muitas regiões indefinidas, então talvez seja necessário fixar alguns dos parâmetros para poder fazer um ajuste, como no exemplo abaixo\n",
    "\n",
    "import scipy.stats as st\n",
    "\n",
    "alpha, xm, scale = st.pareto.fit(pareto, loc=1, scale=1)"
   ]
  },
  {
   "cell_type": "code",
   "execution_count": 17,
   "metadata": {},
   "outputs": [
    {
     "data": {
      "image/png": "[encoded data removed]"
     },
     "metadata": {},
     "output_type": "display_data"
    }
   ],
   "source": [
    "#Plote a PDF do melhor ajuste das duas distribuições acima, utilizando o método \"pdf\" da função pareto da biblioteca scipy.stats, reduza os limites entre 5 e 100, para vizualizar melhor as diferenças\n",
    "#\n",
    "#dica:     -siga o exemplo abaixo:\n",
    "\n",
    "x = np.linspace(5, 100, 100)\n",
    "dados_melhor_ajuste = st.pareto.pdf(x,alpha, xm, scale)\n",
    "\n",
    "import matplotlib.pyplot as plt\n",
    "import numpy as np\n",
    "\n",
    "f, ax1 = plt.subplots(figsize=(5, 4))\n",
    "\n",
    "ax1.plot(x1,dados_melhor_ajuste1,label='alpha='+str(np.round(alpha1,2)))\n",
    "\n",
    "ax1.legend()\n",
    "f.tight_layout()\n",
    "display(f)\n"
   ]
  },
  {
   "cell_type": "code",
   "execution_count": 18,
   "metadata": {},
   "outputs": [],
   "source": [
    "#Se essas distribuições representam a distribiução de algum tipo de recurso em diferentes saídas (eg vendas por número de produtos de duas lojas diferentes), \n",
    "#qual das duas distribuições é a mais desigual? Quais os fatores de Gini dessas distribuições?"
   ]
  }
 ],
 "metadata": {
  "kernelspec": {
   "display_name": "Python 3",
   "language": "python",
   "name": "python3"
  },
  "language_info": {
   "codemirror_mode": {
    "name": "ipython",
    "version": 3
   },
   "file_extension": ".py",
   "mimetype": "text/x-python",
   "name": "python",
   "nbconvert_exporter": "python",
   "pygments_lexer": "ipython3",
   "version": "3.7.6"
  },
  "name": "Estatística 1 - Lab 6",
  "notebookId": 6150226
 },
 "nbformat": 4,
 "nbformat_minor": 1
}
