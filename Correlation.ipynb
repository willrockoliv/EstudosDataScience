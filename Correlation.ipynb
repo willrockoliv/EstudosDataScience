{
 "cells": [
  {
   "cell_type": "code",
   "execution_count": 1,
   "metadata": {},
   "outputs": [],
   "source": [
    "import pandas as pd\n",
    "import numpy as np\n",
    "import seaborn as sns"
   ]
  },
  {
   "cell_type": "code",
   "execution_count": 8,
   "metadata": {},
   "outputs": [
    {
     "data": {
      "text/html": [
       "<div>\n",
       "<style scoped>\n",
       "    .dataframe tbody tr th:only-of-type {\n",
       "        vertical-align: middle;\n",
       "    }\n",
       "\n",
       "    .dataframe tbody tr th {\n",
       "        vertical-align: top;\n",
       "    }\n",
       "\n",
       "    .dataframe thead th {\n",
       "        text-align: right;\n",
       "    }\n",
       "</style>\n",
       "<table border=\"1\" class=\"dataframe\">\n",
       "  <thead>\n",
       "    <tr style=\"text-align: right;\">\n",
       "      <th></th>\n",
       "      <th>0</th>\n",
       "      <th>1</th>\n",
       "      <th>2</th>\n",
       "      <th>3</th>\n",
       "    </tr>\n",
       "  </thead>\n",
       "  <tbody>\n",
       "    <tr>\n",
       "      <th>0</th>\n",
       "      <td>0.091976</td>\n",
       "      <td>0.919440</td>\n",
       "      <td>0.714154</td>\n",
       "      <td>0.432760</td>\n",
       "    </tr>\n",
       "    <tr>\n",
       "      <th>1</th>\n",
       "      <td>0.985715</td>\n",
       "      <td>0.640112</td>\n",
       "      <td>0.937505</td>\n",
       "      <td>0.142322</td>\n",
       "    </tr>\n",
       "    <tr>\n",
       "      <th>2</th>\n",
       "      <td>0.207184</td>\n",
       "      <td>0.220711</td>\n",
       "      <td>0.665442</td>\n",
       "      <td>0.290364</td>\n",
       "    </tr>\n",
       "    <tr>\n",
       "      <th>3</th>\n",
       "      <td>0.181025</td>\n",
       "      <td>0.925841</td>\n",
       "      <td>0.193075</td>\n",
       "      <td>0.735878</td>\n",
       "    </tr>\n",
       "    <tr>\n",
       "      <th>4</th>\n",
       "      <td>0.876747</td>\n",
       "      <td>0.005382</td>\n",
       "      <td>0.588499</td>\n",
       "      <td>0.881121</td>\n",
       "    </tr>\n",
       "    <tr>\n",
       "      <th>5</th>\n",
       "      <td>0.643031</td>\n",
       "      <td>0.865121</td>\n",
       "      <td>0.662577</td>\n",
       "      <td>0.125994</td>\n",
       "    </tr>\n",
       "    <tr>\n",
       "      <th>6</th>\n",
       "      <td>0.813687</td>\n",
       "      <td>0.323118</td>\n",
       "      <td>0.151201</td>\n",
       "      <td>0.770577</td>\n",
       "    </tr>\n",
       "    <tr>\n",
       "      <th>7</th>\n",
       "      <td>0.171878</td>\n",
       "      <td>0.397934</td>\n",
       "      <td>0.956992</td>\n",
       "      <td>0.961078</td>\n",
       "    </tr>\n",
       "    <tr>\n",
       "      <th>8</th>\n",
       "      <td>0.657605</td>\n",
       "      <td>0.785725</td>\n",
       "      <td>0.363875</td>\n",
       "      <td>0.815074</td>\n",
       "    </tr>\n",
       "    <tr>\n",
       "      <th>9</th>\n",
       "      <td>0.700923</td>\n",
       "      <td>0.118411</td>\n",
       "      <td>0.727681</td>\n",
       "      <td>0.662576</td>\n",
       "    </tr>\n",
       "  </tbody>\n",
       "</table>\n",
       "</div>"
      ],
      "text/plain": [
       "          0         1         2         3\n",
       "0  0.091976  0.919440  0.714154  0.432760\n",
       "1  0.985715  0.640112  0.937505  0.142322\n",
       "2  0.207184  0.220711  0.665442  0.290364\n",
       "3  0.181025  0.925841  0.193075  0.735878\n",
       "4  0.876747  0.005382  0.588499  0.881121\n",
       "5  0.643031  0.865121  0.662577  0.125994\n",
       "6  0.813687  0.323118  0.151201  0.770577\n",
       "7  0.171878  0.397934  0.956992  0.961078\n",
       "8  0.657605  0.785725  0.363875  0.815074\n",
       "9  0.700923  0.118411  0.727681  0.662576"
      ]
     },
     "execution_count": 8,
     "metadata": {},
     "output_type": "execute_result"
    }
   ],
   "source": [
    "x = np.random.rand(10)\n",
    "y = np.random.rand(10)\n",
    "z = np.random.rand(10)\n",
    "zz = np.random.rand(10)\n",
    "df = pd.DataFrame([x,y,z,zz]).T\n",
    "df"
   ]
  },
  {
   "cell_type": "code",
   "execution_count": 130,
   "metadata": {},
   "outputs": [
    {
     "data": {
      "image/png": "[encoded data removed]",
      "text/plain": [
       "<Figure size 432x288 with 2 Axes>"
      ]
     },
     "metadata": {
      "needs_background": "light"
     },
     "output_type": "display_data"
    }
   ],
   "source": [
    "def plot_corr(corr):\n",
    "    # Cortaremos a metade de cima pois é o espelho da metade de baixo\n",
    "    mask = np.zeros_like(corr, dtype=np.bool)\n",
    "    mask[np.triu_indices_from(mask, 1)] = True\n",
    "    sns.heatmap(corr, mask=mask, cmap='RdBu', square=True, linewidths=.5)\n",
    "\n",
    "plot_corr(df.corr())"
   ]
  }
 ],
 "metadata": {
  "kernelspec": {
   "display_name": "Python 3",
   "language": "python",
   "name": "python3"
  },
  "language_info": {
   "codemirror_mode": {
    "name": "ipython",
    "version": 3
   },
   "file_extension": ".py",
   "mimetype": "text/x-python",
   "name": "python",
   "nbconvert_exporter": "python",
   "pygments_lexer": "ipython3",
   "version": "3.8.3"
  }
 },
 "nbformat": 4,
 "nbformat_minor": 2
}
