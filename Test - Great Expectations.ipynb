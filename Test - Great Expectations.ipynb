{
 "cells": [
  {
   "cell_type": "code",
   "execution_count": 1,
   "metadata": {
    "scrolled": false
   },
   "outputs": [
    {
     "name": "stdout",
     "output_type": "stream",
     "text": [
      "Collecting great_expectations\n",
      "  Downloading https://files.pythonhosted.org/packages/22/30/bc4b7a93bba9a7f28e5643c6128ca3220fd2ef58d3cca5fd32222c7f62ed/great_expectations-0.11.8-py2.py3-none-any.whl (4.2MB)\n",
      "Collecting termcolor>=1.1.0 (from great_expectations)\n",
      "  Downloading https://files.pythonhosted.org/packages/8a/48/a76be51647d0eb9f10e2a4511bf3ffb8cc1e6b14e9e4fab46173aa79f981/termcolor-1.1.0.tar.gz\n",
      "Requirement already satisfied: scipy>=0.19.0 in c:\\programdata\\anaconda3\\lib\\site-packages (from great_expectations) (1.2.1)\n",
      "Requirement already satisfied: mistune>=0.8.4 in c:\\programdata\\anaconda3\\lib\\site-packages (from great_expectations) (0.8.4)\n",
      "Collecting marshmallow>3.0 (from great_expectations)\n",
      "  Downloading https://files.pythonhosted.org/packages/a6/11/f824483fcfc4164d733c0a242cc01f7e3b153561500a6a69bba217c9f0f6/marshmallow-3.7.1-py2.py3-none-any.whl (45kB)\n",
      "Requirement already satisfied: jinja2>=2.10 in c:\\programdata\\anaconda3\\lib\\site-packages (from great_expectations) (2.10)\n",
      "Requirement already satisfied: numpy>=1.14.1 in c:\\programdata\\anaconda3\\lib\\site-packages (from great_expectations) (1.18.4)\n",
      "Collecting pyparsing<3,>=2.4 (from great_expectations)\n",
      "  Downloading https://files.pythonhosted.org/packages/8a/bb/488841f56197b13700afd5658fc279a2025a39e22449b7cf29864669b15d/pyparsing-2.4.7-py2.py3-none-any.whl (67kB)\n",
      "Requirement already satisfied: pandas>=0.22.0 in c:\\programdata\\anaconda3\\lib\\site-packages (from great_expectations) (0.24.2)\n",
      "Collecting black==19.10b0 (from great_expectations)\n",
      "  Downloading https://files.pythonhosted.org/packages/fd/bb/ad34bbc93d1bea3de086d7c59e528d4a503ac8fe318bd1fa48605584c3d2/black-19.10b0-py36-none-any.whl (97kB)\n",
      "Collecting ruamel.yaml>=0.15.24 (from great_expectations)\n",
      "  Downloading https://files.pythonhosted.org/packages/a6/92/59af3e38227b9cc14520bf1e59516d99ceca53e3b8448094248171e9432b/ruamel.yaml-0.16.10-py2.py3-none-any.whl (111kB)\n",
      "Collecting Click>=7.1.2 (from great_expectations)\n",
      "  Downloading https://files.pythonhosted.org/packages/d2/3d/fa76db83bf75c4f8d338c2fd15c8d33fdd7ad23a9b5e57eb6c5de26b430e/click-7.1.2-py2.py3-none-any.whl (82kB)\n",
      "Collecting importlib-metadata>=1.7.0 (from great_expectations)\n",
      "  Downloading https://files.pythonhosted.org/packages/8e/58/cdea07eb51fc2b906db0968a94700866fc46249bdc75cac23f9d13168929/importlib_metadata-1.7.0-py2.py3-none-any.whl\n",
      "Requirement already satisfied: jsonschema>=2.5.1 in c:\\programdata\\anaconda3\\lib\\site-packages (from great_expectations) (3.0.1)\n",
      "Collecting ipywidgets>=7.5.1 (from great_expectations)\n",
      "  Downloading https://files.pythonhosted.org/packages/56/a0/dbcf5881bb2f51e8db678211907f16ea0a182b232c591a6d6f276985ca95/ipywidgets-7.5.1-py2.py3-none-any.whl (121kB)\n",
      "Requirement already satisfied: pytz>=2015.6 in c:\\programdata\\anaconda3\\lib\\site-packages (from great_expectations) (2018.9)\n",
      "Collecting python-dateutil>=2.8.1 (from great_expectations)\n",
      "  Downloading https://files.pythonhosted.org/packages/d4/70/d60450c3dd48ef87586924207ae8907090de0b306af2bce5d134d78615cb/python_dateutil-2.8.1-py2.py3-none-any.whl (227kB)\n",
      "Collecting tzlocal>=1.2 (from great_expectations)\n",
      "  Downloading https://files.pythonhosted.org/packages/5d/94/d47b0fd5988e6b7059de05720a646a2930920fff247a826f61674d436ba4/tzlocal-2.1-py2.py3-none-any.whl\n",
      "Collecting altair<5,>=4.0.0 (from great_expectations)\n",
      "  Downloading https://files.pythonhosted.org/packages/01/55/0bb2226e34f21fa549c3f4557b4f154a5632f61132a969da17c95ca8eab9/altair-4.1.0-py3-none-any.whl (727kB)\n",
      "Requirement already satisfied: requests<2.24,>=2.20 in c:\\programdata\\anaconda3\\lib\\site-packages (from great_expectations) (2.21.0)\n",
      "Requirement already satisfied: MarkupSafe>=0.23 in c:\\programdata\\anaconda3\\lib\\site-packages (from jinja2>=2.10->great_expectations) (1.1.1)\n",
      "Requirement already satisfied: attrs>=18.1.0 in c:\\programdata\\anaconda3\\lib\\site-packages (from black==19.10b0->great_expectations) (19.1.0)\n",
      "Collecting toml>=0.9.4 (from black==19.10b0->great_expectations)\n",
      "  Downloading https://files.pythonhosted.org/packages/9f/e1/1b40b80f2e1663a6b9f497123c11d7d988c0919abbf3c3f2688e448c5363/toml-0.10.1-py2.py3-none-any.whl\n",
      "Collecting regex (from black==19.10b0->great_expectations)\n",
      "  Downloading https://files.pythonhosted.org/packages/9c/d1/d2ecb51a8cb38c8278e77a2731c1366881e0dea9671f135d2625f15a73a4/regex-2020.7.14-cp37-cp37m-win_amd64.whl (268kB)\n",
      "Collecting pathspec<1,>=0.6 (from black==19.10b0->great_expectations)\n",
      "  Downloading https://files.pythonhosted.org/packages/5d/d0/887c58853bd4b6ffc7aa9cdba4fc57d7b979b45888a6bd47e4568e1cf868/pathspec-0.8.0-py2.py3-none-any.whl\n",
      "Collecting typed-ast>=1.4.0 (from black==19.10b0->great_expectations)\n",
      "  Downloading https://files.pythonhosted.org/packages/6d/6f/c67eed763bcc095d9187c7a04fdc3ba640d1e990368acfcb1d294ff71549/typed_ast-1.4.1-cp37-cp37m-win_amd64.whl (155kB)\n",
      "Collecting appdirs (from black==19.10b0->great_expectations)\n",
      "  Downloading https://files.pythonhosted.org/packages/3b/00/2344469e2084fb287c2e0b57b72910309874c3245463acd6cf5e3db69324/appdirs-1.4.4-py2.py3-none-any.whl\n",
      "Collecting ruamel.yaml.clib>=0.1.2; platform_python_implementation == \"CPython\" and python_version < \"3.9\" (from ruamel.yaml>=0.15.24->great_expectations)\n",
      "  Downloading https://files.pythonhosted.org/packages/df/b7/0a84f9a762282314a9df54c56aeec8c2b4f17404ee3d3a05faa76e27e006/ruamel.yaml.clib-0.2.0-cp37-cp37m-win_amd64.whl (118kB)\n",
      "Collecting zipp>=0.5 (from importlib-metadata>=1.7.0->great_expectations)\n",
      "  Downloading https://files.pythonhosted.org/packages/b2/34/bfcb43cc0ba81f527bc4f40ef41ba2ff4080e047acb0586b56b3d017ace4/zipp-3.1.0-py3-none-any.whl\n",
      "Requirement already satisfied: pyrsistent>=0.14.0 in c:\\programdata\\anaconda3\\lib\\site-packages (from jsonschema>=2.5.1->great_expectations) (0.14.11)\n",
      "Requirement already satisfied: setuptools in c:\\programdata\\anaconda3\\lib\\site-packages (from jsonschema>=2.5.1->great_expectations) (40.8.0)\n",
      "Requirement already satisfied: six>=1.11.0 in c:\\programdata\\anaconda3\\lib\\site-packages (from jsonschema>=2.5.1->great_expectations) (1.12.0)\n",
      "Collecting widgetsnbextension~=3.5.0 (from ipywidgets>=7.5.1->great_expectations)\n",
      "  Downloading https://files.pythonhosted.org/packages/6c/7b/7ac231c20d2d33c445eaacf8a433f4e22c60677eb9776c7c5262d7ddee2d/widgetsnbextension-3.5.1-py2.py3-none-any.whl (2.2MB)\n",
      "Requirement already satisfied: ipykernel>=4.5.1 in c:\\programdata\\anaconda3\\lib\\site-packages (from ipywidgets>=7.5.1->great_expectations) (5.1.0)\n",
      "Requirement already satisfied: ipython>=4.0.0; python_version >= \"3.3\" in c:\\programdata\\anaconda3\\lib\\site-packages (from ipywidgets>=7.5.1->great_expectations) (7.4.0)\n",
      "Requirement already satisfied: nbformat>=4.2.0 in c:\\programdata\\anaconda3\\lib\\site-packages (from ipywidgets>=7.5.1->great_expectations) (4.4.0)\n",
      "Requirement already satisfied: traitlets>=4.3.1 in c:\\programdata\\anaconda3\\lib\\site-packages (from ipywidgets>=7.5.1->great_expectations) (4.3.2)\n",
      "Requirement already satisfied: entrypoints in c:\\programdata\\anaconda3\\lib\\site-packages (from altair<5,>=4.0.0->great_expectations) (0.3)\n",
      "Requirement already satisfied: toolz in c:\\programdata\\anaconda3\\lib\\site-packages (from altair<5,>=4.0.0->great_expectations) (0.9.0)\n",
      "Requirement already satisfied: idna<2.9,>=2.5 in c:\\programdata\\anaconda3\\lib\\site-packages (from requests<2.24,>=2.20->great_expectations) (2.8)\n",
      "Requirement already satisfied: urllib3<1.25,>=1.21.1 in c:\\programdata\\anaconda3\\lib\\site-packages (from requests<2.24,>=2.20->great_expectations) (1.24.1)\n",
      "Requirement already satisfied: certifi>=2017.4.17 in c:\\programdata\\anaconda3\\lib\\site-packages (from requests<2.24,>=2.20->great_expectations) (2019.3.9)\n",
      "Requirement already satisfied: chardet<3.1.0,>=3.0.2 in c:\\programdata\\anaconda3\\lib\\site-packages (from requests<2.24,>=2.20->great_expectations) (3.0.4)\n",
      "Requirement already satisfied: notebook>=4.4.1 in c:\\programdata\\anaconda3\\lib\\site-packages (from widgetsnbextension~=3.5.0->ipywidgets>=7.5.1->great_expectations) (5.7.8)\n",
      "Requirement already satisfied: jupyter-client in c:\\programdata\\anaconda3\\lib\\site-packages (from ipykernel>=4.5.1->ipywidgets>=7.5.1->great_expectations) (5.2.4)\n",
      "Requirement already satisfied: tornado>=4.2 in c:\\programdata\\anaconda3\\lib\\site-packages (from ipykernel>=4.5.1->ipywidgets>=7.5.1->great_expectations) (6.0.2)\n",
      "Requirement already satisfied: prompt-toolkit<2.1.0,>=2.0.0 in c:\\programdata\\anaconda3\\lib\\site-packages (from ipython>=4.0.0; python_version >= \"3.3\"->ipywidgets>=7.5.1->great_expectations) (2.0.9)\n",
      "Requirement already satisfied: decorator in c:\\programdata\\anaconda3\\lib\\site-packages (from ipython>=4.0.0; python_version >= \"3.3\"->ipywidgets>=7.5.1->great_expectations) (4.4.0)\n",
      "Requirement already satisfied: jedi>=0.10 in c:\\programdata\\anaconda3\\lib\\site-packages (from ipython>=4.0.0; python_version >= \"3.3\"->ipywidgets>=7.5.1->great_expectations) (0.13.3)\n",
      "Requirement already satisfied: pickleshare in c:\\programdata\\anaconda3\\lib\\site-packages (from ipython>=4.0.0; python_version >= \"3.3\"->ipywidgets>=7.5.1->great_expectations) (0.7.5)\n",
      "Requirement already satisfied: colorama; sys_platform == \"win32\" in c:\\programdata\\anaconda3\\lib\\site-packages (from ipython>=4.0.0; python_version >= \"3.3\"->ipywidgets>=7.5.1->great_expectations) (0.4.1)\n",
      "Requirement already satisfied: backcall in c:\\programdata\\anaconda3\\lib\\site-packages (from ipython>=4.0.0; python_version >= \"3.3\"->ipywidgets>=7.5.1->great_expectations) (0.1.0)\n",
      "Requirement already satisfied: pygments in c:\\programdata\\anaconda3\\lib\\site-packages (from ipython>=4.0.0; python_version >= \"3.3\"->ipywidgets>=7.5.1->great_expectations) (2.3.1)\n",
      "Requirement already satisfied: jupyter-core in c:\\programdata\\anaconda3\\lib\\site-packages (from nbformat>=4.2.0->ipywidgets>=7.5.1->great_expectations) (4.4.0)\n",
      "Requirement already satisfied: ipython-genutils in c:\\programdata\\anaconda3\\lib\\site-packages (from nbformat>=4.2.0->ipywidgets>=7.5.1->great_expectations) (0.2.0)\n",
      "Requirement already satisfied: nbconvert in c:\\programdata\\anaconda3\\lib\\site-packages (from notebook>=4.4.1->widgetsnbextension~=3.5.0->ipywidgets>=7.5.1->great_expectations) (5.4.1)\n",
      "Requirement already satisfied: terminado>=0.8.1 in c:\\programdata\\anaconda3\\lib\\site-packages (from notebook>=4.4.1->widgetsnbextension~=3.5.0->ipywidgets>=7.5.1->great_expectations) (0.8.1)\n",
      "Requirement already satisfied: Send2Trash in c:\\programdata\\anaconda3\\lib\\site-packages (from notebook>=4.4.1->widgetsnbextension~=3.5.0->ipywidgets>=7.5.1->great_expectations) (1.5.0)\n",
      "Requirement already satisfied: pyzmq>=17 in c:\\programdata\\anaconda3\\lib\\site-packages (from notebook>=4.4.1->widgetsnbextension~=3.5.0->ipywidgets>=7.5.1->great_expectations) (18.0.0)\n",
      "Requirement already satisfied: prometheus-client in c:\\programdata\\anaconda3\\lib\\site-packages (from notebook>=4.4.1->widgetsnbextension~=3.5.0->ipywidgets>=7.5.1->great_expectations) (0.6.0)\n",
      "Requirement already satisfied: wcwidth in c:\\programdata\\anaconda3\\lib\\site-packages (from prompt-toolkit<2.1.0,>=2.0.0->ipython>=4.0.0; python_version >= \"3.3\"->ipywidgets>=7.5.1->great_expectations) (0.1.7)\n",
      "Requirement already satisfied: parso>=0.3.0 in c:\\programdata\\anaconda3\\lib\\site-packages (from jedi>=0.10->ipython>=4.0.0; python_version >= \"3.3\"->ipywidgets>=7.5.1->great_expectations) (0.3.4)\n",
      "Requirement already satisfied: bleach in c:\\programdata\\anaconda3\\lib\\site-packages (from nbconvert->notebook>=4.4.1->widgetsnbextension~=3.5.0->ipywidgets>=7.5.1->great_expectations) (3.1.0)\n",
      "Requirement already satisfied: pandocfilters>=1.4.1 in c:\\programdata\\anaconda3\\lib\\site-packages (from nbconvert->notebook>=4.4.1->widgetsnbextension~=3.5.0->ipywidgets>=7.5.1->great_expectations) (1.4.2)\n",
      "Requirement already satisfied: testpath in c:\\programdata\\anaconda3\\lib\\site-packages (from nbconvert->notebook>=4.4.1->widgetsnbextension~=3.5.0->ipywidgets>=7.5.1->great_expectations) (0.4.2)\n",
      "Requirement already satisfied: defusedxml in c:\\programdata\\anaconda3\\lib\\site-packages (from nbconvert->notebook>=4.4.1->widgetsnbextension~=3.5.0->ipywidgets>=7.5.1->great_expectations) (0.5.0)\n",
      "Requirement already satisfied: webencodings in c:\\programdata\\anaconda3\\lib\\site-packages (from bleach->nbconvert->notebook>=4.4.1->widgetsnbextension~=3.5.0->ipywidgets>=7.5.1->great_expectations) (0.5.1)\n",
      "Building wheels for collected packages: termcolor\n",
      "  Building wheel for termcolor (setup.py): started\n",
      "  Building wheel for termcolor (setup.py): finished with status 'done'\n",
      "  Stored in directory: C:\\Users\\William.Rocha\\AppData\\Local\\pip\\Cache\\wheels\\7c\\06\\54\\bc84598ba1daf8f970247f550b175aaaee85f68b4b0c5ab2c6\n",
      "Successfully built termcolor\n",
      "Installing collected packages: termcolor, marshmallow, pyparsing, toml, regex, Click, pathspec, typed-ast, appdirs, black, ruamel.yaml.clib, ruamel.yaml, zipp, importlib-metadata, widgetsnbextension, ipywidgets, python-dateutil, tzlocal, altair, great-expectations\n",
      "  Found existing installation: pyparsing 2.3.1\n",
      "    Uninstalling pyparsing-2.3.1:\n",
      "      Successfully uninstalled pyparsing-2.3.1\n",
      "  Found existing installation: Click 7.0\n",
      "    Uninstalling Click-7.0:\n",
      "      Successfully uninstalled Click-7.0\n",
      "  Found existing installation: zipp 0.3.3\n",
      "    Uninstalling zipp-0.3.3:\n",
      "      Successfully uninstalled zipp-0.3.3\n",
      "  Found existing installation: importlib-metadata 0.0.0\n",
      "    Uninstalling importlib-metadata-0.0.0:\n",
      "      Successfully uninstalled importlib-metadata-0.0.0\n",
      "  Found existing installation: widgetsnbextension 3.4.2\n",
      "    Uninstalling widgetsnbextension-3.4.2:\n",
      "      Successfully uninstalled widgetsnbextension-3.4.2\n",
      "  Found existing installation: ipywidgets 7.4.2\n",
      "    Uninstalling ipywidgets-7.4.2:\n",
      "      Successfully uninstalled ipywidgets-7.4.2\n",
      "  Found existing installation: python-dateutil 2.8.0\n",
      "    Uninstalling python-dateutil-2.8.0:\n",
      "      Successfully uninstalled python-dateutil-2.8.0\n",
      "Successfully installed Click-7.1.2 altair-4.1.0 appdirs-1.4.4 black-19.10b0 great-expectations-0.11.8 importlib-metadata-1.7.0 ipywidgets-7.5.1 marshmallow-3.7.1 pathspec-0.8.0 pyparsing-2.4.7 python-dateutil-2.8.1 regex-2020.7.14 ruamel.yaml-0.16.10 ruamel.yaml.clib-0.2.0 termcolor-1.1.0 toml-0.10.1 typed-ast-1.4.1 tzlocal-2.1 widgetsnbextension-3.5.1 zipp-3.1.0\n",
      "Note: you may need to restart the kernel to use updated packages.\n"
     ]
    }
   ],
   "source": [
    "pip install great_expectations"
   ]
  },
  {
   "cell_type": "code",
   "execution_count": 3,
   "metadata": {},
   "outputs": [],
   "source": [
    "import pandas as pd"
   ]
  },
  {
   "cell_type": "code",
   "execution_count": 4,
   "metadata": {},
   "outputs": [],
   "source": [
    "df = pd.read_csv(\"test_rendas.csv\")"
   ]
  },
  {
   "cell_type": "code",
   "execution_count": 9,
   "metadata": {},
   "outputs": [],
   "source": [
    "import great_expectations as ge"
   ]
  },
  {
   "cell_type": "code",
   "execution_count": 11,
   "metadata": {},
   "outputs": [],
   "source": [
    "my_df = ge.read_csv(\"test_rendas.csv\")"
   ]
  },
  {
   "cell_type": "code",
   "execution_count": 12,
   "metadata": {},
   "outputs": [
    {
     "name": "stdout",
     "output_type": "stream",
     "text": [
      "Help on function expect_column_values_to_be_in_set in module great_expectations.dataset.pandas_dataset:\n",
      "\n",
      "expect_column_values_to_be_in_set(self, column, value_set, mostly=None, parse_strings_as_datetimes=None, result_format=None, include_config=True, catch_exceptions=None, meta=None)\n",
      "    Expect each column value to be in a given set.\n",
      "    \n",
      "            For example:\n",
      "            ::\n",
      "    \n",
      "                # my_df.my_col = [1,2,2,3,3,3]\n",
      "                >>> my_df.expect_column_values_to_be_in_set(\n",
      "                    \"my_col\",\n",
      "                    [2,3]\n",
      "                )\n",
      "                {\n",
      "                  \"success\": false\n",
      "                  \"result\": {\n",
      "                    \"unexpected_count\": 1\n",
      "                    \"unexpected_percent\": 16.66666666666666666,\n",
      "                    \"unexpected_percent_nonmissing\": 16.66666666666666666,\n",
      "                    \"partial_unexpected_list\": [\n",
      "                      1\n",
      "                    ],\n",
      "                  },\n",
      "                }\n",
      "    \n",
      "            expect_column_values_to_be_in_set is a         :func:`column_map_expectation <great_expectations.dataset.dataset.MetaDataset.column_map_expectation>`.\n",
      "    \n",
      "            Args:\n",
      "                column (str):                 The column name.\n",
      "                value_set (set-like):                 A set of objects used for comparison.\n",
      "    \n",
      "            Keyword Args:\n",
      "                mostly (None or a float between 0 and 1):                 Return `\"success\": True` if at least mostly fraction of values match the expectation.                 For more detail, see :ref:`mostly`.\n",
      "                parse_strings_as_datetimes (boolean or None) : If True values provided in value_set will be parsed as                 datetimes before making comparisons.\n",
      "    \n",
      "            Other Parameters:\n",
      "                result_format (str or None):                 Which output mode to use: `BOOLEAN_ONLY`, `BASIC`, `COMPLETE`, or `SUMMARY`.\n",
      "                    For more detail, see :ref:`result_format <result_format>`.\n",
      "                include_config (boolean):                 If True, then include the expectation config as part of the result object.                 For more detail, see :ref:`include_config`.\n",
      "                catch_exceptions (boolean or None):                 If True, then catch exceptions and include them as part of the result object.                 For more detail, see :ref:`catch_exceptions`.\n",
      "                meta (dict or None):                 A JSON-serializable dictionary (nesting allowed) that will be included in the output without                 modification. For more detail, see :ref:`meta`.\n",
      "    \n",
      "            Returns:\n",
      "                An ExpectationSuiteValidationResult\n",
      "    \n",
      "                Exact fields vary depending on the values passed to :ref:`result_format <result_format>` and\n",
      "                :ref:`include_config`, :ref:`catch_exceptions`, and :ref:`meta`.\n",
      "    \n",
      "            See Also:\n",
      "                :func:`expect_column_values_to_not_be_in_set             <great_expectations.dataset.dataset.Dataset.expect_column_values_to_not_be_in_set>`\n",
      "\n"
     ]
    }
   ],
   "source": [
    "help(my_df.ex)"
   ]
  },
  {
   "cell_type": "code",
   "execution_count": null,
   "metadata": {},
   "outputs": [],
   "source": [
    "my_df.expect_column_values_to_be_in_set(\n",
    "    \"Sex\",\n",
    "    [\"male\", \"female\"]\n",
    ")"
   ]
  }
 ],
 "metadata": {
  "kernelspec": {
   "display_name": "Python 3",
   "language": "python",
   "name": "python3"
  },
  "language_info": {
   "codemirror_mode": {
    "name": "ipython",
    "version": 3
   },
   "file_extension": ".py",
   "mimetype": "text/x-python",
   "name": "python",
   "nbconvert_exporter": "python",
   "pygments_lexer": "ipython3",
   "version": "3.7.3"
  }
 },
 "nbformat": 4,
 "nbformat_minor": 2
}
